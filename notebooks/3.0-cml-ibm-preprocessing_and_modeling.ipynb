{
 "cells": [
  {
   "cell_type": "markdown",
   "id": "88ac2cfb",
   "metadata": {},
   "source": [
    "# IBM HR Analytics Employee Attrition Prediction\n",
    "\n",
    "# Pre-Processing, Training Data Development, and Modeling\n",
    "\n",
    "## By: Chris Le"
   ]
  },
  {
   "cell_type": "markdown",
   "id": "e76dc774",
   "metadata": {},
   "source": [
    "## Imports"
   ]
  },
  {
   "cell_type": "code",
   "execution_count": 1,
   "id": "25de5e18",
   "metadata": {},
   "outputs": [],
   "source": [
    "# Import relevant libraries and packages\n",
    "import pandas as pd\n",
    "import numpy as np\n",
    "import matplotlib.pyplot as plt\n",
    "import seaborn as sns\n",
    "import plotly.express as px\n",
    "\n",
    "# Libaries for pre-processing\n",
    "from sklearn.decomposition import PCA\n",
    "from sklearn.preprocessing import scale, StandardScaler, MinMaxScaler\n",
    "from sklearn.preprocessing import LabelEncoder, OneHotEncoder\n",
    "from sklearn.model_selection import train_test_split, cross_validate, GridSearchCV, RandomizedSearchCV, learning_curve\n",
    "from sklearn.dummy import DummyRegressor\n",
    "from sklearn.pipeline import make_pipeline\n",
    "\n",
    "# Libraries for modeling\n",
    "from sklearn.linear_model import LogisticRegression\n",
    "from sklearn.ensemble import RandomForestClassifier, GradientBoostingClassifier\n",
    "from xgboost import XGBClassifier\n",
    "from sklearn import feature_selection\n",
    "\n",
    "# Libraries for performance metrics\n",
    "from sklearn.metrics import confusion_matrix, classification_report, precision_recall_curve\n",
    "from sklearn.metrics import auc, roc_auc_score, roc_curve, recall_score, log_loss\n",
    "from sklearn.metrics import f1_score, accuracy_score, roc_auc_score, make_scorer\n",
    "from sklearn.metrics import average_precision_score\n",
    "\n",
    "# Suppress future warning messages\n",
    "import warnings\n",
    "warnings.simplefilter(action='ignore', category=FutureWarning)\n",
    "warnings.simplefilter(action='ignore', category=UserWarning)\n",
    "\n",
    "# Prepare the notebook for matplotlib and other libraries- show plots inline\n",
    "%matplotlib inline"
   ]
  },
  {
   "cell_type": "markdown",
   "id": "ff729aca",
   "metadata": {},
   "source": [
    "## Loading Data"
   ]
  },
  {
   "cell_type": "code",
   "execution_count": 2,
   "id": "bd2cf227",
   "metadata": {},
   "outputs": [],
   "source": [
    "# Load data and set parameter index_col=0, because first column contains no useful data. \n",
    "df = pd.read_csv('/Users/chrisle/Downloads/Employee_Attrition/data/interim/IBM_HR-Employee-Attrition_cleaned.csv', index_col=0)"
   ]
  },
  {
   "cell_type": "markdown",
   "id": "50d6c63a",
   "metadata": {},
   "source": [
    "## Explore Data"
   ]
  },
  {
   "cell_type": "code",
   "execution_count": 3,
   "id": "45957c2e",
   "metadata": {},
   "outputs": [
    {
     "data": {
      "text/html": [
       "<div>\n",
       "<style scoped>\n",
       "    .dataframe tbody tr th:only-of-type {\n",
       "        vertical-align: middle;\n",
       "    }\n",
       "\n",
       "    .dataframe tbody tr th {\n",
       "        vertical-align: top;\n",
       "    }\n",
       "\n",
       "    .dataframe thead th {\n",
       "        text-align: right;\n",
       "    }\n",
       "</style>\n",
       "<table border=\"1\" class=\"dataframe\">\n",
       "  <thead>\n",
       "    <tr style=\"text-align: right;\">\n",
       "      <th></th>\n",
       "      <th>Age</th>\n",
       "      <th>Attrition</th>\n",
       "      <th>BusinessTravel</th>\n",
       "      <th>DailyRate</th>\n",
       "      <th>Department</th>\n",
       "      <th>DistanceFromHome</th>\n",
       "      <th>Education</th>\n",
       "      <th>EducationField</th>\n",
       "      <th>EnvironmentSatisfaction</th>\n",
       "      <th>Gender</th>\n",
       "      <th>...</th>\n",
       "      <th>PerformanceRating</th>\n",
       "      <th>RelationshipSatisfaction</th>\n",
       "      <th>StockOptionLevel</th>\n",
       "      <th>TotalWorkingYears</th>\n",
       "      <th>TrainingTimesLastYear</th>\n",
       "      <th>WorkLifeBalance</th>\n",
       "      <th>YearsAtCompany</th>\n",
       "      <th>YearsInCurrentRole</th>\n",
       "      <th>YearsSinceLastPromotion</th>\n",
       "      <th>YearsWithCurrManager</th>\n",
       "    </tr>\n",
       "  </thead>\n",
       "  <tbody>\n",
       "    <tr>\n",
       "      <th>0</th>\n",
       "      <td>41</td>\n",
       "      <td>Yes</td>\n",
       "      <td>Travel_Rarely</td>\n",
       "      <td>1102</td>\n",
       "      <td>Sales</td>\n",
       "      <td>1</td>\n",
       "      <td>2</td>\n",
       "      <td>Life Sciences</td>\n",
       "      <td>2</td>\n",
       "      <td>Female</td>\n",
       "      <td>...</td>\n",
       "      <td>3</td>\n",
       "      <td>1</td>\n",
       "      <td>0</td>\n",
       "      <td>8</td>\n",
       "      <td>0</td>\n",
       "      <td>1</td>\n",
       "      <td>6</td>\n",
       "      <td>4</td>\n",
       "      <td>0</td>\n",
       "      <td>5</td>\n",
       "    </tr>\n",
       "    <tr>\n",
       "      <th>1</th>\n",
       "      <td>49</td>\n",
       "      <td>No</td>\n",
       "      <td>Travel_Frequently</td>\n",
       "      <td>279</td>\n",
       "      <td>Research &amp; Development</td>\n",
       "      <td>8</td>\n",
       "      <td>1</td>\n",
       "      <td>Life Sciences</td>\n",
       "      <td>3</td>\n",
       "      <td>Male</td>\n",
       "      <td>...</td>\n",
       "      <td>4</td>\n",
       "      <td>4</td>\n",
       "      <td>1</td>\n",
       "      <td>10</td>\n",
       "      <td>3</td>\n",
       "      <td>3</td>\n",
       "      <td>10</td>\n",
       "      <td>7</td>\n",
       "      <td>1</td>\n",
       "      <td>7</td>\n",
       "    </tr>\n",
       "    <tr>\n",
       "      <th>2</th>\n",
       "      <td>37</td>\n",
       "      <td>Yes</td>\n",
       "      <td>Travel_Rarely</td>\n",
       "      <td>1373</td>\n",
       "      <td>Research &amp; Development</td>\n",
       "      <td>2</td>\n",
       "      <td>2</td>\n",
       "      <td>Other</td>\n",
       "      <td>4</td>\n",
       "      <td>Male</td>\n",
       "      <td>...</td>\n",
       "      <td>3</td>\n",
       "      <td>2</td>\n",
       "      <td>0</td>\n",
       "      <td>7</td>\n",
       "      <td>3</td>\n",
       "      <td>3</td>\n",
       "      <td>0</td>\n",
       "      <td>0</td>\n",
       "      <td>0</td>\n",
       "      <td>0</td>\n",
       "    </tr>\n",
       "    <tr>\n",
       "      <th>3</th>\n",
       "      <td>33</td>\n",
       "      <td>No</td>\n",
       "      <td>Travel_Frequently</td>\n",
       "      <td>1392</td>\n",
       "      <td>Research &amp; Development</td>\n",
       "      <td>3</td>\n",
       "      <td>4</td>\n",
       "      <td>Life Sciences</td>\n",
       "      <td>4</td>\n",
       "      <td>Female</td>\n",
       "      <td>...</td>\n",
       "      <td>3</td>\n",
       "      <td>3</td>\n",
       "      <td>0</td>\n",
       "      <td>8</td>\n",
       "      <td>3</td>\n",
       "      <td>3</td>\n",
       "      <td>8</td>\n",
       "      <td>7</td>\n",
       "      <td>3</td>\n",
       "      <td>0</td>\n",
       "    </tr>\n",
       "    <tr>\n",
       "      <th>4</th>\n",
       "      <td>27</td>\n",
       "      <td>No</td>\n",
       "      <td>Travel_Rarely</td>\n",
       "      <td>591</td>\n",
       "      <td>Research &amp; Development</td>\n",
       "      <td>2</td>\n",
       "      <td>1</td>\n",
       "      <td>Medical</td>\n",
       "      <td>1</td>\n",
       "      <td>Male</td>\n",
       "      <td>...</td>\n",
       "      <td>3</td>\n",
       "      <td>4</td>\n",
       "      <td>1</td>\n",
       "      <td>6</td>\n",
       "      <td>3</td>\n",
       "      <td>3</td>\n",
       "      <td>2</td>\n",
       "      <td>2</td>\n",
       "      <td>2</td>\n",
       "      <td>2</td>\n",
       "    </tr>\n",
       "    <tr>\n",
       "      <th>5</th>\n",
       "      <td>32</td>\n",
       "      <td>No</td>\n",
       "      <td>Travel_Frequently</td>\n",
       "      <td>1005</td>\n",
       "      <td>Research &amp; Development</td>\n",
       "      <td>2</td>\n",
       "      <td>2</td>\n",
       "      <td>Life Sciences</td>\n",
       "      <td>4</td>\n",
       "      <td>Male</td>\n",
       "      <td>...</td>\n",
       "      <td>3</td>\n",
       "      <td>3</td>\n",
       "      <td>0</td>\n",
       "      <td>8</td>\n",
       "      <td>2</td>\n",
       "      <td>2</td>\n",
       "      <td>7</td>\n",
       "      <td>7</td>\n",
       "      <td>3</td>\n",
       "      <td>6</td>\n",
       "    </tr>\n",
       "    <tr>\n",
       "      <th>6</th>\n",
       "      <td>59</td>\n",
       "      <td>No</td>\n",
       "      <td>Travel_Rarely</td>\n",
       "      <td>1324</td>\n",
       "      <td>Research &amp; Development</td>\n",
       "      <td>3</td>\n",
       "      <td>3</td>\n",
       "      <td>Medical</td>\n",
       "      <td>3</td>\n",
       "      <td>Female</td>\n",
       "      <td>...</td>\n",
       "      <td>4</td>\n",
       "      <td>1</td>\n",
       "      <td>3</td>\n",
       "      <td>12</td>\n",
       "      <td>3</td>\n",
       "      <td>2</td>\n",
       "      <td>1</td>\n",
       "      <td>0</td>\n",
       "      <td>0</td>\n",
       "      <td>0</td>\n",
       "    </tr>\n",
       "    <tr>\n",
       "      <th>7</th>\n",
       "      <td>30</td>\n",
       "      <td>No</td>\n",
       "      <td>Travel_Rarely</td>\n",
       "      <td>1358</td>\n",
       "      <td>Research &amp; Development</td>\n",
       "      <td>24</td>\n",
       "      <td>1</td>\n",
       "      <td>Life Sciences</td>\n",
       "      <td>4</td>\n",
       "      <td>Male</td>\n",
       "      <td>...</td>\n",
       "      <td>4</td>\n",
       "      <td>2</td>\n",
       "      <td>1</td>\n",
       "      <td>1</td>\n",
       "      <td>2</td>\n",
       "      <td>3</td>\n",
       "      <td>1</td>\n",
       "      <td>0</td>\n",
       "      <td>0</td>\n",
       "      <td>0</td>\n",
       "    </tr>\n",
       "    <tr>\n",
       "      <th>8</th>\n",
       "      <td>38</td>\n",
       "      <td>No</td>\n",
       "      <td>Travel_Frequently</td>\n",
       "      <td>216</td>\n",
       "      <td>Research &amp; Development</td>\n",
       "      <td>23</td>\n",
       "      <td>3</td>\n",
       "      <td>Life Sciences</td>\n",
       "      <td>4</td>\n",
       "      <td>Male</td>\n",
       "      <td>...</td>\n",
       "      <td>4</td>\n",
       "      <td>2</td>\n",
       "      <td>0</td>\n",
       "      <td>10</td>\n",
       "      <td>2</td>\n",
       "      <td>3</td>\n",
       "      <td>9</td>\n",
       "      <td>7</td>\n",
       "      <td>1</td>\n",
       "      <td>8</td>\n",
       "    </tr>\n",
       "    <tr>\n",
       "      <th>9</th>\n",
       "      <td>36</td>\n",
       "      <td>No</td>\n",
       "      <td>Travel_Rarely</td>\n",
       "      <td>1299</td>\n",
       "      <td>Research &amp; Development</td>\n",
       "      <td>27</td>\n",
       "      <td>3</td>\n",
       "      <td>Medical</td>\n",
       "      <td>3</td>\n",
       "      <td>Male</td>\n",
       "      <td>...</td>\n",
       "      <td>3</td>\n",
       "      <td>2</td>\n",
       "      <td>2</td>\n",
       "      <td>17</td>\n",
       "      <td>3</td>\n",
       "      <td>2</td>\n",
       "      <td>7</td>\n",
       "      <td>7</td>\n",
       "      <td>7</td>\n",
       "      <td>7</td>\n",
       "    </tr>\n",
       "    <tr>\n",
       "      <th>10</th>\n",
       "      <td>35</td>\n",
       "      <td>No</td>\n",
       "      <td>Travel_Rarely</td>\n",
       "      <td>809</td>\n",
       "      <td>Research &amp; Development</td>\n",
       "      <td>16</td>\n",
       "      <td>3</td>\n",
       "      <td>Medical</td>\n",
       "      <td>1</td>\n",
       "      <td>Male</td>\n",
       "      <td>...</td>\n",
       "      <td>3</td>\n",
       "      <td>3</td>\n",
       "      <td>1</td>\n",
       "      <td>6</td>\n",
       "      <td>5</td>\n",
       "      <td>3</td>\n",
       "      <td>5</td>\n",
       "      <td>4</td>\n",
       "      <td>0</td>\n",
       "      <td>3</td>\n",
       "    </tr>\n",
       "    <tr>\n",
       "      <th>11</th>\n",
       "      <td>29</td>\n",
       "      <td>No</td>\n",
       "      <td>Travel_Rarely</td>\n",
       "      <td>153</td>\n",
       "      <td>Research &amp; Development</td>\n",
       "      <td>15</td>\n",
       "      <td>2</td>\n",
       "      <td>Life Sciences</td>\n",
       "      <td>4</td>\n",
       "      <td>Female</td>\n",
       "      <td>...</td>\n",
       "      <td>3</td>\n",
       "      <td>4</td>\n",
       "      <td>0</td>\n",
       "      <td>10</td>\n",
       "      <td>3</td>\n",
       "      <td>3</td>\n",
       "      <td>9</td>\n",
       "      <td>5</td>\n",
       "      <td>0</td>\n",
       "      <td>8</td>\n",
       "    </tr>\n",
       "    <tr>\n",
       "      <th>12</th>\n",
       "      <td>31</td>\n",
       "      <td>No</td>\n",
       "      <td>Travel_Rarely</td>\n",
       "      <td>670</td>\n",
       "      <td>Research &amp; Development</td>\n",
       "      <td>26</td>\n",
       "      <td>1</td>\n",
       "      <td>Life Sciences</td>\n",
       "      <td>1</td>\n",
       "      <td>Male</td>\n",
       "      <td>...</td>\n",
       "      <td>3</td>\n",
       "      <td>4</td>\n",
       "      <td>1</td>\n",
       "      <td>5</td>\n",
       "      <td>1</td>\n",
       "      <td>2</td>\n",
       "      <td>5</td>\n",
       "      <td>2</td>\n",
       "      <td>4</td>\n",
       "      <td>3</td>\n",
       "    </tr>\n",
       "    <tr>\n",
       "      <th>13</th>\n",
       "      <td>34</td>\n",
       "      <td>No</td>\n",
       "      <td>Travel_Rarely</td>\n",
       "      <td>1346</td>\n",
       "      <td>Research &amp; Development</td>\n",
       "      <td>19</td>\n",
       "      <td>2</td>\n",
       "      <td>Medical</td>\n",
       "      <td>2</td>\n",
       "      <td>Male</td>\n",
       "      <td>...</td>\n",
       "      <td>3</td>\n",
       "      <td>3</td>\n",
       "      <td>1</td>\n",
       "      <td>3</td>\n",
       "      <td>2</td>\n",
       "      <td>3</td>\n",
       "      <td>2</td>\n",
       "      <td>2</td>\n",
       "      <td>1</td>\n",
       "      <td>2</td>\n",
       "    </tr>\n",
       "    <tr>\n",
       "      <th>14</th>\n",
       "      <td>28</td>\n",
       "      <td>Yes</td>\n",
       "      <td>Travel_Rarely</td>\n",
       "      <td>103</td>\n",
       "      <td>Research &amp; Development</td>\n",
       "      <td>24</td>\n",
       "      <td>3</td>\n",
       "      <td>Life Sciences</td>\n",
       "      <td>3</td>\n",
       "      <td>Male</td>\n",
       "      <td>...</td>\n",
       "      <td>3</td>\n",
       "      <td>2</td>\n",
       "      <td>0</td>\n",
       "      <td>6</td>\n",
       "      <td>4</td>\n",
       "      <td>3</td>\n",
       "      <td>4</td>\n",
       "      <td>2</td>\n",
       "      <td>0</td>\n",
       "      <td>3</td>\n",
       "    </tr>\n",
       "  </tbody>\n",
       "</table>\n",
       "<p>15 rows × 31 columns</p>\n",
       "</div>"
      ],
      "text/plain": [
       "    Age Attrition     BusinessTravel  DailyRate              Department  \\\n",
       "0    41       Yes      Travel_Rarely       1102                   Sales   \n",
       "1    49        No  Travel_Frequently        279  Research & Development   \n",
       "2    37       Yes      Travel_Rarely       1373  Research & Development   \n",
       "3    33        No  Travel_Frequently       1392  Research & Development   \n",
       "4    27        No      Travel_Rarely        591  Research & Development   \n",
       "5    32        No  Travel_Frequently       1005  Research & Development   \n",
       "6    59        No      Travel_Rarely       1324  Research & Development   \n",
       "7    30        No      Travel_Rarely       1358  Research & Development   \n",
       "8    38        No  Travel_Frequently        216  Research & Development   \n",
       "9    36        No      Travel_Rarely       1299  Research & Development   \n",
       "10   35        No      Travel_Rarely        809  Research & Development   \n",
       "11   29        No      Travel_Rarely        153  Research & Development   \n",
       "12   31        No      Travel_Rarely        670  Research & Development   \n",
       "13   34        No      Travel_Rarely       1346  Research & Development   \n",
       "14   28       Yes      Travel_Rarely        103  Research & Development   \n",
       "\n",
       "    DistanceFromHome  Education EducationField  EnvironmentSatisfaction  \\\n",
       "0                  1          2  Life Sciences                        2   \n",
       "1                  8          1  Life Sciences                        3   \n",
       "2                  2          2          Other                        4   \n",
       "3                  3          4  Life Sciences                        4   \n",
       "4                  2          1        Medical                        1   \n",
       "5                  2          2  Life Sciences                        4   \n",
       "6                  3          3        Medical                        3   \n",
       "7                 24          1  Life Sciences                        4   \n",
       "8                 23          3  Life Sciences                        4   \n",
       "9                 27          3        Medical                        3   \n",
       "10                16          3        Medical                        1   \n",
       "11                15          2  Life Sciences                        4   \n",
       "12                26          1  Life Sciences                        1   \n",
       "13                19          2        Medical                        2   \n",
       "14                24          3  Life Sciences                        3   \n",
       "\n",
       "    Gender  ...  PerformanceRating  RelationshipSatisfaction  \\\n",
       "0   Female  ...                  3                         1   \n",
       "1     Male  ...                  4                         4   \n",
       "2     Male  ...                  3                         2   \n",
       "3   Female  ...                  3                         3   \n",
       "4     Male  ...                  3                         4   \n",
       "5     Male  ...                  3                         3   \n",
       "6   Female  ...                  4                         1   \n",
       "7     Male  ...                  4                         2   \n",
       "8     Male  ...                  4                         2   \n",
       "9     Male  ...                  3                         2   \n",
       "10    Male  ...                  3                         3   \n",
       "11  Female  ...                  3                         4   \n",
       "12    Male  ...                  3                         4   \n",
       "13    Male  ...                  3                         3   \n",
       "14    Male  ...                  3                         2   \n",
       "\n",
       "    StockOptionLevel TotalWorkingYears  TrainingTimesLastYear WorkLifeBalance  \\\n",
       "0                  0                 8                      0               1   \n",
       "1                  1                10                      3               3   \n",
       "2                  0                 7                      3               3   \n",
       "3                  0                 8                      3               3   \n",
       "4                  1                 6                      3               3   \n",
       "5                  0                 8                      2               2   \n",
       "6                  3                12                      3               2   \n",
       "7                  1                 1                      2               3   \n",
       "8                  0                10                      2               3   \n",
       "9                  2                17                      3               2   \n",
       "10                 1                 6                      5               3   \n",
       "11                 0                10                      3               3   \n",
       "12                 1                 5                      1               2   \n",
       "13                 1                 3                      2               3   \n",
       "14                 0                 6                      4               3   \n",
       "\n",
       "    YearsAtCompany  YearsInCurrentRole  YearsSinceLastPromotion  \\\n",
       "0                6                   4                        0   \n",
       "1               10                   7                        1   \n",
       "2                0                   0                        0   \n",
       "3                8                   7                        3   \n",
       "4                2                   2                        2   \n",
       "5                7                   7                        3   \n",
       "6                1                   0                        0   \n",
       "7                1                   0                        0   \n",
       "8                9                   7                        1   \n",
       "9                7                   7                        7   \n",
       "10               5                   4                        0   \n",
       "11               9                   5                        0   \n",
       "12               5                   2                        4   \n",
       "13               2                   2                        1   \n",
       "14               4                   2                        0   \n",
       "\n",
       "   YearsWithCurrManager  \n",
       "0                     5  \n",
       "1                     7  \n",
       "2                     0  \n",
       "3                     0  \n",
       "4                     2  \n",
       "5                     6  \n",
       "6                     0  \n",
       "7                     0  \n",
       "8                     8  \n",
       "9                     7  \n",
       "10                    3  \n",
       "11                    8  \n",
       "12                    3  \n",
       "13                    2  \n",
       "14                    3  \n",
       "\n",
       "[15 rows x 31 columns]"
      ]
     },
     "execution_count": 3,
     "metadata": {},
     "output_type": "execute_result"
    }
   ],
   "source": [
    "# check out data appearance\n",
    "df.head(15)"
   ]
  },
  {
   "cell_type": "code",
   "execution_count": 4,
   "id": "f5ae4bf9",
   "metadata": {},
   "outputs": [
    {
     "data": {
      "text/plain": [
       "(1470, 31)"
      ]
     },
     "execution_count": 4,
     "metadata": {},
     "output_type": "execute_result"
    }
   ],
   "source": [
    "# Look at data shape\n",
    "df.shape"
   ]
  },
  {
   "cell_type": "code",
   "execution_count": 5,
   "id": "fe4f4c44",
   "metadata": {},
   "outputs": [
    {
     "name": "stdout",
     "output_type": "stream",
     "text": [
      "<class 'pandas.core.frame.DataFrame'>\n",
      "Int64Index: 1470 entries, 0 to 1469\n",
      "Data columns (total 31 columns):\n",
      " #   Column                    Non-Null Count  Dtype \n",
      "---  ------                    --------------  ----- \n",
      " 0   Age                       1470 non-null   int64 \n",
      " 1   Attrition                 1470 non-null   object\n",
      " 2   BusinessTravel            1470 non-null   object\n",
      " 3   DailyRate                 1470 non-null   int64 \n",
      " 4   Department                1470 non-null   object\n",
      " 5   DistanceFromHome          1470 non-null   int64 \n",
      " 6   Education                 1470 non-null   int64 \n",
      " 7   EducationField            1470 non-null   object\n",
      " 8   EnvironmentSatisfaction   1470 non-null   int64 \n",
      " 9   Gender                    1470 non-null   object\n",
      " 10  HourlyRate                1470 non-null   int64 \n",
      " 11  JobInvolvement            1470 non-null   int64 \n",
      " 12  JobLevel                  1470 non-null   int64 \n",
      " 13  JobRole                   1470 non-null   object\n",
      " 14  JobSatisfaction           1470 non-null   int64 \n",
      " 15  MaritalStatus             1470 non-null   object\n",
      " 16  MonthlyIncome             1470 non-null   int64 \n",
      " 17  MonthlyRate               1470 non-null   int64 \n",
      " 18  NumCompaniesWorked        1470 non-null   int64 \n",
      " 19  OverTime                  1470 non-null   object\n",
      " 20  PercentSalaryHike         1470 non-null   int64 \n",
      " 21  PerformanceRating         1470 non-null   int64 \n",
      " 22  RelationshipSatisfaction  1470 non-null   int64 \n",
      " 23  StockOptionLevel          1470 non-null   int64 \n",
      " 24  TotalWorkingYears         1470 non-null   int64 \n",
      " 25  TrainingTimesLastYear     1470 non-null   int64 \n",
      " 26  WorkLifeBalance           1470 non-null   int64 \n",
      " 27  YearsAtCompany            1470 non-null   int64 \n",
      " 28  YearsInCurrentRole        1470 non-null   int64 \n",
      " 29  YearsSinceLastPromotion   1470 non-null   int64 \n",
      " 30  YearsWithCurrManager      1470 non-null   int64 \n",
      "dtypes: int64(23), object(8)\n",
      "memory usage: 367.5+ KB\n"
     ]
    }
   ],
   "source": [
    "# obtain data overview\n",
    "df.info()"
   ]
  },
  {
   "cell_type": "code",
   "execution_count": 6,
   "id": "1f718d79",
   "metadata": {},
   "outputs": [
    {
     "name": "stdout",
     "output_type": "stream",
     "text": [
      "Attrition : ['Yes' 'No']\n",
      "No     1233\n",
      "Yes     237\n",
      "Name: Attrition, dtype: int64\n",
      "====================================\n",
      "BusinessTravel : ['Travel_Rarely' 'Travel_Frequently' 'Non-Travel']\n",
      "Travel_Rarely        1043\n",
      "Travel_Frequently     277\n",
      "Non-Travel            150\n",
      "Name: BusinessTravel, dtype: int64\n",
      "====================================\n",
      "Department : ['Sales' 'Research & Development' 'Human Resources']\n",
      "Research & Development    961\n",
      "Sales                     446\n",
      "Human Resources            63\n",
      "Name: Department, dtype: int64\n",
      "====================================\n",
      "EducationField : ['Life Sciences' 'Other' 'Medical' 'Marketing' 'Technical Degree'\n",
      " 'Human Resources']\n",
      "Life Sciences       606\n",
      "Medical             464\n",
      "Marketing           159\n",
      "Technical Degree    132\n",
      "Other                82\n",
      "Human Resources      27\n",
      "Name: EducationField, dtype: int64\n",
      "====================================\n",
      "Gender : ['Female' 'Male']\n",
      "Male      882\n",
      "Female    588\n",
      "Name: Gender, dtype: int64\n",
      "====================================\n",
      "JobRole : ['Sales Executive' 'Research Scientist' 'Laboratory Technician'\n",
      " 'Manufacturing Director' 'Healthcare Representative' 'Manager'\n",
      " 'Sales Representative' 'Research Director' 'Human Resources']\n",
      "Sales Executive              326\n",
      "Research Scientist           292\n",
      "Laboratory Technician        259\n",
      "Manufacturing Director       145\n",
      "Healthcare Representative    131\n",
      "Manager                      102\n",
      "Sales Representative          83\n",
      "Research Director             80\n",
      "Human Resources               52\n",
      "Name: JobRole, dtype: int64\n",
      "====================================\n",
      "MaritalStatus : ['Single' 'Married' 'Divorced']\n",
      "Married     673\n",
      "Single      470\n",
      "Divorced    327\n",
      "Name: MaritalStatus, dtype: int64\n",
      "====================================\n",
      "OverTime : ['Yes' 'No']\n",
      "No     1054\n",
      "Yes     416\n",
      "Name: OverTime, dtype: int64\n",
      "====================================\n"
     ]
    }
   ],
   "source": [
    "# Identifying Categorical Variables\n",
    "categorical_col = []\n",
    "for column in df.columns:\n",
    "    if df[column].dtype == object and len(df[column].unique()) <= 30:\n",
    "        categorical_col.append(column)\n",
    "        print(f\"{column} : {df[column].unique()}\")\n",
    "        print(df[column].value_counts())\n",
    "        print(\"====================================\")"
   ]
  },
  {
   "cell_type": "code",
   "execution_count": 7,
   "id": "1048d7cc",
   "metadata": {},
   "outputs": [],
   "source": [
    "categorical_col.remove('Attrition')"
   ]
  },
  {
   "cell_type": "markdown",
   "id": "55ebe2c2",
   "metadata": {},
   "source": [
    "## Label Encoding and Dummy Features Creation for Categorical Variables"
   ]
  },
  {
   "cell_type": "code",
   "execution_count": 8,
   "id": "a9e1ed98",
   "metadata": {},
   "outputs": [
    {
     "data": {
      "text/plain": [
       "Index(['Age', 'Attrition', 'BusinessTravel', 'DailyRate', 'Department',\n",
       "       'DistanceFromHome', 'Education', 'EducationField',\n",
       "       'EnvironmentSatisfaction', 'Gender', 'HourlyRate', 'JobInvolvement',\n",
       "       'JobLevel', 'JobRole', 'JobSatisfaction', 'MaritalStatus',\n",
       "       'MonthlyIncome', 'MonthlyRate', 'NumCompaniesWorked', 'OverTime',\n",
       "       'PercentSalaryHike', 'PerformanceRating', 'RelationshipSatisfaction',\n",
       "       'StockOptionLevel', 'TotalWorkingYears', 'TrainingTimesLastYear',\n",
       "       'WorkLifeBalance', 'YearsAtCompany', 'YearsInCurrentRole',\n",
       "       'YearsSinceLastPromotion', 'YearsWithCurrManager'],\n",
       "      dtype='object')"
      ]
     },
     "execution_count": 8,
     "metadata": {},
     "output_type": "execute_result"
    }
   ],
   "source": [
    "# Get column names\n",
    "df.columns"
   ]
  },
  {
   "cell_type": "code",
   "execution_count": 9,
   "id": "77158b2c",
   "metadata": {},
   "outputs": [],
   "source": [
    "# Feature selection:\n",
    "features = ['Age', 'BusinessTravel', 'DailyRate', 'Department',\n",
    "       'DistanceFromHome', 'Education', 'EducationField',\n",
    "       'EnvironmentSatisfaction', 'Gender', 'HourlyRate', 'JobInvolvement',\n",
    "       'JobLevel', 'JobRole', 'JobSatisfaction', 'MaritalStatus',\n",
    "       'MonthlyIncome', 'MonthlyRate', 'NumCompaniesWorked', 'OverTime',\n",
    "       'PercentSalaryHike', 'PerformanceRating', 'RelationshipSatisfaction',\n",
    "       'StockOptionLevel', 'TotalWorkingYears', 'TrainingTimesLastYear',\n",
    "       'WorkLifeBalance', 'YearsAtCompany', 'YearsInCurrentRole',\n",
    "       'YearsSinceLastPromotion', 'YearsWithCurrManager']"
   ]
  },
  {
   "cell_type": "code",
   "execution_count": 10,
   "id": "3f06e2d4",
   "metadata": {},
   "outputs": [],
   "source": [
    "# Make explanatory and target variable\n",
    "X = df[features]\n",
    "y = df.Attrition"
   ]
  },
  {
   "cell_type": "code",
   "execution_count": 11,
   "id": "cdaeb58f",
   "metadata": {},
   "outputs": [
    {
     "data": {
      "text/plain": [
       "0       1\n",
       "1       0\n",
       "2       1\n",
       "3       0\n",
       "4       0\n",
       "       ..\n",
       "1465    0\n",
       "1466    0\n",
       "1467    0\n",
       "1468    0\n",
       "1469    0\n",
       "Name: Attrition, Length: 1470, dtype: int64"
      ]
     },
     "execution_count": 11,
     "metadata": {},
     "output_type": "execute_result"
    }
   ],
   "source": [
    "# Label encode target variable\n",
    "y = df['Attrition'].apply(lambda x: 1 if x=='Yes' else 0)\n",
    "y"
   ]
  },
  {
   "cell_type": "code",
   "execution_count": 12,
   "id": "4e885f77",
   "metadata": {},
   "outputs": [
    {
     "data": {
      "text/plain": [
       "(1470, 30)"
      ]
     },
     "execution_count": 12,
     "metadata": {},
     "output_type": "execute_result"
    }
   ],
   "source": [
    "X.shape"
   ]
  },
  {
   "cell_type": "code",
   "execution_count": 13,
   "id": "d5ae7e3c",
   "metadata": {},
   "outputs": [],
   "source": [
    "# Convert rest of categorical variables into dummies\n",
    "X = pd.get_dummies(X, drop_first=True)"
   ]
  },
  {
   "cell_type": "code",
   "execution_count": 14,
   "id": "56bfc193",
   "metadata": {},
   "outputs": [
    {
     "data": {
      "text/plain": [
       "(1470, 44)"
      ]
     },
     "execution_count": 14,
     "metadata": {},
     "output_type": "execute_result"
    }
   ],
   "source": [
    "X.shape"
   ]
  },
  {
   "cell_type": "code",
   "execution_count": 15,
   "id": "296912ed",
   "metadata": {},
   "outputs": [
    {
     "data": {
      "text/html": [
       "<div>\n",
       "<style scoped>\n",
       "    .dataframe tbody tr th:only-of-type {\n",
       "        vertical-align: middle;\n",
       "    }\n",
       "\n",
       "    .dataframe tbody tr th {\n",
       "        vertical-align: top;\n",
       "    }\n",
       "\n",
       "    .dataframe thead th {\n",
       "        text-align: right;\n",
       "    }\n",
       "</style>\n",
       "<table border=\"1\" class=\"dataframe\">\n",
       "  <thead>\n",
       "    <tr style=\"text-align: right;\">\n",
       "      <th></th>\n",
       "      <th>Age</th>\n",
       "      <th>DailyRate</th>\n",
       "      <th>DistanceFromHome</th>\n",
       "      <th>Education</th>\n",
       "      <th>EnvironmentSatisfaction</th>\n",
       "      <th>HourlyRate</th>\n",
       "      <th>JobInvolvement</th>\n",
       "      <th>JobLevel</th>\n",
       "      <th>JobSatisfaction</th>\n",
       "      <th>MonthlyIncome</th>\n",
       "      <th>...</th>\n",
       "      <th>JobRole_Laboratory Technician</th>\n",
       "      <th>JobRole_Manager</th>\n",
       "      <th>JobRole_Manufacturing Director</th>\n",
       "      <th>JobRole_Research Director</th>\n",
       "      <th>JobRole_Research Scientist</th>\n",
       "      <th>JobRole_Sales Executive</th>\n",
       "      <th>JobRole_Sales Representative</th>\n",
       "      <th>MaritalStatus_Married</th>\n",
       "      <th>MaritalStatus_Single</th>\n",
       "      <th>OverTime_Yes</th>\n",
       "    </tr>\n",
       "  </thead>\n",
       "  <tbody>\n",
       "    <tr>\n",
       "      <th>0</th>\n",
       "      <td>41</td>\n",
       "      <td>1102</td>\n",
       "      <td>1</td>\n",
       "      <td>2</td>\n",
       "      <td>2</td>\n",
       "      <td>94</td>\n",
       "      <td>3</td>\n",
       "      <td>2</td>\n",
       "      <td>4</td>\n",
       "      <td>5993</td>\n",
       "      <td>...</td>\n",
       "      <td>0</td>\n",
       "      <td>0</td>\n",
       "      <td>0</td>\n",
       "      <td>0</td>\n",
       "      <td>0</td>\n",
       "      <td>1</td>\n",
       "      <td>0</td>\n",
       "      <td>0</td>\n",
       "      <td>1</td>\n",
       "      <td>1</td>\n",
       "    </tr>\n",
       "    <tr>\n",
       "      <th>1</th>\n",
       "      <td>49</td>\n",
       "      <td>279</td>\n",
       "      <td>8</td>\n",
       "      <td>1</td>\n",
       "      <td>3</td>\n",
       "      <td>61</td>\n",
       "      <td>2</td>\n",
       "      <td>2</td>\n",
       "      <td>2</td>\n",
       "      <td>5130</td>\n",
       "      <td>...</td>\n",
       "      <td>0</td>\n",
       "      <td>0</td>\n",
       "      <td>0</td>\n",
       "      <td>0</td>\n",
       "      <td>1</td>\n",
       "      <td>0</td>\n",
       "      <td>0</td>\n",
       "      <td>1</td>\n",
       "      <td>0</td>\n",
       "      <td>0</td>\n",
       "    </tr>\n",
       "    <tr>\n",
       "      <th>2</th>\n",
       "      <td>37</td>\n",
       "      <td>1373</td>\n",
       "      <td>2</td>\n",
       "      <td>2</td>\n",
       "      <td>4</td>\n",
       "      <td>92</td>\n",
       "      <td>2</td>\n",
       "      <td>1</td>\n",
       "      <td>3</td>\n",
       "      <td>2090</td>\n",
       "      <td>...</td>\n",
       "      <td>1</td>\n",
       "      <td>0</td>\n",
       "      <td>0</td>\n",
       "      <td>0</td>\n",
       "      <td>0</td>\n",
       "      <td>0</td>\n",
       "      <td>0</td>\n",
       "      <td>0</td>\n",
       "      <td>1</td>\n",
       "      <td>1</td>\n",
       "    </tr>\n",
       "    <tr>\n",
       "      <th>3</th>\n",
       "      <td>33</td>\n",
       "      <td>1392</td>\n",
       "      <td>3</td>\n",
       "      <td>4</td>\n",
       "      <td>4</td>\n",
       "      <td>56</td>\n",
       "      <td>3</td>\n",
       "      <td>1</td>\n",
       "      <td>3</td>\n",
       "      <td>2909</td>\n",
       "      <td>...</td>\n",
       "      <td>0</td>\n",
       "      <td>0</td>\n",
       "      <td>0</td>\n",
       "      <td>0</td>\n",
       "      <td>1</td>\n",
       "      <td>0</td>\n",
       "      <td>0</td>\n",
       "      <td>1</td>\n",
       "      <td>0</td>\n",
       "      <td>1</td>\n",
       "    </tr>\n",
       "    <tr>\n",
       "      <th>4</th>\n",
       "      <td>27</td>\n",
       "      <td>591</td>\n",
       "      <td>2</td>\n",
       "      <td>1</td>\n",
       "      <td>1</td>\n",
       "      <td>40</td>\n",
       "      <td>3</td>\n",
       "      <td>1</td>\n",
       "      <td>2</td>\n",
       "      <td>3468</td>\n",
       "      <td>...</td>\n",
       "      <td>1</td>\n",
       "      <td>0</td>\n",
       "      <td>0</td>\n",
       "      <td>0</td>\n",
       "      <td>0</td>\n",
       "      <td>0</td>\n",
       "      <td>0</td>\n",
       "      <td>1</td>\n",
       "      <td>0</td>\n",
       "      <td>0</td>\n",
       "    </tr>\n",
       "  </tbody>\n",
       "</table>\n",
       "<p>5 rows × 44 columns</p>\n",
       "</div>"
      ],
      "text/plain": [
       "   Age  DailyRate  DistanceFromHome  Education  EnvironmentSatisfaction  \\\n",
       "0   41       1102                 1          2                        2   \n",
       "1   49        279                 8          1                        3   \n",
       "2   37       1373                 2          2                        4   \n",
       "3   33       1392                 3          4                        4   \n",
       "4   27        591                 2          1                        1   \n",
       "\n",
       "   HourlyRate  JobInvolvement  JobLevel  JobSatisfaction  MonthlyIncome  ...  \\\n",
       "0          94               3         2                4           5993  ...   \n",
       "1          61               2         2                2           5130  ...   \n",
       "2          92               2         1                3           2090  ...   \n",
       "3          56               3         1                3           2909  ...   \n",
       "4          40               3         1                2           3468  ...   \n",
       "\n",
       "   JobRole_Laboratory Technician  JobRole_Manager  \\\n",
       "0                              0                0   \n",
       "1                              0                0   \n",
       "2                              1                0   \n",
       "3                              0                0   \n",
       "4                              1                0   \n",
       "\n",
       "   JobRole_Manufacturing Director  JobRole_Research Director  \\\n",
       "0                               0                          0   \n",
       "1                               0                          0   \n",
       "2                               0                          0   \n",
       "3                               0                          0   \n",
       "4                               0                          0   \n",
       "\n",
       "   JobRole_Research Scientist  JobRole_Sales Executive  \\\n",
       "0                           0                        1   \n",
       "1                           1                        0   \n",
       "2                           0                        0   \n",
       "3                           1                        0   \n",
       "4                           0                        0   \n",
       "\n",
       "   JobRole_Sales Representative  MaritalStatus_Married  MaritalStatus_Single  \\\n",
       "0                             0                      0                     1   \n",
       "1                             0                      1                     0   \n",
       "2                             0                      0                     1   \n",
       "3                             0                      1                     0   \n",
       "4                             0                      1                     0   \n",
       "\n",
       "   OverTime_Yes  \n",
       "0             1  \n",
       "1             0  \n",
       "2             1  \n",
       "3             1  \n",
       "4             0  \n",
       "\n",
       "[5 rows x 44 columns]"
      ]
     },
     "execution_count": 15,
     "metadata": {},
     "output_type": "execute_result"
    }
   ],
   "source": [
    "X.head()"
   ]
  },
  {
   "cell_type": "markdown",
   "id": "fdfd6e6c",
   "metadata": {},
   "source": [
    "## Split Data into Training and Testing Subsets"
   ]
  },
  {
   "cell_type": "code",
   "execution_count": 16,
   "id": "3c85404c",
   "metadata": {},
   "outputs": [],
   "source": [
    "# Split into train/test data sets with stratification of target variable\n",
    "X_train, X_test, y_train, y_test = train_test_split(X, y, \n",
    "                                                    test_size=0.30, \n",
    "                                                    random_state=24,\n",
    "                                                    stratify = y)"
   ]
  },
  {
   "cell_type": "code",
   "execution_count": 17,
   "id": "d567e511",
   "metadata": {},
   "outputs": [
    {
     "name": "stdout",
     "output_type": "stream",
     "text": [
      "Training set Shape: (1029, 44) (1029,)\n"
     ]
    }
   ],
   "source": [
    "# Confirm training data shape\n",
    "print(\"Training set Shape:\", X_train.shape, y_train.shape)"
   ]
  },
  {
   "cell_type": "code",
   "execution_count": 18,
   "id": "09352027",
   "metadata": {},
   "outputs": [
    {
     "name": "stdout",
     "output_type": "stream",
     "text": [
      "Testing set Shape: (441, 44) (441,)\n"
     ]
    }
   ],
   "source": [
    "# Confirm testing data shape\n",
    "print(\"Testing set Shape:\", X_test.shape, y_test.shape)"
   ]
  },
  {
   "cell_type": "markdown",
   "id": "ed42ff90",
   "metadata": {},
   "source": [
    "## Scaling Features"
   ]
  },
  {
   "cell_type": "code",
   "execution_count": 19,
   "id": "f6ab7b8c",
   "metadata": {},
   "outputs": [],
   "source": [
    "# Make Scaler object\n",
    "scaler = StandardScaler()"
   ]
  },
  {
   "cell_type": "code",
   "execution_count": 20,
   "id": "fb5e19c6",
   "metadata": {},
   "outputs": [
    {
     "data": {
      "text/html": [
       "<style>#sk-container-id-1 {color: black;background-color: white;}#sk-container-id-1 pre{padding: 0;}#sk-container-id-1 div.sk-toggleable {background-color: white;}#sk-container-id-1 label.sk-toggleable__label {cursor: pointer;display: block;width: 100%;margin-bottom: 0;padding: 0.3em;box-sizing: border-box;text-align: center;}#sk-container-id-1 label.sk-toggleable__label-arrow:before {content: \"▸\";float: left;margin-right: 0.25em;color: #696969;}#sk-container-id-1 label.sk-toggleable__label-arrow:hover:before {color: black;}#sk-container-id-1 div.sk-estimator:hover label.sk-toggleable__label-arrow:before {color: black;}#sk-container-id-1 div.sk-toggleable__content {max-height: 0;max-width: 0;overflow: hidden;text-align: left;background-color: #f0f8ff;}#sk-container-id-1 div.sk-toggleable__content pre {margin: 0.2em;color: black;border-radius: 0.25em;background-color: #f0f8ff;}#sk-container-id-1 input.sk-toggleable__control:checked~div.sk-toggleable__content {max-height: 200px;max-width: 100%;overflow: auto;}#sk-container-id-1 input.sk-toggleable__control:checked~label.sk-toggleable__label-arrow:before {content: \"▾\";}#sk-container-id-1 div.sk-estimator input.sk-toggleable__control:checked~label.sk-toggleable__label {background-color: #d4ebff;}#sk-container-id-1 div.sk-label input.sk-toggleable__control:checked~label.sk-toggleable__label {background-color: #d4ebff;}#sk-container-id-1 input.sk-hidden--visually {border: 0;clip: rect(1px 1px 1px 1px);clip: rect(1px, 1px, 1px, 1px);height: 1px;margin: -1px;overflow: hidden;padding: 0;position: absolute;width: 1px;}#sk-container-id-1 div.sk-estimator {font-family: monospace;background-color: #f0f8ff;border: 1px dotted black;border-radius: 0.25em;box-sizing: border-box;margin-bottom: 0.5em;}#sk-container-id-1 div.sk-estimator:hover {background-color: #d4ebff;}#sk-container-id-1 div.sk-parallel-item::after {content: \"\";width: 100%;border-bottom: 1px solid gray;flex-grow: 1;}#sk-container-id-1 div.sk-label:hover label.sk-toggleable__label {background-color: #d4ebff;}#sk-container-id-1 div.sk-serial::before {content: \"\";position: absolute;border-left: 1px solid gray;box-sizing: border-box;top: 0;bottom: 0;left: 50%;z-index: 0;}#sk-container-id-1 div.sk-serial {display: flex;flex-direction: column;align-items: center;background-color: white;padding-right: 0.2em;padding-left: 0.2em;position: relative;}#sk-container-id-1 div.sk-item {position: relative;z-index: 1;}#sk-container-id-1 div.sk-parallel {display: flex;align-items: stretch;justify-content: center;background-color: white;position: relative;}#sk-container-id-1 div.sk-item::before, #sk-container-id-1 div.sk-parallel-item::before {content: \"\";position: absolute;border-left: 1px solid gray;box-sizing: border-box;top: 0;bottom: 0;left: 50%;z-index: -1;}#sk-container-id-1 div.sk-parallel-item {display: flex;flex-direction: column;z-index: 1;position: relative;background-color: white;}#sk-container-id-1 div.sk-parallel-item:first-child::after {align-self: flex-end;width: 50%;}#sk-container-id-1 div.sk-parallel-item:last-child::after {align-self: flex-start;width: 50%;}#sk-container-id-1 div.sk-parallel-item:only-child::after {width: 0;}#sk-container-id-1 div.sk-dashed-wrapped {border: 1px dashed gray;margin: 0 0.4em 0.5em 0.4em;box-sizing: border-box;padding-bottom: 0.4em;background-color: white;}#sk-container-id-1 div.sk-label label {font-family: monospace;font-weight: bold;display: inline-block;line-height: 1.2em;}#sk-container-id-1 div.sk-label-container {text-align: center;}#sk-container-id-1 div.sk-container {/* jupyter's `normalize.less` sets `[hidden] { display: none; }` but bootstrap.min.css set `[hidden] { display: none !important; }` so we also need the `!important` here to be able to override the default hidden behavior on the sphinx rendered scikit-learn.org. See: https://github.com/scikit-learn/scikit-learn/issues/21755 */display: inline-block !important;position: relative;}#sk-container-id-1 div.sk-text-repr-fallback {display: none;}</style><div id=\"sk-container-id-1\" class=\"sk-top-container\"><div class=\"sk-text-repr-fallback\"><pre>StandardScaler()</pre><b>In a Jupyter environment, please rerun this cell to show the HTML representation or trust the notebook. <br />On GitHub, the HTML representation is unable to render, please try loading this page with nbviewer.org.</b></div><div class=\"sk-container\" hidden><div class=\"sk-item\"><div class=\"sk-estimator sk-toggleable\"><input class=\"sk-toggleable__control sk-hidden--visually\" id=\"sk-estimator-id-1\" type=\"checkbox\" checked><label for=\"sk-estimator-id-1\" class=\"sk-toggleable__label sk-toggleable__label-arrow\">StandardScaler</label><div class=\"sk-toggleable__content\"><pre>StandardScaler()</pre></div></div></div></div></div>"
      ],
      "text/plain": [
       "StandardScaler()"
      ]
     },
     "execution_count": 20,
     "metadata": {},
     "output_type": "execute_result"
    }
   ],
   "source": [
    "# Fit scaler based on training data\n",
    "scaler.fit(X_train)"
   ]
  },
  {
   "cell_type": "code",
   "execution_count": 21,
   "id": "8807d645",
   "metadata": {},
   "outputs": [],
   "source": [
    "# Transform training data using fitted scaler\n",
    "X_train_scaled = scaler.transform(X_train)\n",
    "X_test_scaled = scaler.transform(X_test)"
   ]
  },
  {
   "cell_type": "code",
   "execution_count": 22,
   "id": "6308b5ab",
   "metadata": {},
   "outputs": [],
   "source": [
    "# Re-introduce column names back into new scaled df\n",
    "X_train_scaled = pd.DataFrame(X_train_scaled, columns=X_train.columns)\n",
    "X_test_scaled = pd.DataFrame(X_test_scaled, columns=X_test.columns)"
   ]
  },
  {
   "cell_type": "code",
   "execution_count": 23,
   "id": "1b3fa97b",
   "metadata": {},
   "outputs": [
    {
     "data": {
      "text/html": [
       "<div>\n",
       "<style scoped>\n",
       "    .dataframe tbody tr th:only-of-type {\n",
       "        vertical-align: middle;\n",
       "    }\n",
       "\n",
       "    .dataframe tbody tr th {\n",
       "        vertical-align: top;\n",
       "    }\n",
       "\n",
       "    .dataframe thead th {\n",
       "        text-align: right;\n",
       "    }\n",
       "</style>\n",
       "<table border=\"1\" class=\"dataframe\">\n",
       "  <thead>\n",
       "    <tr style=\"text-align: right;\">\n",
       "      <th></th>\n",
       "      <th>Age</th>\n",
       "      <th>DailyRate</th>\n",
       "      <th>DistanceFromHome</th>\n",
       "      <th>Education</th>\n",
       "      <th>EnvironmentSatisfaction</th>\n",
       "      <th>HourlyRate</th>\n",
       "      <th>JobInvolvement</th>\n",
       "      <th>JobLevel</th>\n",
       "      <th>JobSatisfaction</th>\n",
       "      <th>MonthlyIncome</th>\n",
       "      <th>...</th>\n",
       "      <th>JobRole_Laboratory Technician</th>\n",
       "      <th>JobRole_Manager</th>\n",
       "      <th>JobRole_Manufacturing Director</th>\n",
       "      <th>JobRole_Research Director</th>\n",
       "      <th>JobRole_Research Scientist</th>\n",
       "      <th>JobRole_Sales Executive</th>\n",
       "      <th>JobRole_Sales Representative</th>\n",
       "      <th>MaritalStatus_Married</th>\n",
       "      <th>MaritalStatus_Single</th>\n",
       "      <th>OverTime_Yes</th>\n",
       "    </tr>\n",
       "  </thead>\n",
       "  <tbody>\n",
       "    <tr>\n",
       "      <th>0</th>\n",
       "      <td>-1.307746</td>\n",
       "      <td>0.455222</td>\n",
       "      <td>-0.901268</td>\n",
       "      <td>-1.887987</td>\n",
       "      <td>1.170305</td>\n",
       "      <td>-0.435093</td>\n",
       "      <td>0.388015</td>\n",
       "      <td>-0.964482</td>\n",
       "      <td>0.263620</td>\n",
       "      <td>-0.543169</td>\n",
       "      <td>...</td>\n",
       "      <td>2.304969</td>\n",
       "      <td>-0.284398</td>\n",
       "      <td>-0.344207</td>\n",
       "      <td>-0.239904</td>\n",
       "      <td>-0.516954</td>\n",
       "      <td>-0.525999</td>\n",
       "      <td>-0.23763</td>\n",
       "      <td>-0.933225</td>\n",
       "      <td>-0.659656</td>\n",
       "      <td>1.600173</td>\n",
       "    </tr>\n",
       "    <tr>\n",
       "      <th>1</th>\n",
       "      <td>1.558198</td>\n",
       "      <td>-1.366881</td>\n",
       "      <td>-0.058282</td>\n",
       "      <td>0.060597</td>\n",
       "      <td>1.170305</td>\n",
       "      <td>0.845346</td>\n",
       "      <td>0.388015</td>\n",
       "      <td>2.595883</td>\n",
       "      <td>-0.637593</td>\n",
       "      <td>2.768264</td>\n",
       "      <td>...</td>\n",
       "      <td>-0.433845</td>\n",
       "      <td>3.516196</td>\n",
       "      <td>-0.344207</td>\n",
       "      <td>-0.239904</td>\n",
       "      <td>-0.516954</td>\n",
       "      <td>-0.525999</td>\n",
       "      <td>-0.23763</td>\n",
       "      <td>-0.933225</td>\n",
       "      <td>-0.659656</td>\n",
       "      <td>1.600173</td>\n",
       "    </tr>\n",
       "    <tr>\n",
       "      <th>2</th>\n",
       "      <td>0.345683</td>\n",
       "      <td>1.484464</td>\n",
       "      <td>1.988970</td>\n",
       "      <td>0.060597</td>\n",
       "      <td>-0.669640</td>\n",
       "      <td>-0.582836</td>\n",
       "      <td>0.388015</td>\n",
       "      <td>-0.074391</td>\n",
       "      <td>-0.637593</td>\n",
       "      <td>-0.203470</td>\n",
       "      <td>...</td>\n",
       "      <td>-0.433845</td>\n",
       "      <td>-0.284398</td>\n",
       "      <td>-0.344207</td>\n",
       "      <td>-0.239904</td>\n",
       "      <td>1.934408</td>\n",
       "      <td>-0.525999</td>\n",
       "      <td>-0.23763</td>\n",
       "      <td>-0.933225</td>\n",
       "      <td>-0.659656</td>\n",
       "      <td>-0.624932</td>\n",
       "    </tr>\n",
       "    <tr>\n",
       "      <th>3</th>\n",
       "      <td>-0.646375</td>\n",
       "      <td>-1.337334</td>\n",
       "      <td>-0.419562</td>\n",
       "      <td>1.034889</td>\n",
       "      <td>-0.669640</td>\n",
       "      <td>0.500613</td>\n",
       "      <td>-2.384674</td>\n",
       "      <td>-0.074391</td>\n",
       "      <td>0.263620</td>\n",
       "      <td>-0.085160</td>\n",
       "      <td>...</td>\n",
       "      <td>-0.433845</td>\n",
       "      <td>-0.284398</td>\n",
       "      <td>-0.344207</td>\n",
       "      <td>-0.239904</td>\n",
       "      <td>-0.516954</td>\n",
       "      <td>1.901144</td>\n",
       "      <td>-0.23763</td>\n",
       "      <td>1.071553</td>\n",
       "      <td>-0.659656</td>\n",
       "      <td>1.600173</td>\n",
       "    </tr>\n",
       "    <tr>\n",
       "      <th>4</th>\n",
       "      <td>-0.205460</td>\n",
       "      <td>0.066178</td>\n",
       "      <td>-0.901268</td>\n",
       "      <td>0.060597</td>\n",
       "      <td>0.250333</td>\n",
       "      <td>-1.075312</td>\n",
       "      <td>-0.998330</td>\n",
       "      <td>0.815701</td>\n",
       "      <td>-0.637593</td>\n",
       "      <td>0.770763</td>\n",
       "      <td>...</td>\n",
       "      <td>-0.433845</td>\n",
       "      <td>-0.284398</td>\n",
       "      <td>2.905231</td>\n",
       "      <td>-0.239904</td>\n",
       "      <td>-0.516954</td>\n",
       "      <td>-0.525999</td>\n",
       "      <td>-0.23763</td>\n",
       "      <td>-0.933225</td>\n",
       "      <td>-0.659656</td>\n",
       "      <td>-0.624932</td>\n",
       "    </tr>\n",
       "  </tbody>\n",
       "</table>\n",
       "<p>5 rows × 44 columns</p>\n",
       "</div>"
      ],
      "text/plain": [
       "        Age  DailyRate  DistanceFromHome  Education  EnvironmentSatisfaction  \\\n",
       "0 -1.307746   0.455222         -0.901268  -1.887987                 1.170305   \n",
       "1  1.558198  -1.366881         -0.058282   0.060597                 1.170305   \n",
       "2  0.345683   1.484464          1.988970   0.060597                -0.669640   \n",
       "3 -0.646375  -1.337334         -0.419562   1.034889                -0.669640   \n",
       "4 -0.205460   0.066178         -0.901268   0.060597                 0.250333   \n",
       "\n",
       "   HourlyRate  JobInvolvement  JobLevel  JobSatisfaction  MonthlyIncome  ...  \\\n",
       "0   -0.435093        0.388015 -0.964482         0.263620      -0.543169  ...   \n",
       "1    0.845346        0.388015  2.595883        -0.637593       2.768264  ...   \n",
       "2   -0.582836        0.388015 -0.074391        -0.637593      -0.203470  ...   \n",
       "3    0.500613       -2.384674 -0.074391         0.263620      -0.085160  ...   \n",
       "4   -1.075312       -0.998330  0.815701        -0.637593       0.770763  ...   \n",
       "\n",
       "   JobRole_Laboratory Technician  JobRole_Manager  \\\n",
       "0                       2.304969        -0.284398   \n",
       "1                      -0.433845         3.516196   \n",
       "2                      -0.433845        -0.284398   \n",
       "3                      -0.433845        -0.284398   \n",
       "4                      -0.433845        -0.284398   \n",
       "\n",
       "   JobRole_Manufacturing Director  JobRole_Research Director  \\\n",
       "0                       -0.344207                  -0.239904   \n",
       "1                       -0.344207                  -0.239904   \n",
       "2                       -0.344207                  -0.239904   \n",
       "3                       -0.344207                  -0.239904   \n",
       "4                        2.905231                  -0.239904   \n",
       "\n",
       "   JobRole_Research Scientist  JobRole_Sales Executive  \\\n",
       "0                   -0.516954                -0.525999   \n",
       "1                   -0.516954                -0.525999   \n",
       "2                    1.934408                -0.525999   \n",
       "3                   -0.516954                 1.901144   \n",
       "4                   -0.516954                -0.525999   \n",
       "\n",
       "   JobRole_Sales Representative  MaritalStatus_Married  MaritalStatus_Single  \\\n",
       "0                      -0.23763              -0.933225             -0.659656   \n",
       "1                      -0.23763              -0.933225             -0.659656   \n",
       "2                      -0.23763              -0.933225             -0.659656   \n",
       "3                      -0.23763               1.071553             -0.659656   \n",
       "4                      -0.23763              -0.933225             -0.659656   \n",
       "\n",
       "   OverTime_Yes  \n",
       "0      1.600173  \n",
       "1      1.600173  \n",
       "2     -0.624932  \n",
       "3      1.600173  \n",
       "4     -0.624932  \n",
       "\n",
       "[5 rows x 44 columns]"
      ]
     },
     "execution_count": 23,
     "metadata": {},
     "output_type": "execute_result"
    }
   ],
   "source": [
    "# View new scaled df appearance\n",
    "X_train_scaled.head()"
   ]
  },
  {
   "cell_type": "markdown",
   "id": "3a2edff4",
   "metadata": {},
   "source": [
    "## Modeling"
   ]
  },
  {
   "cell_type": "code",
   "execution_count": 24,
   "id": "f7a5850c",
   "metadata": {},
   "outputs": [],
   "source": [
    "# Define function for evaluation reports\n",
    "def print_score(clf, X_train_scaled, y_train, X_test_scaled, y_test, train=True):\n",
    "    if train:\n",
    "        pred = clf.predict(X_train_scaled)\n",
    "        clf_report = classification_report(y_train, pred)\n",
    "        print(\"Training Result:\\n================================================\")\n",
    "        print(f\"Accuracy Score: {accuracy_score(y_train, pred) * 100:.2f}%\")\n",
    "        print(\"_______________________________________________\")\n",
    "        print(f\"CLASSIFICATION REPORT:\\n{clf_report}\")\n",
    "        print(\"_______________________________________________\")\n",
    "        print(f\"Confusion Matrix: \\n {confusion_matrix(y_train, pred)}\\n\")\n",
    "        \n",
    "    elif train==False:\n",
    "        pred = clf.predict(X_test_scaled)\n",
    "        clf_report = classification_report(y_test, pred)\n",
    "        print(\"Testing Result:\\n================================================\")\n",
    "        print(f\"Accuracy Score: {accuracy_score(y_test, pred) * 100:.2f}%\")\n",
    "        print(\"_______________________________________________\")\n",
    "        print(f\"CLASSIFICATION REPORT:\\n{clf_report}\")\n",
    "        print(\"_______________________________________________\")\n",
    "        print(f\"Confusion Matrix: \\n {confusion_matrix(y_test, pred)}\\n\")"
   ]
  },
  {
   "cell_type": "markdown",
   "id": "45ad61fd",
   "metadata": {},
   "source": [
    "### Logistic Regression"
   ]
  },
  {
   "cell_type": "code",
   "execution_count": 25,
   "id": "afee02bb",
   "metadata": {},
   "outputs": [],
   "source": [
    "# Create a logistic regression object\n",
    "log_reg = LogisticRegression(solver = 'liblinear', max_iter = 500)"
   ]
  },
  {
   "cell_type": "code",
   "execution_count": 26,
   "id": "33b248b5",
   "metadata": {},
   "outputs": [
    {
     "data": {
      "text/html": [
       "<style>#sk-container-id-2 {color: black;background-color: white;}#sk-container-id-2 pre{padding: 0;}#sk-container-id-2 div.sk-toggleable {background-color: white;}#sk-container-id-2 label.sk-toggleable__label {cursor: pointer;display: block;width: 100%;margin-bottom: 0;padding: 0.3em;box-sizing: border-box;text-align: center;}#sk-container-id-2 label.sk-toggleable__label-arrow:before {content: \"▸\";float: left;margin-right: 0.25em;color: #696969;}#sk-container-id-2 label.sk-toggleable__label-arrow:hover:before {color: black;}#sk-container-id-2 div.sk-estimator:hover label.sk-toggleable__label-arrow:before {color: black;}#sk-container-id-2 div.sk-toggleable__content {max-height: 0;max-width: 0;overflow: hidden;text-align: left;background-color: #f0f8ff;}#sk-container-id-2 div.sk-toggleable__content pre {margin: 0.2em;color: black;border-radius: 0.25em;background-color: #f0f8ff;}#sk-container-id-2 input.sk-toggleable__control:checked~div.sk-toggleable__content {max-height: 200px;max-width: 100%;overflow: auto;}#sk-container-id-2 input.sk-toggleable__control:checked~label.sk-toggleable__label-arrow:before {content: \"▾\";}#sk-container-id-2 div.sk-estimator input.sk-toggleable__control:checked~label.sk-toggleable__label {background-color: #d4ebff;}#sk-container-id-2 div.sk-label input.sk-toggleable__control:checked~label.sk-toggleable__label {background-color: #d4ebff;}#sk-container-id-2 input.sk-hidden--visually {border: 0;clip: rect(1px 1px 1px 1px);clip: rect(1px, 1px, 1px, 1px);height: 1px;margin: -1px;overflow: hidden;padding: 0;position: absolute;width: 1px;}#sk-container-id-2 div.sk-estimator {font-family: monospace;background-color: #f0f8ff;border: 1px dotted black;border-radius: 0.25em;box-sizing: border-box;margin-bottom: 0.5em;}#sk-container-id-2 div.sk-estimator:hover {background-color: #d4ebff;}#sk-container-id-2 div.sk-parallel-item::after {content: \"\";width: 100%;border-bottom: 1px solid gray;flex-grow: 1;}#sk-container-id-2 div.sk-label:hover label.sk-toggleable__label {background-color: #d4ebff;}#sk-container-id-2 div.sk-serial::before {content: \"\";position: absolute;border-left: 1px solid gray;box-sizing: border-box;top: 0;bottom: 0;left: 50%;z-index: 0;}#sk-container-id-2 div.sk-serial {display: flex;flex-direction: column;align-items: center;background-color: white;padding-right: 0.2em;padding-left: 0.2em;position: relative;}#sk-container-id-2 div.sk-item {position: relative;z-index: 1;}#sk-container-id-2 div.sk-parallel {display: flex;align-items: stretch;justify-content: center;background-color: white;position: relative;}#sk-container-id-2 div.sk-item::before, #sk-container-id-2 div.sk-parallel-item::before {content: \"\";position: absolute;border-left: 1px solid gray;box-sizing: border-box;top: 0;bottom: 0;left: 50%;z-index: -1;}#sk-container-id-2 div.sk-parallel-item {display: flex;flex-direction: column;z-index: 1;position: relative;background-color: white;}#sk-container-id-2 div.sk-parallel-item:first-child::after {align-self: flex-end;width: 50%;}#sk-container-id-2 div.sk-parallel-item:last-child::after {align-self: flex-start;width: 50%;}#sk-container-id-2 div.sk-parallel-item:only-child::after {width: 0;}#sk-container-id-2 div.sk-dashed-wrapped {border: 1px dashed gray;margin: 0 0.4em 0.5em 0.4em;box-sizing: border-box;padding-bottom: 0.4em;background-color: white;}#sk-container-id-2 div.sk-label label {font-family: monospace;font-weight: bold;display: inline-block;line-height: 1.2em;}#sk-container-id-2 div.sk-label-container {text-align: center;}#sk-container-id-2 div.sk-container {/* jupyter's `normalize.less` sets `[hidden] { display: none; }` but bootstrap.min.css set `[hidden] { display: none !important; }` so we also need the `!important` here to be able to override the default hidden behavior on the sphinx rendered scikit-learn.org. See: https://github.com/scikit-learn/scikit-learn/issues/21755 */display: inline-block !important;position: relative;}#sk-container-id-2 div.sk-text-repr-fallback {display: none;}</style><div id=\"sk-container-id-2\" class=\"sk-top-container\"><div class=\"sk-text-repr-fallback\"><pre>LogisticRegression(max_iter=500, solver=&#x27;liblinear&#x27;)</pre><b>In a Jupyter environment, please rerun this cell to show the HTML representation or trust the notebook. <br />On GitHub, the HTML representation is unable to render, please try loading this page with nbviewer.org.</b></div><div class=\"sk-container\" hidden><div class=\"sk-item\"><div class=\"sk-estimator sk-toggleable\"><input class=\"sk-toggleable__control sk-hidden--visually\" id=\"sk-estimator-id-2\" type=\"checkbox\" checked><label for=\"sk-estimator-id-2\" class=\"sk-toggleable__label sk-toggleable__label-arrow\">LogisticRegression</label><div class=\"sk-toggleable__content\"><pre>LogisticRegression(max_iter=500, solver=&#x27;liblinear&#x27;)</pre></div></div></div></div></div>"
      ],
      "text/plain": [
       "LogisticRegression(max_iter=500, solver='liblinear')"
      ]
     },
     "execution_count": 26,
     "metadata": {},
     "output_type": "execute_result"
    }
   ],
   "source": [
    "# Fit model to training set\n",
    "log_reg.fit(X_train_scaled, y_train)"
   ]
  },
  {
   "cell_type": "code",
   "execution_count": 27,
   "id": "41e6230b",
   "metadata": {},
   "outputs": [],
   "source": [
    "# Use fitted model to make predictions on training and test data\n",
    "y_pred_training = log_reg.predict(X_train_scaled)\n",
    "y_pred_test = log_reg.predict(X_test_scaled)"
   ]
  },
  {
   "cell_type": "code",
   "execution_count": 28,
   "id": "14c58fa4",
   "metadata": {},
   "outputs": [
    {
     "name": "stdout",
     "output_type": "stream",
     "text": [
      "Training Result:\n",
      "================================================\n",
      "Accuracy Score: 90.28%\n",
      "_______________________________________________\n",
      "CLASSIFICATION REPORT:\n",
      "              precision    recall  f1-score   support\n",
      "\n",
      "           0       0.91      0.98      0.94       863\n",
      "           1       0.84      0.49      0.62       166\n",
      "\n",
      "    accuracy                           0.90      1029\n",
      "   macro avg       0.88      0.74      0.78      1029\n",
      "weighted avg       0.90      0.90      0.89      1029\n",
      "\n",
      "_______________________________________________\n",
      "Confusion Matrix: \n",
      " [[848  15]\n",
      " [ 85  81]]\n",
      "\n",
      "Testing Result:\n",
      "================================================\n",
      "Accuracy Score: 86.62%\n",
      "_______________________________________________\n",
      "CLASSIFICATION REPORT:\n",
      "              precision    recall  f1-score   support\n",
      "\n",
      "           0       0.90      0.95      0.92       370\n",
      "           1       0.62      0.45      0.52        71\n",
      "\n",
      "    accuracy                           0.87       441\n",
      "   macro avg       0.76      0.70      0.72       441\n",
      "weighted avg       0.85      0.87      0.86       441\n",
      "\n",
      "_______________________________________________\n",
      "Confusion Matrix: \n",
      " [[350  20]\n",
      " [ 39  32]]\n",
      "\n"
     ]
    }
   ],
   "source": [
    "# Review performance metrics\n",
    "print_score(log_reg, X_train_scaled, y_train, X_test_scaled, y_test, train=True)\n",
    "print_score(log_reg, X_train_scaled, y_train, X_test_scaled, y_test, train=False)"
   ]
  },
  {
   "cell_type": "markdown",
   "id": "119072e6",
   "metadata": {},
   "source": [
    "Initial implementation of the logistic regression model resulted in 90.28% accuracy score in the training set, which is pretty good and indicates there is only a small bias in the model. \n",
    "\n",
    "The initial logistic regression model's test accuracy is 86.62%, which is very close (~3.66%) to the training accuracy score and shows that there is only a small variance between the training and testing accuracy scores. However, this gap between traning and testing accuracy may be slighlty over-fitting the data. With that said, this first iteration of the logistic regression model may alreadly generalize relatively well. \n",
    "\n",
    "Other metrics that we should also when evaluating the performance of a binary classifier are the precision, recall, and F1-scores. A high precision score would mean that our model makes few false positive predictions, and is good at identifying which employees will potentially attrition. This would be appropriate if the goal is to minimize instances of employees who are staying with the company, but are misclassified as leaving. On the other hand, a high recall score indicates that the classifier has a high true positive rate and thus is good at minimizing instances of employees who will attrition, but are misclassified as staying. In our case, it may be slighly more important to identify all employees who will leave, even if it means a higher number of false positive predictions, because missing employees who will atrrition may result in lost resources, productivity, and replacement costs. \n",
    "\n",
    "For the attrition class of the testing set, the precision score was 62%, the recall score is 45%, and F1-score is 52%.\n",
    "\n",
    "Since there is a mild-moderate class imbalance in the dataset as employee attrition occurs less frequently than employees who stay, accuracy scores may not be an ideal indicator of model performance because of the potentially skewed evaluation . Thus, we should also consider the weighted average, which takes into account the imblance between the classes in the target variable.\n",
    "\n",
    "In this case, the weighted-avg scores for precision, recall, and F1 are 85%, 87%, and 86%, respectively. "
   ]
  },
  {
   "cell_type": "code",
   "execution_count": 50,
   "id": "17de6ccf",
   "metadata": {},
   "outputs": [
    {
     "name": "stdout",
     "output_type": "stream",
     "text": [
      "ROC AUC Score: 0.8256566425580509\n"
     ]
    }
   ],
   "source": [
    "# Review ROC AUC score\n",
    "lr_roc = roc_auc_score(y_test, log_reg.predict_proba(X_test_scaled)[:,1], average='weighted')\n",
    "print(\"ROC AUC Score:\", lr_roc)"
   ]
  },
  {
   "cell_type": "markdown",
   "id": "c35e4b2a",
   "metadata": {},
   "source": [
    "Lastly, another important evaluation metric for binary classification problems is the ROC AUC score (Receiver Operating Characteristic - Area Under the Curve), which provides a measure of how well the model can distinguish between employees who will leave and employees who will stay based on their predicted probabilities. \n",
    "\n",
    "The first iteration of the logistic regression model resulted in a 82.57% AUC score, which is pretty high. "
   ]
  },
  {
   "cell_type": "markdown",
   "id": "7ed8834c",
   "metadata": {},
   "source": [
    "### Logistic Regression Hyperparameter Tuning"
   ]
  },
  {
   "cell_type": "code",
   "execution_count": 30,
   "id": "4da7352a",
   "metadata": {},
   "outputs": [],
   "source": [
    "# Define the logistic regression hyperparameter grid\n",
    "param_grid = {\n",
    "    'C': [0.001, 0.01, 0.1, 1, 10, 100, 1000],\n",
    "    'solver': ['lbfgs', 'newton-cg', 'liblinear', 'sag', 'saga']\n",
    "}\n",
    "\n",
    "# Create a logistic regression object\n",
    "log_reg2 = LogisticRegression(max_iter = 1000)\n",
    "\n",
    "# Use GridSearchCV to perform a hyperparameter search\n",
    "grid_search = GridSearchCV(log_reg2, param_grid, cv=5, scoring='roc_auc')\n",
    "grid_search.fit(X_train_scaled, y_train)\n",
    "\n",
    "# Get the best hyperparameters\n",
    "best_hyperparameters = grid_search.best_params_"
   ]
  },
  {
   "cell_type": "code",
   "execution_count": 31,
   "id": "8480caa4",
   "metadata": {},
   "outputs": [
    {
     "name": "stdout",
     "output_type": "stream",
     "text": [
      "Best Logistic Regression Model Hyperparameters: {'C': 0.1, 'solver': 'sag'}\n"
     ]
    }
   ],
   "source": [
    "print(\"Best Logistic Regression Model Hyperparameters:\", best_hyperparameters)"
   ]
  },
  {
   "cell_type": "code",
   "execution_count": 32,
   "id": "75af7d0c",
   "metadata": {},
   "outputs": [],
   "source": [
    "# Train a logistic regression model using the best hyperparameters\n",
    "log_reg3 = LogisticRegression(**best_hyperparameters)\n",
    "log_reg3.fit(X_train_scaled, y_train)\n",
    "\n",
    "# Make predictions on new data\n",
    "y_pred2 = log_reg3.predict(X_test_scaled)"
   ]
  },
  {
   "cell_type": "code",
   "execution_count": 33,
   "id": "8b5f5b9e",
   "metadata": {},
   "outputs": [
    {
     "name": "stdout",
     "output_type": "stream",
     "text": [
      "Training Result:\n",
      "================================================\n",
      "Accuracy Score: 90.28%\n",
      "_______________________________________________\n",
      "CLASSIFICATION REPORT:\n",
      "              precision    recall  f1-score   support\n",
      "\n",
      "           0       0.91      0.99      0.94       863\n",
      "           1       0.88      0.46      0.61       166\n",
      "\n",
      "    accuracy                           0.90      1029\n",
      "   macro avg       0.89      0.73      0.78      1029\n",
      "weighted avg       0.90      0.90      0.89      1029\n",
      "\n",
      "_______________________________________________\n",
      "Confusion Matrix: \n",
      " [[852  11]\n",
      " [ 89  77]]\n",
      "\n",
      "Testing Result:\n",
      "================================================\n",
      "Accuracy Score: 87.76%\n",
      "_______________________________________________\n",
      "CLASSIFICATION REPORT:\n",
      "              precision    recall  f1-score   support\n",
      "\n",
      "           0       0.90      0.96      0.93       370\n",
      "           1       0.70      0.42      0.53        71\n",
      "\n",
      "    accuracy                           0.88       441\n",
      "   macro avg       0.80      0.69      0.73       441\n",
      "weighted avg       0.86      0.88      0.86       441\n",
      "\n",
      "_______________________________________________\n",
      "Confusion Matrix: \n",
      " [[357  13]\n",
      " [ 41  30]]\n",
      "\n"
     ]
    }
   ],
   "source": [
    "# Review performance metrics\n",
    "print_score(log_reg3, X_train_scaled, y_train, X_test_scaled, y_test, train=True)\n",
    "print_score(log_reg3, X_train_scaled, y_train, X_test_scaled, y_test, train=False)"
   ]
  },
  {
   "cell_type": "code",
   "execution_count": 51,
   "id": "130dab7c",
   "metadata": {},
   "outputs": [
    {
     "name": "stdout",
     "output_type": "stream",
     "text": [
      "ROC AUC Score: 0.8232204035020937\n"
     ]
    }
   ],
   "source": [
    "# Review ROC AUC score\n",
    "lr_roc_final = roc_auc_score(y_test, log_reg3.predict_proba(X_test_scaled)[:,1], average='weighted')\n",
    "print(\"ROC AUC Score:\", lr_roc_final)"
   ]
  },
  {
   "cell_type": "code",
   "execution_count": 35,
   "id": "07cfb852",
   "metadata": {},
   "outputs": [
    {
     "data": {
      "text/plain": [
       "Text(0.5, 427.9555555555555, 'Predicted label')"
      ]
     },
     "execution_count": 35,
     "metadata": {},
     "output_type": "execute_result"
    },
    {
     "data": {
      "image/png": "[encoded data removed]",
      "text/plain": [
       "<Figure size 640x480 with 2 Axes>"
      ]
     },
     "metadata": {},
     "output_type": "display_data"
    }
   ],
   "source": [
    "# Confusion Matrix\n",
    "cnf_matrix = confusion_matrix(y_test, y_pred2)\n",
    "class_names=[0,1] # name  of classes\n",
    "fig, ax = plt.subplots()\n",
    "tick_marks = np.arange(len(class_names))\n",
    "plt.xticks(tick_marks, class_names)\n",
    "plt.yticks(tick_marks, class_names)\n",
    "\n",
    "# create heatmap\n",
    "sns.heatmap(pd.DataFrame(cnf_matrix), annot=True, cmap=\"YlGnBu\" ,fmt='g')\n",
    "ax.xaxis.set_label_position(\"top\")\n",
    "plt.tight_layout()\n",
    "plt.title('Logistic Regression Model Confusion Matrix', y=1.1)\n",
    "plt.ylabel('Actual label')\n",
    "plt.xlabel('Predicted label')"
   ]
  },
  {
   "cell_type": "markdown",
   "id": "31679f91",
   "metadata": {},
   "source": [
    "After hyperparameter tuning the logistic regression model, the best hyperparameters when scoring based on ROC AUC score were: {'C': 0.1, 'solver': 'sag'}.\n",
    "\n",
    "- This resulted in 90.28% training accuracy and 87.76% testing accuracy, which is slightly higher testing accuracy than the first iteration of the logistic regression model (86.62%). \n",
    "- The precision score (62% to 70%) and F1-score (52% to 53%) increased while the recall score (45% to 42%) decreased. \n",
    "- The ROC AUC score was suprisingly better in the first iteration at 82.57% compared to 82.32% after fine tuning the model, which suggests the model may have slightly overfitted the data. \n",
    "- When looking at the confusion matrix for the fine-tuned model, we can see that when we predict employee attrition, about 30% (13 of 43) of the time we are predicting a false positive, while the false negatives (predicting an employee will attrition, when in fact they are staying) is about 10% (41 of 398). "
   ]
  },
  {
   "cell_type": "markdown",
   "id": "2d3e3134",
   "metadata": {},
   "source": [
    "## Random Forest"
   ]
  },
  {
   "cell_type": "code",
   "execution_count": 36,
   "id": "8bc7b170",
   "metadata": {},
   "outputs": [
    {
     "data": {
      "text/html": [
       "<style>#sk-container-id-3 {color: black;background-color: white;}#sk-container-id-3 pre{padding: 0;}#sk-container-id-3 div.sk-toggleable {background-color: white;}#sk-container-id-3 label.sk-toggleable__label {cursor: pointer;display: block;width: 100%;margin-bottom: 0;padding: 0.3em;box-sizing: border-box;text-align: center;}#sk-container-id-3 label.sk-toggleable__label-arrow:before {content: \"▸\";float: left;margin-right: 0.25em;color: #696969;}#sk-container-id-3 label.sk-toggleable__label-arrow:hover:before {color: black;}#sk-container-id-3 div.sk-estimator:hover label.sk-toggleable__label-arrow:before {color: black;}#sk-container-id-3 div.sk-toggleable__content {max-height: 0;max-width: 0;overflow: hidden;text-align: left;background-color: #f0f8ff;}#sk-container-id-3 div.sk-toggleable__content pre {margin: 0.2em;color: black;border-radius: 0.25em;background-color: #f0f8ff;}#sk-container-id-3 input.sk-toggleable__control:checked~div.sk-toggleable__content {max-height: 200px;max-width: 100%;overflow: auto;}#sk-container-id-3 input.sk-toggleable__control:checked~label.sk-toggleable__label-arrow:before {content: \"▾\";}#sk-container-id-3 div.sk-estimator input.sk-toggleable__control:checked~label.sk-toggleable__label {background-color: #d4ebff;}#sk-container-id-3 div.sk-label input.sk-toggleable__control:checked~label.sk-toggleable__label {background-color: #d4ebff;}#sk-container-id-3 input.sk-hidden--visually {border: 0;clip: rect(1px 1px 1px 1px);clip: rect(1px, 1px, 1px, 1px);height: 1px;margin: -1px;overflow: hidden;padding: 0;position: absolute;width: 1px;}#sk-container-id-3 div.sk-estimator {font-family: monospace;background-color: #f0f8ff;border: 1px dotted black;border-radius: 0.25em;box-sizing: border-box;margin-bottom: 0.5em;}#sk-container-id-3 div.sk-estimator:hover {background-color: #d4ebff;}#sk-container-id-3 div.sk-parallel-item::after {content: \"\";width: 100%;border-bottom: 1px solid gray;flex-grow: 1;}#sk-container-id-3 div.sk-label:hover label.sk-toggleable__label {background-color: #d4ebff;}#sk-container-id-3 div.sk-serial::before {content: \"\";position: absolute;border-left: 1px solid gray;box-sizing: border-box;top: 0;bottom: 0;left: 50%;z-index: 0;}#sk-container-id-3 div.sk-serial {display: flex;flex-direction: column;align-items: center;background-color: white;padding-right: 0.2em;padding-left: 0.2em;position: relative;}#sk-container-id-3 div.sk-item {position: relative;z-index: 1;}#sk-container-id-3 div.sk-parallel {display: flex;align-items: stretch;justify-content: center;background-color: white;position: relative;}#sk-container-id-3 div.sk-item::before, #sk-container-id-3 div.sk-parallel-item::before {content: \"\";position: absolute;border-left: 1px solid gray;box-sizing: border-box;top: 0;bottom: 0;left: 50%;z-index: -1;}#sk-container-id-3 div.sk-parallel-item {display: flex;flex-direction: column;z-index: 1;position: relative;background-color: white;}#sk-container-id-3 div.sk-parallel-item:first-child::after {align-self: flex-end;width: 50%;}#sk-container-id-3 div.sk-parallel-item:last-child::after {align-self: flex-start;width: 50%;}#sk-container-id-3 div.sk-parallel-item:only-child::after {width: 0;}#sk-container-id-3 div.sk-dashed-wrapped {border: 1px dashed gray;margin: 0 0.4em 0.5em 0.4em;box-sizing: border-box;padding-bottom: 0.4em;background-color: white;}#sk-container-id-3 div.sk-label label {font-family: monospace;font-weight: bold;display: inline-block;line-height: 1.2em;}#sk-container-id-3 div.sk-label-container {text-align: center;}#sk-container-id-3 div.sk-container {/* jupyter's `normalize.less` sets `[hidden] { display: none; }` but bootstrap.min.css set `[hidden] { display: none !important; }` so we also need the `!important` here to be able to override the default hidden behavior on the sphinx rendered scikit-learn.org. See: https://github.com/scikit-learn/scikit-learn/issues/21755 */display: inline-block !important;position: relative;}#sk-container-id-3 div.sk-text-repr-fallback {display: none;}</style><div id=\"sk-container-id-3\" class=\"sk-top-container\"><div class=\"sk-text-repr-fallback\"><pre>RandomForestClassifier(random_state=30)</pre><b>In a Jupyter environment, please rerun this cell to show the HTML representation or trust the notebook. <br />On GitHub, the HTML representation is unable to render, please try loading this page with nbviewer.org.</b></div><div class=\"sk-container\" hidden><div class=\"sk-item\"><div class=\"sk-estimator sk-toggleable\"><input class=\"sk-toggleable__control sk-hidden--visually\" id=\"sk-estimator-id-3\" type=\"checkbox\" checked><label for=\"sk-estimator-id-3\" class=\"sk-toggleable__label sk-toggleable__label-arrow\">RandomForestClassifier</label><div class=\"sk-toggleable__content\"><pre>RandomForestClassifier(random_state=30)</pre></div></div></div></div></div>"
      ],
      "text/plain": [
       "RandomForestClassifier(random_state=30)"
      ]
     },
     "execution_count": 36,
     "metadata": {},
     "output_type": "execute_result"
    }
   ],
   "source": [
    "# Create a Random Forest Classifier Object\n",
    "rf_clf1 = RandomForestClassifier(n_estimators=100, random_state=30)\n",
    "\n",
    "# Fit Random Forest Classifier to training data\n",
    "rf_clf1.fit(X_train_scaled, y_train)"
   ]
  },
  {
   "cell_type": "code",
   "execution_count": 37,
   "id": "4a35ea47",
   "metadata": {},
   "outputs": [],
   "source": [
    "# Make preditions on the test set\n",
    "y_pred = rf_clf1.predict(X_test_scaled)"
   ]
  },
  {
   "cell_type": "code",
   "execution_count": 38,
   "id": "ab71e413",
   "metadata": {},
   "outputs": [
    {
     "name": "stdout",
     "output_type": "stream",
     "text": [
      "Training Result:\n",
      "================================================\n",
      "Accuracy Score: 100.00%\n",
      "_______________________________________________\n",
      "CLASSIFICATION REPORT:\n",
      "              precision    recall  f1-score   support\n",
      "\n",
      "           0       1.00      1.00      1.00       863\n",
      "           1       1.00      1.00      1.00       166\n",
      "\n",
      "    accuracy                           1.00      1029\n",
      "   macro avg       1.00      1.00      1.00      1029\n",
      "weighted avg       1.00      1.00      1.00      1029\n",
      "\n",
      "_______________________________________________\n",
      "Confusion Matrix: \n",
      " [[863   0]\n",
      " [  0 166]]\n",
      "\n",
      "Testing Result:\n",
      "================================================\n",
      "Accuracy Score: 85.49%\n",
      "_______________________________________________\n",
      "CLASSIFICATION REPORT:\n",
      "              precision    recall  f1-score   support\n",
      "\n",
      "           0       0.86      0.99      0.92       370\n",
      "           1       0.77      0.14      0.24        71\n",
      "\n",
      "    accuracy                           0.85       441\n",
      "   macro avg       0.81      0.57      0.58       441\n",
      "weighted avg       0.84      0.85      0.81       441\n",
      "\n",
      "_______________________________________________\n",
      "Confusion Matrix: \n",
      " [[367   3]\n",
      " [ 61  10]]\n",
      "\n"
     ]
    }
   ],
   "source": [
    "# Review performance metrics\n",
    "print_score(rf_clf1, X_train_scaled, y_train, X_test_scaled, y_test, train=True)\n",
    "print_score(rf_clf1, X_train_scaled, y_train, X_test_scaled, y_test, train=False)"
   ]
  },
  {
   "cell_type": "code",
   "execution_count": 39,
   "id": "4c8b3ced",
   "metadata": {},
   "outputs": [
    {
     "name": "stdout",
     "output_type": "stream",
     "text": [
      "ROC AUC Score: 0.829139703083365\n"
     ]
    }
   ],
   "source": [
    "# Review ROC AUC score\n",
    "rf_roc = roc_auc_score(y_test, rf_clf1.predict_proba(X_test_scaled)[:,1], average='weighted')\n",
    "print(\"ROC AUC Score:\", rf_roc)"
   ]
  },
  {
   "cell_type": "markdown",
   "id": "b780ca05",
   "metadata": {},
   "source": [
    "The first iteration of the random forest classifier model resulted in a training accuracy of 100% and a testing accuracy of 85.49%. While the training accuracy is excellent, the 14.5% difference in training and testing accuracy suggests that the model overfitted the data. \n",
    "\n",
    "For the attrition class, the precision score is quite high at 77%, but the recall score of 14% and F1-score of 24% are relatively low. \n",
    "\n",
    "When looking at the weighted-average of the scores, they are quite respectable at precision=84%, recall=85%, and F1-score=81%. \n",
    "\n",
    "The ROC AUC score is 82.91% which is higher than the logistic regression models. "
   ]
  },
  {
   "cell_type": "markdown",
   "id": "b7265a2d",
   "metadata": {},
   "source": [
    "### Random Forest Hyperparameter Tuning"
   ]
  },
  {
   "cell_type": "code",
   "execution_count": 40,
   "id": "53183342",
   "metadata": {},
   "outputs": [],
   "source": [
    "# Define the random forest hyperparameter grid\n",
    "n_estimators = [int(x) for x in np.linspace(start=200, stop=2000, num=10)]\n",
    "max_depth = [int(x) for x in np.linspace(10, 110, num=11)]\n",
    "max_depth.append(None)\n",
    "min_samples_split = [2, 4, 6, 8, 10]\n",
    "min_samples_leaf = [1, 2, 3, 4]\n",
    "bootstrap = [True, False]\n",
    "\n",
    "params_grid = {\n",
    "    'n_estimators': n_estimators, \n",
    "    'max_depth': max_depth, \n",
    "    'min_samples_split': min_samples_split,\n",
    "    'min_samples_leaf': min_samples_leaf, \n",
    "    'bootstrap': bootstrap\n",
    "}"
   ]
  },
  {
   "cell_type": "code",
   "execution_count": 41,
   "id": "ebdfefe8",
   "metadata": {},
   "outputs": [
    {
     "name": "stdout",
     "output_type": "stream",
     "text": [
      "Fitting 5 folds for each of 400 candidates, totalling 2000 fits\n",
      "Best paramters: {'n_estimators': 200, 'min_samples_split': 2, 'min_samples_leaf': 3, 'max_depth': 10, 'bootstrap': True}\n"
     ]
    },
    {
     "data": {
      "text/html": [
       "<style>#sk-container-id-4 {color: black;background-color: white;}#sk-container-id-4 pre{padding: 0;}#sk-container-id-4 div.sk-toggleable {background-color: white;}#sk-container-id-4 label.sk-toggleable__label {cursor: pointer;display: block;width: 100%;margin-bottom: 0;padding: 0.3em;box-sizing: border-box;text-align: center;}#sk-container-id-4 label.sk-toggleable__label-arrow:before {content: \"▸\";float: left;margin-right: 0.25em;color: #696969;}#sk-container-id-4 label.sk-toggleable__label-arrow:hover:before {color: black;}#sk-container-id-4 div.sk-estimator:hover label.sk-toggleable__label-arrow:before {color: black;}#sk-container-id-4 div.sk-toggleable__content {max-height: 0;max-width: 0;overflow: hidden;text-align: left;background-color: #f0f8ff;}#sk-container-id-4 div.sk-toggleable__content pre {margin: 0.2em;color: black;border-radius: 0.25em;background-color: #f0f8ff;}#sk-container-id-4 input.sk-toggleable__control:checked~div.sk-toggleable__content {max-height: 200px;max-width: 100%;overflow: auto;}#sk-container-id-4 input.sk-toggleable__control:checked~label.sk-toggleable__label-arrow:before {content: \"▾\";}#sk-container-id-4 div.sk-estimator input.sk-toggleable__control:checked~label.sk-toggleable__label {background-color: #d4ebff;}#sk-container-id-4 div.sk-label input.sk-toggleable__control:checked~label.sk-toggleable__label {background-color: #d4ebff;}#sk-container-id-4 input.sk-hidden--visually {border: 0;clip: rect(1px 1px 1px 1px);clip: rect(1px, 1px, 1px, 1px);height: 1px;margin: -1px;overflow: hidden;padding: 0;position: absolute;width: 1px;}#sk-container-id-4 div.sk-estimator {font-family: monospace;background-color: #f0f8ff;border: 1px dotted black;border-radius: 0.25em;box-sizing: border-box;margin-bottom: 0.5em;}#sk-container-id-4 div.sk-estimator:hover {background-color: #d4ebff;}#sk-container-id-4 div.sk-parallel-item::after {content: \"\";width: 100%;border-bottom: 1px solid gray;flex-grow: 1;}#sk-container-id-4 div.sk-label:hover label.sk-toggleable__label {background-color: #d4ebff;}#sk-container-id-4 div.sk-serial::before {content: \"\";position: absolute;border-left: 1px solid gray;box-sizing: border-box;top: 0;bottom: 0;left: 50%;z-index: 0;}#sk-container-id-4 div.sk-serial {display: flex;flex-direction: column;align-items: center;background-color: white;padding-right: 0.2em;padding-left: 0.2em;position: relative;}#sk-container-id-4 div.sk-item {position: relative;z-index: 1;}#sk-container-id-4 div.sk-parallel {display: flex;align-items: stretch;justify-content: center;background-color: white;position: relative;}#sk-container-id-4 div.sk-item::before, #sk-container-id-4 div.sk-parallel-item::before {content: \"\";position: absolute;border-left: 1px solid gray;box-sizing: border-box;top: 0;bottom: 0;left: 50%;z-index: -1;}#sk-container-id-4 div.sk-parallel-item {display: flex;flex-direction: column;z-index: 1;position: relative;background-color: white;}#sk-container-id-4 div.sk-parallel-item:first-child::after {align-self: flex-end;width: 50%;}#sk-container-id-4 div.sk-parallel-item:last-child::after {align-self: flex-start;width: 50%;}#sk-container-id-4 div.sk-parallel-item:only-child::after {width: 0;}#sk-container-id-4 div.sk-dashed-wrapped {border: 1px dashed gray;margin: 0 0.4em 0.5em 0.4em;box-sizing: border-box;padding-bottom: 0.4em;background-color: white;}#sk-container-id-4 div.sk-label label {font-family: monospace;font-weight: bold;display: inline-block;line-height: 1.2em;}#sk-container-id-4 div.sk-label-container {text-align: center;}#sk-container-id-4 div.sk-container {/* jupyter's `normalize.less` sets `[hidden] { display: none; }` but bootstrap.min.css set `[hidden] { display: none !important; }` so we also need the `!important` here to be able to override the default hidden behavior on the sphinx rendered scikit-learn.org. See: https://github.com/scikit-learn/scikit-learn/issues/21755 */display: inline-block !important;position: relative;}#sk-container-id-4 div.sk-text-repr-fallback {display: none;}</style><div id=\"sk-container-id-4\" class=\"sk-top-container\"><div class=\"sk-text-repr-fallback\"><pre>RandomForestClassifier(max_depth=10, min_samples_leaf=3, n_estimators=200)</pre><b>In a Jupyter environment, please rerun this cell to show the HTML representation or trust the notebook. <br />On GitHub, the HTML representation is unable to render, please try loading this page with nbviewer.org.</b></div><div class=\"sk-container\" hidden><div class=\"sk-item\"><div class=\"sk-estimator sk-toggleable\"><input class=\"sk-toggleable__control sk-hidden--visually\" id=\"sk-estimator-id-4\" type=\"checkbox\" checked><label for=\"sk-estimator-id-4\" class=\"sk-toggleable__label sk-toggleable__label-arrow\">RandomForestClassifier</label><div class=\"sk-toggleable__content\"><pre>RandomForestClassifier(max_depth=10, min_samples_leaf=3, n_estimators=200)</pre></div></div></div></div></div>"
      ],
      "text/plain": [
       "RandomForestClassifier(max_depth=10, min_samples_leaf=3, n_estimators=200)"
      ]
     },
     "execution_count": 41,
     "metadata": {},
     "output_type": "execute_result"
    }
   ],
   "source": [
    "# Create a Random Forest Classifier Object\n",
    "rf_clf2 = RandomForestClassifier(random_state=30)\n",
    "\n",
    "# Use RandomizedSearchCV to perform a hyperparameter search\n",
    "rf_cv = RandomizedSearchCV(\n",
    "    estimator=rf_clf2, \n",
    "    scoring='roc_auc',\n",
    "    param_distributions=params_grid,\n",
    "    n_iter=400,\n",
    "    cv=5, \n",
    "    verbose=1, \n",
    "    random_state=30,\n",
    "    n_jobs=-1\n",
    ")\n",
    "\n",
    "rf_cv.fit(X_train_scaled, y_train)\n",
    "\n",
    "# Get best parameters\n",
    "rf_best_params = rf_cv.best_params_\n",
    "print(f\"Best paramters: {rf_best_params}\")\n",
    "\n",
    "# Train Random Foreset Classifier using best parameters and fit to model\n",
    "rf_clf3 = RandomForestClassifier(**rf_best_params)\n",
    "rf_clf3.fit(X_train_scaled, y_train)"
   ]
  },
  {
   "cell_type": "code",
   "execution_count": 42,
   "id": "2730a9b7",
   "metadata": {},
   "outputs": [
    {
     "name": "stdout",
     "output_type": "stream",
     "text": [
      "Training Result:\n",
      "================================================\n",
      "Accuracy Score: 92.52%\n",
      "_______________________________________________\n",
      "CLASSIFICATION REPORT:\n",
      "              precision    recall  f1-score   support\n",
      "\n",
      "           0       0.92      1.00      0.96       863\n",
      "           1       1.00      0.54      0.70       166\n",
      "\n",
      "    accuracy                           0.93      1029\n",
      "   macro avg       0.96      0.77      0.83      1029\n",
      "weighted avg       0.93      0.93      0.92      1029\n",
      "\n",
      "_______________________________________________\n",
      "Confusion Matrix: \n",
      " [[863   0]\n",
      " [ 77  89]]\n",
      "\n",
      "Testing Result:\n",
      "================================================\n",
      "Accuracy Score: 85.71%\n",
      "_______________________________________________\n",
      "CLASSIFICATION REPORT:\n",
      "              precision    recall  f1-score   support\n",
      "\n",
      "           0       0.86      1.00      0.92       370\n",
      "           1       0.90      0.13      0.22        71\n",
      "\n",
      "    accuracy                           0.86       441\n",
      "   macro avg       0.88      0.56      0.57       441\n",
      "weighted avg       0.86      0.86      0.81       441\n",
      "\n",
      "_______________________________________________\n",
      "Confusion Matrix: \n",
      " [[369   1]\n",
      " [ 62   9]]\n",
      "\n"
     ]
    }
   ],
   "source": [
    "# Review performance metrics\n",
    "print_score(rf_clf3, X_train_scaled, y_train, X_test_scaled, y_test, train=True)\n",
    "print_score(rf_clf3, X_train_scaled, y_train, X_test_scaled, y_test, train=False)"
   ]
  },
  {
   "cell_type": "code",
   "execution_count": 43,
   "id": "8732f9ab",
   "metadata": {},
   "outputs": [
    {
     "name": "stdout",
     "output_type": "stream",
     "text": [
      "ROC AUC Score: 0.8215835553863723\n"
     ]
    }
   ],
   "source": [
    "# Review ROC AUC score\n",
    "rf_roc_final = roc_auc_score(y_test, rf_clf3.predict_proba(X_test_scaled)[:,1], average='weighted')\n",
    "print(\"ROC AUC Score:\", rf_roc_final)"
   ]
  },
  {
   "cell_type": "code",
   "execution_count": 44,
   "id": "004a0d70",
   "metadata": {},
   "outputs": [
    {
     "data": {
      "text/plain": [
       "Text(0.5, 427.9555555555555, 'Predicted Label')"
      ]
     },
     "execution_count": 44,
     "metadata": {},
     "output_type": "execute_result"
    },
    {
     "data": {
      "image/png": "[encoded data removed]",
      "text/plain": [
       "<Figure size 640x480 with 2 Axes>"
      ]
     },
     "metadata": {},
     "output_type": "display_data"
    }
   ],
   "source": [
    "# Confusion Matrix\n",
    "cnf_matrix = confusion_matrix(y_test, rf_clf3.predict(X_test_scaled))\n",
    "class_names=[0,1] # name  of classes\n",
    "fig, ax = plt.subplots()\n",
    "tick_marks = np.arange(len(class_names))\n",
    "plt.xticks(tick_marks, class_names)\n",
    "plt.yticks(tick_marks, class_names)\n",
    "\n",
    "# create heatmap\n",
    "sns.heatmap(pd.DataFrame(cnf_matrix), annot=True, cmap=\"YlGnBu\" ,fmt='g')\n",
    "ax.xaxis.set_label_position(\"top\")\n",
    "plt.tight_layout()\n",
    "plt.title('Random Forest Model Confusion Matrix', y=1.1)\n",
    "plt.ylabel('Actual Label')\n",
    "plt.xlabel('Predicted Label')"
   ]
  },
  {
   "cell_type": "markdown",
   "id": "1874a9d3",
   "metadata": {},
   "source": [
    "After hyperparameter tuning the random forest classifier model, the best hyperparameters were: \n",
    "{'n_estimators': 200, 'min_samples_split': 2, 'min_samples_leaf': 3, 'max_depth': 10, 'bootstrap': True}\n",
    "\n",
    "- This resulted in 92.52 % training accuracy and 85.71% testing accuracy. The fine tuned model had a lower training accuracy (down from 100%), but had a slighlty higher testing accuracy (up from 85.49%). This may be due to less overfitting of the data by the model. \n",
    "- The precision score increased from (77% to 90%), but the recall score and F1-score decreased from 14% and 24% to 13% and 22%, respectively. \n",
    "- The ROC AUC score slightly declined from first iteration of 82.91% to 82.16%. \n",
    "- When looking at the confusion matrix for the fine-tuned random forest classifer model, we can see that when we predict employee attrition, about 10% (1 of 10) of the time we are predicting a false positive, while the false negatives (predicting an employee will attrition, when in fact they are staying) is about 14% (62 of 431). "
   ]
  },
  {
   "cell_type": "code",
   "execution_count": 74,
   "id": "2acc5a10",
   "metadata": {},
   "outputs": [
    {
     "data": {
      "application/vnd.plotly.v1+json": {
       "config": {
        "plotlyServerURL": "https://plot.ly"
       },
       "data": [
        {
         "alignmentgroup": "True",
         "hovertemplate": "%{x}<br>Importance = %{y:.2f}",
         "legendgroup": "OverTime_Yes",
         "marker": {
          "color": "#c6ebd1",
          "line": {
           "color": "#3F3B3A",
           "width": 1
          },
          "opacity": 0.7,
          "pattern": {
           "shape": ""
          }
         },
         "name": "OverTime_Yes",
         "offsetgroup": "OverTime_Yes",
         "orientation": "v",
         "showlegend": true,
         "text": [
          0.08373071746557736
         ],
         "textposition": "outside",
         "texttemplate": "%{text:.2f}",
         "type": "bar",
         "x": [
          "OverTime_Yes"
         ],
         "xaxis": "x",
         "y": [
          0.08373071746557736
         ],
         "yaxis": "y"
        },
        {
         "alignmentgroup": "True",
         "hovertemplate": "%{x}<br>Importance = %{y:.2f}",
         "legendgroup": "MonthlyIncome",
         "marker": {
          "color": "#abe2be",
          "line": {
           "color": "#3F3B3A",
           "width": 1
          },
          "opacity": 0.7,
          "pattern": {
           "shape": ""
          }
         },
         "name": "MonthlyIncome",
         "offsetgroup": "MonthlyIncome",
         "orientation": "v",
         "showlegend": true,
         "text": [
          0.06914608245226107
         ],
         "textposition": "outside",
         "texttemplate": "%{text:.2f}",
         "type": "bar",
         "x": [
          "MonthlyIncome"
         ],
         "xaxis": "x",
         "y": [
          0.06914608245226107
         ],
         "yaxis": "y"
        },
        {
         "alignmentgroup": "True",
         "hovertemplate": "%{x}<br>Importance = %{y:.2f}",
         "legendgroup": "Age",
         "marker": {
          "color": "#8bdab2",
          "line": {
           "color": "#3F3B3A",
           "width": 1
          },
          "opacity": 0.7,
          "pattern": {
           "shape": ""
          }
         },
         "name": "Age",
         "offsetgroup": "Age",
         "orientation": "v",
         "showlegend": true,
         "text": [
          0.06334219985034933
         ],
         "textposition": "outside",
         "texttemplate": "%{text:.2f}",
         "type": "bar",
         "x": [
          "Age"
         ],
         "xaxis": "x",
         "y": [
          0.06334219985034933
         ],
         "yaxis": "y"
        },
        {
         "alignmentgroup": "True",
         "hovertemplate": "%{x}<br>Importance = %{y:.2f}",
         "legendgroup": "TotalWorkingYears",
         "marker": {
          "color": "#68d1ad",
          "line": {
           "color": "#3F3B3A",
           "width": 1
          },
          "opacity": 0.7,
          "pattern": {
           "shape": ""
          }
         },
         "name": "TotalWorkingYears",
         "offsetgroup": "TotalWorkingYears",
         "orientation": "v",
         "showlegend": true,
         "text": [
          0.05105439103354946
         ],
         "textposition": "outside",
         "texttemplate": "%{text:.2f}",
         "type": "bar",
         "x": [
          "TotalWorkingYears"
         ],
         "xaxis": "x",
         "y": [
          0.05105439103354946
         ],
         "yaxis": "y"
        },
        {
         "alignmentgroup": "True",
         "hovertemplate": "%{x}<br>Importance = %{y:.2f}",
         "legendgroup": "DistanceFromHome",
         "marker": {
          "color": "#4fc5ad",
          "line": {
           "color": "#3F3B3A",
           "width": 1
          },
          "opacity": 0.7,
          "pattern": {
           "shape": ""
          }
         },
         "name": "DistanceFromHome",
         "offsetgroup": "DistanceFromHome",
         "orientation": "v",
         "showlegend": true,
         "text": [
          0.05042766494808404
         ],
         "textposition": "outside",
         "texttemplate": "%{text:.2f}",
         "type": "bar",
         "x": [
          "DistanceFromHome"
         ],
         "xaxis": "x",
         "y": [
          0.05042766494808404
         ],
         "yaxis": "y"
        },
        {
         "alignmentgroup": "True",
         "hovertemplate": "%{x}<br>Importance = %{y:.2f}",
         "legendgroup": "DailyRate",
         "marker": {
          "color": "#40b7ad",
          "line": {
           "color": "#3F3B3A",
           "width": 1
          },
          "opacity": 0.7,
          "pattern": {
           "shape": ""
          }
         },
         "name": "DailyRate",
         "offsetgroup": "DailyRate",
         "orientation": "v",
         "showlegend": true,
         "text": [
          0.047621645164731136
         ],
         "textposition": "outside",
         "texttemplate": "%{text:.2f}",
         "type": "bar",
         "x": [
          "DailyRate"
         ],
         "xaxis": "x",
         "y": [
          0.047621645164731136
         ],
         "yaxis": "y"
        },
        {
         "alignmentgroup": "True",
         "hovertemplate": "%{x}<br>Importance = %{y:.2f}",
         "legendgroup": "MonthlyRate",
         "marker": {
          "color": "#38aaac",
          "line": {
           "color": "#3F3B3A",
           "width": 1
          },
          "opacity": 0.7,
          "pattern": {
           "shape": ""
          }
         },
         "name": "MonthlyRate",
         "offsetgroup": "MonthlyRate",
         "orientation": "v",
         "showlegend": true,
         "text": [
          0.04493481445148153
         ],
         "textposition": "outside",
         "texttemplate": "%{text:.2f}",
         "type": "bar",
         "x": [
          "MonthlyRate"
         ],
         "xaxis": "x",
         "y": [
          0.04493481445148153
         ],
         "yaxis": "y"
        },
        {
         "alignmentgroup": "True",
         "hovertemplate": "%{x}<br>Importance = %{y:.2f}",
         "legendgroup": "HourlyRate",
         "marker": {
          "color": "#359caa",
          "line": {
           "color": "#3F3B3A",
           "width": 1
          },
          "opacity": 0.7,
          "pattern": {
           "shape": ""
          }
         },
         "name": "HourlyRate",
         "offsetgroup": "HourlyRate",
         "orientation": "v",
         "showlegend": true,
         "text": [
          0.04472849919528423
         ],
         "textposition": "outside",
         "texttemplate": "%{text:.2f}",
         "type": "bar",
         "x": [
          "HourlyRate"
         ],
         "xaxis": "x",
         "y": [
          0.04472849919528423
         ],
         "yaxis": "y"
        },
        {
         "alignmentgroup": "True",
         "hovertemplate": "%{x}<br>Importance = %{y:.2f}",
         "legendgroup": "YearsAtCompany",
         "marker": {
          "color": "#348fa7",
          "line": {
           "color": "#3F3B3A",
           "width": 1
          },
          "opacity": 0.7,
          "pattern": {
           "shape": ""
          }
         },
         "name": "YearsAtCompany",
         "offsetgroup": "YearsAtCompany",
         "orientation": "v",
         "showlegend": true,
         "text": [
          0.03656995463412636
         ],
         "textposition": "outside",
         "texttemplate": "%{text:.2f}",
         "type": "bar",
         "x": [
          "YearsAtCompany"
         ],
         "xaxis": "x",
         "y": [
          0.03656995463412636
         ],
         "yaxis": "y"
        },
        {
         "alignmentgroup": "True",
         "hovertemplate": "%{x}<br>Importance = %{y:.2f}",
         "legendgroup": "NumCompaniesWorked",
         "marker": {
          "color": "#3482a4",
          "line": {
           "color": "#3F3B3A",
           "width": 1
          },
          "opacity": 0.7,
          "pattern": {
           "shape": ""
          }
         },
         "name": "NumCompaniesWorked",
         "offsetgroup": "NumCompaniesWorked",
         "orientation": "v",
         "showlegend": true,
         "text": [
          0.032579561903489256
         ],
         "textposition": "outside",
         "texttemplate": "%{text:.2f}",
         "type": "bar",
         "x": [
          "NumCompaniesWorked"
         ],
         "xaxis": "x",
         "y": [
          0.032579561903489256
         ],
         "yaxis": "y"
        },
        {
         "alignmentgroup": "True",
         "hovertemplate": "%{x}<br>Importance = %{y:.2f}",
         "legendgroup": "PercentSalaryHike",
         "marker": {
          "color": "#3573a1",
          "line": {
           "color": "#3F3B3A",
           "width": 1
          },
          "opacity": 0.7,
          "pattern": {
           "shape": ""
          }
         },
         "name": "PercentSalaryHike",
         "offsetgroup": "PercentSalaryHike",
         "orientation": "v",
         "showlegend": true,
         "text": [
          0.03223688367191408
         ],
         "textposition": "outside",
         "texttemplate": "%{text:.2f}",
         "type": "bar",
         "x": [
          "PercentSalaryHike"
         ],
         "xaxis": "x",
         "y": [
          0.03223688367191408
         ],
         "yaxis": "y"
        },
        {
         "alignmentgroup": "True",
         "hovertemplate": "%{x}<br>Importance = %{y:.2f}",
         "legendgroup": "YearsWithCurrManager",
         "marker": {
          "color": "#37659e",
          "line": {
           "color": "#3F3B3A",
           "width": 1
          },
          "opacity": 0.7,
          "pattern": {
           "shape": ""
          }
         },
         "name": "YearsWithCurrManager",
         "offsetgroup": "YearsWithCurrManager",
         "orientation": "v",
         "showlegend": true,
         "text": [
          0.031216780309145823
         ],
         "textposition": "outside",
         "texttemplate": "%{text:.2f}",
         "type": "bar",
         "x": [
          "YearsWithCurrManager"
         ],
         "xaxis": "x",
         "y": [
          0.031216780309145823
         ],
         "yaxis": "y"
        },
        {
         "alignmentgroup": "True",
         "hovertemplate": "%{x}<br>Importance = %{y:.2f}",
         "legendgroup": "EnvironmentSatisfaction",
         "marker": {
          "color": "#3b5799",
          "line": {
           "color": "#3F3B3A",
           "width": 1
          },
          "opacity": 0.7,
          "pattern": {
           "shape": ""
          }
         },
         "name": "EnvironmentSatisfaction",
         "offsetgroup": "EnvironmentSatisfaction",
         "orientation": "v",
         "showlegend": true,
         "text": [
          0.03119543300197324
         ],
         "textposition": "outside",
         "texttemplate": "%{text:.2f}",
         "type": "bar",
         "x": [
          "EnvironmentSatisfaction"
         ],
         "xaxis": "x",
         "y": [
          0.03119543300197324
         ],
         "yaxis": "y"
        },
        {
         "alignmentgroup": "True",
         "hovertemplate": "%{x}<br>Importance = %{y:.2f}",
         "legendgroup": "JobSatisfaction",
         "marker": {
          "color": "#40498e",
          "line": {
           "color": "#3F3B3A",
           "width": 1
          },
          "opacity": 0.7,
          "pattern": {
           "shape": ""
          }
         },
         "name": "JobSatisfaction",
         "offsetgroup": "JobSatisfaction",
         "orientation": "v",
         "showlegend": true,
         "text": [
          0.030008129821392344
         ],
         "textposition": "outside",
         "texttemplate": "%{text:.2f}",
         "type": "bar",
         "x": [
          "JobSatisfaction"
         ],
         "xaxis": "x",
         "y": [
          0.030008129821392344
         ],
         "yaxis": "y"
        },
        {
         "alignmentgroup": "True",
         "hovertemplate": "%{x}<br>Importance = %{y:.2f}",
         "legendgroup": "JobLevel",
         "marker": {
          "color": "#413d7b",
          "line": {
           "color": "#3F3B3A",
           "width": 1
          },
          "opacity": 0.7,
          "pattern": {
           "shape": ""
          }
         },
         "name": "JobLevel",
         "offsetgroup": "JobLevel",
         "orientation": "v",
         "showlegend": true,
         "text": [
          0.029123158138955215
         ],
         "textposition": "outside",
         "texttemplate": "%{text:.2f}",
         "type": "bar",
         "x": [
          "JobLevel"
         ],
         "xaxis": "x",
         "y": [
          0.029123158138955215
         ],
         "yaxis": "y"
        },
        {
         "alignmentgroup": "True",
         "hovertemplate": "%{x}<br>Importance = %{y:.2f}",
         "legendgroup": "StockOptionLevel",
         "marker": {
          "color": "#3d3164",
          "line": {
           "color": "#3F3B3A",
           "width": 1
          },
          "opacity": 0.7,
          "pattern": {
           "shape": ""
          }
         },
         "name": "StockOptionLevel",
         "offsetgroup": "StockOptionLevel",
         "orientation": "v",
         "showlegend": true,
         "text": [
          0.025599798509512522
         ],
         "textposition": "outside",
         "texttemplate": "%{text:.2f}",
         "type": "bar",
         "x": [
          "StockOptionLevel"
         ],
         "xaxis": "x",
         "y": [
          0.025599798509512522
         ],
         "yaxis": "y"
        },
        {
         "alignmentgroup": "True",
         "hovertemplate": "%{x}<br>Importance = %{y:.2f}",
         "legendgroup": "YearsInCurrentRole",
         "marker": {
          "color": "#37284f",
          "line": {
           "color": "#3F3B3A",
           "width": 1
          },
          "opacity": 0.7,
          "pattern": {
           "shape": ""
          }
         },
         "name": "YearsInCurrentRole",
         "offsetgroup": "YearsInCurrentRole",
         "orientation": "v",
         "showlegend": true,
         "text": [
          0.025142514100552866
         ],
         "textposition": "outside",
         "texttemplate": "%{text:.2f}",
         "type": "bar",
         "x": [
          "YearsInCurrentRole"
         ],
         "xaxis": "x",
         "y": [
          0.025142514100552866
         ],
         "yaxis": "y"
        },
        {
         "alignmentgroup": "True",
         "hovertemplate": "%{x}<br>Importance = %{y:.2f}",
         "legendgroup": "RelationshipSatisfaction",
         "marker": {
          "color": "#2e1e3b",
          "line": {
           "color": "#3F3B3A",
           "width": 1
          },
          "opacity": 0.7,
          "pattern": {
           "shape": ""
          }
         },
         "name": "RelationshipSatisfaction",
         "offsetgroup": "RelationshipSatisfaction",
         "orientation": "v",
         "showlegend": true,
         "text": [
          0.023255522229320622
         ],
         "textposition": "outside",
         "texttemplate": "%{text:.2f}",
         "type": "bar",
         "x": [
          "RelationshipSatisfaction"
         ],
         "xaxis": "x",
         "y": [
          0.023255522229320622
         ],
         "yaxis": "y"
        },
        {
         "alignmentgroup": "True",
         "hovertemplate": "%{x}<br>Importance = %{y:.2f}",
         "legendgroup": "YearsSinceLastPromotion",
         "marker": {
          "color": "#241628",
          "line": {
           "color": "#3F3B3A",
           "width": 1
          },
          "opacity": 0.7,
          "pattern": {
           "shape": ""
          }
         },
         "name": "YearsSinceLastPromotion",
         "offsetgroup": "YearsSinceLastPromotion",
         "orientation": "v",
         "showlegend": true,
         "text": [
          0.021805028822216903
         ],
         "textposition": "outside",
         "texttemplate": "%{text:.2f}",
         "type": "bar",
         "x": [
          "YearsSinceLastPromotion"
         ],
         "xaxis": "x",
         "y": [
          0.021805028822216903
         ],
         "yaxis": "y"
        },
        {
         "alignmentgroup": "True",
         "hovertemplate": "%{x}<br>Importance = %{y:.2f}",
         "legendgroup": "TrainingTimesLastYear",
         "marker": {
          "color": "#180d16",
          "line": {
           "color": "#3F3B3A",
           "width": 1
          },
          "opacity": 0.7,
          "pattern": {
           "shape": ""
          }
         },
         "name": "TrainingTimesLastYear",
         "offsetgroup": "TrainingTimesLastYear",
         "orientation": "v",
         "showlegend": true,
         "text": [
          0.021557208844232574
         ],
         "textposition": "outside",
         "texttemplate": "%{text:.2f}",
         "type": "bar",
         "x": [
          "TrainingTimesLastYear"
         ],
         "xaxis": "x",
         "y": [
          0.021557208844232574
         ],
         "yaxis": "y"
        }
       ],
       "layout": {
        "barmode": "relative",
        "coloraxis": {
         "showscale": false
        },
        "font": {
         "color": "#303030"
        },
        "height": 500,
        "legend": {
         "title": {
          "text": "index"
         },
         "tracegroupgap": 0
        },
        "margin": {
         "t": 60
        },
        "paper_bgcolor": "white",
        "plot_bgcolor": "white",
        "showlegend": false,
        "template": {
         "data": {
          "bar": [
           {
            "error_x": {
             "color": "#2a3f5f"
            },
            "error_y": {
             "color": "#2a3f5f"
            },
            "marker": {
             "line": {
              "color": "#E5ECF6",
              "width": 0.5
             },
             "pattern": {
              "fillmode": "overlay",
              "size": 10,
              "solidity": 0.2
             }
            },
            "type": "bar"
           }
          ],
          "barpolar": [
           {
            "marker": {
             "line": {
              "color": "#E5ECF6",
              "width": 0.5
             },
             "pattern": {
              "fillmode": "overlay",
              "size": 10,
              "solidity": 0.2
             }
            },
            "type": "barpolar"
           }
          ],
          "carpet": [
           {
            "aaxis": {
             "endlinecolor": "#2a3f5f",
             "gridcolor": "white",
             "linecolor": "white",
             "minorgridcolor": "white",
             "startlinecolor": "#2a3f5f"
            },
            "baxis": {
             "endlinecolor": "#2a3f5f",
             "gridcolor": "white",
             "linecolor": "white",
             "minorgridcolor": "white",
             "startlinecolor": "#2a3f5f"
            },
            "type": "carpet"
           }
          ],
          "choropleth": [
           {
            "colorbar": {
             "outlinewidth": 0,
             "ticks": ""
            },
            "type": "choropleth"
           }
          ],
          "contour": [
           {
            "colorbar": {
             "outlinewidth": 0,
             "ticks": ""
            },
            "colorscale": [
             [
              0,
              "#0d0887"
             ],
             [
              0.1111111111111111,
              "#46039f"
             ],
             [
              0.2222222222222222,
              "#7201a8"
             ],
             [
              0.3333333333333333,
              "#9c179e"
             ],
             [
              0.4444444444444444,
              "#bd3786"
             ],
             [
              0.5555555555555556,
              "#d8576b"
             ],
             [
              0.6666666666666666,
              "#ed7953"
             ],
             [
              0.7777777777777778,
              "#fb9f3a"
             ],
             [
              0.8888888888888888,
              "#fdca26"
             ],
             [
              1,
              "#f0f921"
             ]
            ],
            "type": "contour"
           }
          ],
          "contourcarpet": [
           {
            "colorbar": {
             "outlinewidth": 0,
             "ticks": ""
            },
            "type": "contourcarpet"
           }
          ],
          "heatmap": [
           {
            "colorbar": {
             "outlinewidth": 0,
             "ticks": ""
            },
            "colorscale": [
             [
              0,
              "#0d0887"
             ],
             [
              0.1111111111111111,
              "#46039f"
             ],
             [
              0.2222222222222222,
              "#7201a8"
             ],
             [
              0.3333333333333333,
              "#9c179e"
             ],
             [
              0.4444444444444444,
              "#bd3786"
             ],
             [
              0.5555555555555556,
              "#d8576b"
             ],
             [
              0.6666666666666666,
              "#ed7953"
             ],
             [
              0.7777777777777778,
              "#fb9f3a"
             ],
             [
              0.8888888888888888,
              "#fdca26"
             ],
             [
              1,
              "#f0f921"
             ]
            ],
            "type": "heatmap"
           }
          ],
          "heatmapgl": [
           {
            "colorbar": {
             "outlinewidth": 0,
             "ticks": ""
            },
            "colorscale": [
             [
              0,
              "#0d0887"
             ],
             [
              0.1111111111111111,
              "#46039f"
             ],
             [
              0.2222222222222222,
              "#7201a8"
             ],
             [
              0.3333333333333333,
              "#9c179e"
             ],
             [
              0.4444444444444444,
              "#bd3786"
             ],
             [
              0.5555555555555556,
              "#d8576b"
             ],
             [
              0.6666666666666666,
              "#ed7953"
             ],
             [
              0.7777777777777778,
              "#fb9f3a"
             ],
             [
              0.8888888888888888,
              "#fdca26"
             ],
             [
              1,
              "#f0f921"
             ]
            ],
            "type": "heatmapgl"
           }
          ],
          "histogram": [
           {
            "marker": {
             "pattern": {
              "fillmode": "overlay",
              "size": 10,
              "solidity": 0.2
             }
            },
            "type": "histogram"
           }
          ],
          "histogram2d": [
           {
            "colorbar": {
             "outlinewidth": 0,
             "ticks": ""
            },
            "colorscale": [
             [
              0,
              "#0d0887"
             ],
             [
              0.1111111111111111,
              "#46039f"
             ],
             [
              0.2222222222222222,
              "#7201a8"
             ],
             [
              0.3333333333333333,
              "#9c179e"
             ],
             [
              0.4444444444444444,
              "#bd3786"
             ],
             [
              0.5555555555555556,
              "#d8576b"
             ],
             [
              0.6666666666666666,
              "#ed7953"
             ],
             [
              0.7777777777777778,
              "#fb9f3a"
             ],
             [
              0.8888888888888888,
              "#fdca26"
             ],
             [
              1,
              "#f0f921"
             ]
            ],
            "type": "histogram2d"
           }
          ],
          "histogram2dcontour": [
           {
            "colorbar": {
             "outlinewidth": 0,
             "ticks": ""
            },
            "colorscale": [
             [
              0,
              "#0d0887"
             ],
             [
              0.1111111111111111,
              "#46039f"
             ],
             [
              0.2222222222222222,
              "#7201a8"
             ],
             [
              0.3333333333333333,
              "#9c179e"
             ],
             [
              0.4444444444444444,
              "#bd3786"
             ],
             [
              0.5555555555555556,
              "#d8576b"
             ],
             [
              0.6666666666666666,
              "#ed7953"
             ],
             [
              0.7777777777777778,
              "#fb9f3a"
             ],
             [
              0.8888888888888888,
              "#fdca26"
             ],
             [
              1,
              "#f0f921"
             ]
            ],
            "type": "histogram2dcontour"
           }
          ],
          "mesh3d": [
           {
            "colorbar": {
             "outlinewidth": 0,
             "ticks": ""
            },
            "type": "mesh3d"
           }
          ],
          "parcoords": [
           {
            "line": {
             "colorbar": {
              "outlinewidth": 0,
              "ticks": ""
             }
            },
            "type": "parcoords"
           }
          ],
          "pie": [
           {
            "automargin": true,
            "type": "pie"
           }
          ],
          "scatter": [
           {
            "marker": {
             "colorbar": {
              "outlinewidth": 0,
              "ticks": ""
             }
            },
            "type": "scatter"
           }
          ],
          "scatter3d": [
           {
            "line": {
             "colorbar": {
              "outlinewidth": 0,
              "ticks": ""
             }
            },
            "marker": {
             "colorbar": {
              "outlinewidth": 0,
              "ticks": ""
             }
            },
            "type": "scatter3d"
           }
          ],
          "scattercarpet": [
           {
            "marker": {
             "colorbar": {
              "outlinewidth": 0,
              "ticks": ""
             }
            },
            "type": "scattercarpet"
           }
          ],
          "scattergeo": [
           {
            "marker": {
             "colorbar": {
              "outlinewidth": 0,
              "ticks": ""
             }
            },
            "type": "scattergeo"
           }
          ],
          "scattergl": [
           {
            "marker": {
             "colorbar": {
              "outlinewidth": 0,
              "ticks": ""
             }
            },
            "type": "scattergl"
           }
          ],
          "scattermapbox": [
           {
            "marker": {
             "colorbar": {
              "outlinewidth": 0,
              "ticks": ""
             }
            },
            "type": "scattermapbox"
           }
          ],
          "scatterpolar": [
           {
            "marker": {
             "colorbar": {
              "outlinewidth": 0,
              "ticks": ""
             }
            },
            "type": "scatterpolar"
           }
          ],
          "scatterpolargl": [
           {
            "marker": {
             "colorbar": {
              "outlinewidth": 0,
              "ticks": ""
             }
            },
            "type": "scatterpolargl"
           }
          ],
          "scatterternary": [
           {
            "marker": {
             "colorbar": {
              "outlinewidth": 0,
              "ticks": ""
             }
            },
            "type": "scatterternary"
           }
          ],
          "surface": [
           {
            "colorbar": {
             "outlinewidth": 0,
             "ticks": ""
            },
            "colorscale": [
             [
              0,
              "#0d0887"
             ],
             [
              0.1111111111111111,
              "#46039f"
             ],
             [
              0.2222222222222222,
              "#7201a8"
             ],
             [
              0.3333333333333333,
              "#9c179e"
             ],
             [
              0.4444444444444444,
              "#bd3786"
             ],
             [
              0.5555555555555556,
              "#d8576b"
             ],
             [
              0.6666666666666666,
              "#ed7953"
             ],
             [
              0.7777777777777778,
              "#fb9f3a"
             ],
             [
              0.8888888888888888,
              "#fdca26"
             ],
             [
              1,
              "#f0f921"
             ]
            ],
            "type": "surface"
           }
          ],
          "table": [
           {
            "cells": {
             "fill": {
              "color": "#EBF0F8"
             },
             "line": {
              "color": "white"
             }
            },
            "header": {
             "fill": {
              "color": "#C8D4E3"
             },
             "line": {
              "color": "white"
             }
            },
            "type": "table"
           }
          ]
         },
         "layout": {
          "annotationdefaults": {
           "arrowcolor": "#2a3f5f",
           "arrowhead": 0,
           "arrowwidth": 1
          },
          "autotypenumbers": "strict",
          "coloraxis": {
           "colorbar": {
            "outlinewidth": 0,
            "ticks": ""
           }
          },
          "colorscale": {
           "diverging": [
            [
             0,
             "#8e0152"
            ],
            [
             0.1,
             "#c51b7d"
            ],
            [
             0.2,
             "#de77ae"
            ],
            [
             0.3,
             "#f1b6da"
            ],
            [
             0.4,
             "#fde0ef"
            ],
            [
             0.5,
             "#f7f7f7"
            ],
            [
             0.6,
             "#e6f5d0"
            ],
            [
             0.7,
             "#b8e186"
            ],
            [
             0.8,
             "#7fbc41"
            ],
            [
             0.9,
             "#4d9221"
            ],
            [
             1,
             "#276419"
            ]
           ],
           "sequential": [
            [
             0,
             "#0d0887"
            ],
            [
             0.1111111111111111,
             "#46039f"
            ],
            [
             0.2222222222222222,
             "#7201a8"
            ],
            [
             0.3333333333333333,
             "#9c179e"
            ],
            [
             0.4444444444444444,
             "#bd3786"
            ],
            [
             0.5555555555555556,
             "#d8576b"
            ],
            [
             0.6666666666666666,
             "#ed7953"
            ],
            [
             0.7777777777777778,
             "#fb9f3a"
            ],
            [
             0.8888888888888888,
             "#fdca26"
            ],
            [
             1,
             "#f0f921"
            ]
           ],
           "sequentialminus": [
            [
             0,
             "#0d0887"
            ],
            [
             0.1111111111111111,
             "#46039f"
            ],
            [
             0.2222222222222222,
             "#7201a8"
            ],
            [
             0.3333333333333333,
             "#9c179e"
            ],
            [
             0.4444444444444444,
             "#bd3786"
            ],
            [
             0.5555555555555556,
             "#d8576b"
            ],
            [
             0.6666666666666666,
             "#ed7953"
            ],
            [
             0.7777777777777778,
             "#fb9f3a"
            ],
            [
             0.8888888888888888,
             "#fdca26"
            ],
            [
             1,
             "#f0f921"
            ]
           ]
          },
          "colorway": [
           "#636efa",
           "#EF553B",
           "#00cc96",
           "#ab63fa",
           "#FFA15A",
           "#19d3f3",
           "#FF6692",
           "#B6E880",
           "#FF97FF",
           "#FECB52"
          ],
          "font": {
           "color": "#2a3f5f"
          },
          "geo": {
           "bgcolor": "white",
           "lakecolor": "white",
           "landcolor": "#E5ECF6",
           "showlakes": true,
           "showland": true,
           "subunitcolor": "white"
          },
          "hoverlabel": {
           "align": "left"
          },
          "hovermode": "closest",
          "mapbox": {
           "style": "light"
          },
          "paper_bgcolor": "white",
          "plot_bgcolor": "#E5ECF6",
          "polar": {
           "angularaxis": {
            "gridcolor": "white",
            "linecolor": "white",
            "ticks": ""
           },
           "bgcolor": "#E5ECF6",
           "radialaxis": {
            "gridcolor": "white",
            "linecolor": "white",
            "ticks": ""
           }
          },
          "scene": {
           "xaxis": {
            "backgroundcolor": "#E5ECF6",
            "gridcolor": "white",
            "gridwidth": 2,
            "linecolor": "white",
            "showbackground": true,
            "ticks": "",
            "zerolinecolor": "white"
           },
           "yaxis": {
            "backgroundcolor": "#E5ECF6",
            "gridcolor": "white",
            "gridwidth": 2,
            "linecolor": "white",
            "showbackground": true,
            "ticks": "",
            "zerolinecolor": "white"
           },
           "zaxis": {
            "backgroundcolor": "#E5ECF6",
            "gridcolor": "white",
            "gridwidth": 2,
            "linecolor": "white",
            "showbackground": true,
            "ticks": "",
            "zerolinecolor": "white"
           }
          },
          "shapedefaults": {
           "line": {
            "color": "#2a3f5f"
           }
          },
          "ternary": {
           "aaxis": {
            "gridcolor": "white",
            "linecolor": "white",
            "ticks": ""
           },
           "baxis": {
            "gridcolor": "white",
            "linecolor": "white",
            "ticks": ""
           },
           "bgcolor": "#E5ECF6",
           "caxis": {
            "gridcolor": "white",
            "linecolor": "white",
            "ticks": ""
           }
          },
          "title": {
           "x": 0.05
          },
          "xaxis": {
           "automargin": true,
           "gridcolor": "white",
           "linecolor": "white",
           "ticks": "",
           "title": {
            "standoff": 15
           },
           "zerolinecolor": "white",
           "zerolinewidth": 2
          },
          "yaxis": {
           "automargin": true,
           "gridcolor": "white",
           "linecolor": "white",
           "ticks": "",
           "title": {
            "standoff": 15
           },
           "zerolinecolor": "white",
           "zerolinewidth": 2
          }
         }
        },
        "title": {
         "text": "Top 20 Most Important Predictors of Employee Attrition Based on Random Forest Model"
        },
        "xaxis": {
         "anchor": "y",
         "categoryarray": [
          "OverTime_Yes",
          "MonthlyIncome",
          "Age",
          "TotalWorkingYears",
          "DistanceFromHome",
          "DailyRate",
          "MonthlyRate",
          "HourlyRate",
          "YearsAtCompany",
          "NumCompaniesWorked",
          "PercentSalaryHike",
          "YearsWithCurrManager",
          "EnvironmentSatisfaction",
          "JobSatisfaction",
          "JobLevel",
          "StockOptionLevel",
          "YearsInCurrentRole",
          "RelationshipSatisfaction",
          "YearsSinceLastPromotion",
          "TrainingTimesLastYear"
         ],
         "categoryorder": "array",
         "domain": [
          0,
          1
         ],
         "gridcolor": "#f5f5f5",
         "showgrid": true,
         "title": {
          "text": ""
         }
        },
        "yaxis": {
         "anchor": "x",
         "domain": [
          0,
          1
         ],
         "title": {
          "text": "Importance"
         }
        }
       }
      },
      "text/html": [
       "<div>                            <div id=\"4b52d5df-9582-4683-8924-625342077ed1\" class=\"plotly-graph-div\" style=\"height:500px; width:100%;\"></div>            <script type=\"text/javascript\">                require([\"plotly\"], function(Plotly) {                    window.PLOTLYENV=window.PLOTLYENV || {};                                    if (document.getElementById(\"4b52d5df-9582-4683-8924-625342077ed1\")) {                    Plotly.newPlot(                        \"4b52d5df-9582-4683-8924-625342077ed1\",                        [{\"alignmentgroup\":\"True\",\"hovertemplate\":\"%{x}<br>Importance = %{y:.2f}\",\"legendgroup\":\"OverTime_Yes\",\"marker\":{\"color\":\"#c6ebd1\",\"opacity\":0.7,\"pattern\":{\"shape\":\"\"},\"line\":{\"color\":\"#3F3B3A\",\"width\":1}},\"name\":\"OverTime_Yes\",\"offsetgroup\":\"OverTime_Yes\",\"orientation\":\"v\",\"showlegend\":true,\"text\":[0.08373071746557736],\"textposition\":\"outside\",\"x\":[\"OverTime_Yes\"],\"xaxis\":\"x\",\"y\":[0.08373071746557736],\"yaxis\":\"y\",\"type\":\"bar\",\"texttemplate\":\"%{text:.2f}\"},{\"alignmentgroup\":\"True\",\"hovertemplate\":\"%{x}<br>Importance = %{y:.2f}\",\"legendgroup\":\"MonthlyIncome\",\"marker\":{\"color\":\"#abe2be\",\"opacity\":0.7,\"pattern\":{\"shape\":\"\"},\"line\":{\"color\":\"#3F3B3A\",\"width\":1}},\"name\":\"MonthlyIncome\",\"offsetgroup\":\"MonthlyIncome\",\"orientation\":\"v\",\"showlegend\":true,\"text\":[0.06914608245226107],\"textposition\":\"outside\",\"x\":[\"MonthlyIncome\"],\"xaxis\":\"x\",\"y\":[0.06914608245226107],\"yaxis\":\"y\",\"type\":\"bar\",\"texttemplate\":\"%{text:.2f}\"},{\"alignmentgroup\":\"True\",\"hovertemplate\":\"%{x}<br>Importance = %{y:.2f}\",\"legendgroup\":\"Age\",\"marker\":{\"color\":\"#8bdab2\",\"opacity\":0.7,\"pattern\":{\"shape\":\"\"},\"line\":{\"color\":\"#3F3B3A\",\"width\":1}},\"name\":\"Age\",\"offsetgroup\":\"Age\",\"orientation\":\"v\",\"showlegend\":true,\"text\":[0.06334219985034933],\"textposition\":\"outside\",\"x\":[\"Age\"],\"xaxis\":\"x\",\"y\":[0.06334219985034933],\"yaxis\":\"y\",\"type\":\"bar\",\"texttemplate\":\"%{text:.2f}\"},{\"alignmentgroup\":\"True\",\"hovertemplate\":\"%{x}<br>Importance = %{y:.2f}\",\"legendgroup\":\"TotalWorkingYears\",\"marker\":{\"color\":\"#68d1ad\",\"opacity\":0.7,\"pattern\":{\"shape\":\"\"},\"line\":{\"color\":\"#3F3B3A\",\"width\":1}},\"name\":\"TotalWorkingYears\",\"offsetgroup\":\"TotalWorkingYears\",\"orientation\":\"v\",\"showlegend\":true,\"text\":[0.05105439103354946],\"textposition\":\"outside\",\"x\":[\"TotalWorkingYears\"],\"xaxis\":\"x\",\"y\":[0.05105439103354946],\"yaxis\":\"y\",\"type\":\"bar\",\"texttemplate\":\"%{text:.2f}\"},{\"alignmentgroup\":\"True\",\"hovertemplate\":\"%{x}<br>Importance = %{y:.2f}\",\"legendgroup\":\"DistanceFromHome\",\"marker\":{\"color\":\"#4fc5ad\",\"opacity\":0.7,\"pattern\":{\"shape\":\"\"},\"line\":{\"color\":\"#3F3B3A\",\"width\":1}},\"name\":\"DistanceFromHome\",\"offsetgroup\":\"DistanceFromHome\",\"orientation\":\"v\",\"showlegend\":true,\"text\":[0.05042766494808404],\"textposition\":\"outside\",\"x\":[\"DistanceFromHome\"],\"xaxis\":\"x\",\"y\":[0.05042766494808404],\"yaxis\":\"y\",\"type\":\"bar\",\"texttemplate\":\"%{text:.2f}\"},{\"alignmentgroup\":\"True\",\"hovertemplate\":\"%{x}<br>Importance = %{y:.2f}\",\"legendgroup\":\"DailyRate\",\"marker\":{\"color\":\"#40b7ad\",\"opacity\":0.7,\"pattern\":{\"shape\":\"\"},\"line\":{\"color\":\"#3F3B3A\",\"width\":1}},\"name\":\"DailyRate\",\"offsetgroup\":\"DailyRate\",\"orientation\":\"v\",\"showlegend\":true,\"text\":[0.047621645164731136],\"textposition\":\"outside\",\"x\":[\"DailyRate\"],\"xaxis\":\"x\",\"y\":[0.047621645164731136],\"yaxis\":\"y\",\"type\":\"bar\",\"texttemplate\":\"%{text:.2f}\"},{\"alignmentgroup\":\"True\",\"hovertemplate\":\"%{x}<br>Importance = %{y:.2f}\",\"legendgroup\":\"MonthlyRate\",\"marker\":{\"color\":\"#38aaac\",\"opacity\":0.7,\"pattern\":{\"shape\":\"\"},\"line\":{\"color\":\"#3F3B3A\",\"width\":1}},\"name\":\"MonthlyRate\",\"offsetgroup\":\"MonthlyRate\",\"orientation\":\"v\",\"showlegend\":true,\"text\":[0.04493481445148153],\"textposition\":\"outside\",\"x\":[\"MonthlyRate\"],\"xaxis\":\"x\",\"y\":[0.04493481445148153],\"yaxis\":\"y\",\"type\":\"bar\",\"texttemplate\":\"%{text:.2f}\"},{\"alignmentgroup\":\"True\",\"hovertemplate\":\"%{x}<br>Importance = %{y:.2f}\",\"legendgroup\":\"HourlyRate\",\"marker\":{\"color\":\"#359caa\",\"opacity\":0.7,\"pattern\":{\"shape\":\"\"},\"line\":{\"color\":\"#3F3B3A\",\"width\":1}},\"name\":\"HourlyRate\",\"offsetgroup\":\"HourlyRate\",\"orientation\":\"v\",\"showlegend\":true,\"text\":[0.04472849919528423],\"textposition\":\"outside\",\"x\":[\"HourlyRate\"],\"xaxis\":\"x\",\"y\":[0.04472849919528423],\"yaxis\":\"y\",\"type\":\"bar\",\"texttemplate\":\"%{text:.2f}\"},{\"alignmentgroup\":\"True\",\"hovertemplate\":\"%{x}<br>Importance = %{y:.2f}\",\"legendgroup\":\"YearsAtCompany\",\"marker\":{\"color\":\"#348fa7\",\"opacity\":0.7,\"pattern\":{\"shape\":\"\"},\"line\":{\"color\":\"#3F3B3A\",\"width\":1}},\"name\":\"YearsAtCompany\",\"offsetgroup\":\"YearsAtCompany\",\"orientation\":\"v\",\"showlegend\":true,\"text\":[0.03656995463412636],\"textposition\":\"outside\",\"x\":[\"YearsAtCompany\"],\"xaxis\":\"x\",\"y\":[0.03656995463412636],\"yaxis\":\"y\",\"type\":\"bar\",\"texttemplate\":\"%{text:.2f}\"},{\"alignmentgroup\":\"True\",\"hovertemplate\":\"%{x}<br>Importance = %{y:.2f}\",\"legendgroup\":\"NumCompaniesWorked\",\"marker\":{\"color\":\"#3482a4\",\"opacity\":0.7,\"pattern\":{\"shape\":\"\"},\"line\":{\"color\":\"#3F3B3A\",\"width\":1}},\"name\":\"NumCompaniesWorked\",\"offsetgroup\":\"NumCompaniesWorked\",\"orientation\":\"v\",\"showlegend\":true,\"text\":[0.032579561903489256],\"textposition\":\"outside\",\"x\":[\"NumCompaniesWorked\"],\"xaxis\":\"x\",\"y\":[0.032579561903489256],\"yaxis\":\"y\",\"type\":\"bar\",\"texttemplate\":\"%{text:.2f}\"},{\"alignmentgroup\":\"True\",\"hovertemplate\":\"%{x}<br>Importance = %{y:.2f}\",\"legendgroup\":\"PercentSalaryHike\",\"marker\":{\"color\":\"#3573a1\",\"opacity\":0.7,\"pattern\":{\"shape\":\"\"},\"line\":{\"color\":\"#3F3B3A\",\"width\":1}},\"name\":\"PercentSalaryHike\",\"offsetgroup\":\"PercentSalaryHike\",\"orientation\":\"v\",\"showlegend\":true,\"text\":[0.03223688367191408],\"textposition\":\"outside\",\"x\":[\"PercentSalaryHike\"],\"xaxis\":\"x\",\"y\":[0.03223688367191408],\"yaxis\":\"y\",\"type\":\"bar\",\"texttemplate\":\"%{text:.2f}\"},{\"alignmentgroup\":\"True\",\"hovertemplate\":\"%{x}<br>Importance = %{y:.2f}\",\"legendgroup\":\"YearsWithCurrManager\",\"marker\":{\"color\":\"#37659e\",\"opacity\":0.7,\"pattern\":{\"shape\":\"\"},\"line\":{\"color\":\"#3F3B3A\",\"width\":1}},\"name\":\"YearsWithCurrManager\",\"offsetgroup\":\"YearsWithCurrManager\",\"orientation\":\"v\",\"showlegend\":true,\"text\":[0.031216780309145823],\"textposition\":\"outside\",\"x\":[\"YearsWithCurrManager\"],\"xaxis\":\"x\",\"y\":[0.031216780309145823],\"yaxis\":\"y\",\"type\":\"bar\",\"texttemplate\":\"%{text:.2f}\"},{\"alignmentgroup\":\"True\",\"hovertemplate\":\"%{x}<br>Importance = %{y:.2f}\",\"legendgroup\":\"EnvironmentSatisfaction\",\"marker\":{\"color\":\"#3b5799\",\"opacity\":0.7,\"pattern\":{\"shape\":\"\"},\"line\":{\"color\":\"#3F3B3A\",\"width\":1}},\"name\":\"EnvironmentSatisfaction\",\"offsetgroup\":\"EnvironmentSatisfaction\",\"orientation\":\"v\",\"showlegend\":true,\"text\":[0.03119543300197324],\"textposition\":\"outside\",\"x\":[\"EnvironmentSatisfaction\"],\"xaxis\":\"x\",\"y\":[0.03119543300197324],\"yaxis\":\"y\",\"type\":\"bar\",\"texttemplate\":\"%{text:.2f}\"},{\"alignmentgroup\":\"True\",\"hovertemplate\":\"%{x}<br>Importance = %{y:.2f}\",\"legendgroup\":\"JobSatisfaction\",\"marker\":{\"color\":\"#40498e\",\"opacity\":0.7,\"pattern\":{\"shape\":\"\"},\"line\":{\"color\":\"#3F3B3A\",\"width\":1}},\"name\":\"JobSatisfaction\",\"offsetgroup\":\"JobSatisfaction\",\"orientation\":\"v\",\"showlegend\":true,\"text\":[0.030008129821392344],\"textposition\":\"outside\",\"x\":[\"JobSatisfaction\"],\"xaxis\":\"x\",\"y\":[0.030008129821392344],\"yaxis\":\"y\",\"type\":\"bar\",\"texttemplate\":\"%{text:.2f}\"},{\"alignmentgroup\":\"True\",\"hovertemplate\":\"%{x}<br>Importance = %{y:.2f}\",\"legendgroup\":\"JobLevel\",\"marker\":{\"color\":\"#413d7b\",\"opacity\":0.7,\"pattern\":{\"shape\":\"\"},\"line\":{\"color\":\"#3F3B3A\",\"width\":1}},\"name\":\"JobLevel\",\"offsetgroup\":\"JobLevel\",\"orientation\":\"v\",\"showlegend\":true,\"text\":[0.029123158138955215],\"textposition\":\"outside\",\"x\":[\"JobLevel\"],\"xaxis\":\"x\",\"y\":[0.029123158138955215],\"yaxis\":\"y\",\"type\":\"bar\",\"texttemplate\":\"%{text:.2f}\"},{\"alignmentgroup\":\"True\",\"hovertemplate\":\"%{x}<br>Importance = %{y:.2f}\",\"legendgroup\":\"StockOptionLevel\",\"marker\":{\"color\":\"#3d3164\",\"opacity\":0.7,\"pattern\":{\"shape\":\"\"},\"line\":{\"color\":\"#3F3B3A\",\"width\":1}},\"name\":\"StockOptionLevel\",\"offsetgroup\":\"StockOptionLevel\",\"orientation\":\"v\",\"showlegend\":true,\"text\":[0.025599798509512522],\"textposition\":\"outside\",\"x\":[\"StockOptionLevel\"],\"xaxis\":\"x\",\"y\":[0.025599798509512522],\"yaxis\":\"y\",\"type\":\"bar\",\"texttemplate\":\"%{text:.2f}\"},{\"alignmentgroup\":\"True\",\"hovertemplate\":\"%{x}<br>Importance = %{y:.2f}\",\"legendgroup\":\"YearsInCurrentRole\",\"marker\":{\"color\":\"#37284f\",\"opacity\":0.7,\"pattern\":{\"shape\":\"\"},\"line\":{\"color\":\"#3F3B3A\",\"width\":1}},\"name\":\"YearsInCurrentRole\",\"offsetgroup\":\"YearsInCurrentRole\",\"orientation\":\"v\",\"showlegend\":true,\"text\":[0.025142514100552866],\"textposition\":\"outside\",\"x\":[\"YearsInCurrentRole\"],\"xaxis\":\"x\",\"y\":[0.025142514100552866],\"yaxis\":\"y\",\"type\":\"bar\",\"texttemplate\":\"%{text:.2f}\"},{\"alignmentgroup\":\"True\",\"hovertemplate\":\"%{x}<br>Importance = %{y:.2f}\",\"legendgroup\":\"RelationshipSatisfaction\",\"marker\":{\"color\":\"#2e1e3b\",\"opacity\":0.7,\"pattern\":{\"shape\":\"\"},\"line\":{\"color\":\"#3F3B3A\",\"width\":1}},\"name\":\"RelationshipSatisfaction\",\"offsetgroup\":\"RelationshipSatisfaction\",\"orientation\":\"v\",\"showlegend\":true,\"text\":[0.023255522229320622],\"textposition\":\"outside\",\"x\":[\"RelationshipSatisfaction\"],\"xaxis\":\"x\",\"y\":[0.023255522229320622],\"yaxis\":\"y\",\"type\":\"bar\",\"texttemplate\":\"%{text:.2f}\"},{\"alignmentgroup\":\"True\",\"hovertemplate\":\"%{x}<br>Importance = %{y:.2f}\",\"legendgroup\":\"YearsSinceLastPromotion\",\"marker\":{\"color\":\"#241628\",\"opacity\":0.7,\"pattern\":{\"shape\":\"\"},\"line\":{\"color\":\"#3F3B3A\",\"width\":1}},\"name\":\"YearsSinceLastPromotion\",\"offsetgroup\":\"YearsSinceLastPromotion\",\"orientation\":\"v\",\"showlegend\":true,\"text\":[0.021805028822216903],\"textposition\":\"outside\",\"x\":[\"YearsSinceLastPromotion\"],\"xaxis\":\"x\",\"y\":[0.021805028822216903],\"yaxis\":\"y\",\"type\":\"bar\",\"texttemplate\":\"%{text:.2f}\"},{\"alignmentgroup\":\"True\",\"hovertemplate\":\"%{x}<br>Importance = %{y:.2f}\",\"legendgroup\":\"TrainingTimesLastYear\",\"marker\":{\"color\":\"#180d16\",\"opacity\":0.7,\"pattern\":{\"shape\":\"\"},\"line\":{\"color\":\"#3F3B3A\",\"width\":1}},\"name\":\"TrainingTimesLastYear\",\"offsetgroup\":\"TrainingTimesLastYear\",\"orientation\":\"v\",\"showlegend\":true,\"text\":[0.021557208844232574],\"textposition\":\"outside\",\"x\":[\"TrainingTimesLastYear\"],\"xaxis\":\"x\",\"y\":[0.021557208844232574],\"yaxis\":\"y\",\"type\":\"bar\",\"texttemplate\":\"%{text:.2f}\"}],                        {\"template\":{\"data\":{\"bar\":[{\"error_x\":{\"color\":\"#2a3f5f\"},\"error_y\":{\"color\":\"#2a3f5f\"},\"marker\":{\"line\":{\"color\":\"#E5ECF6\",\"width\":0.5},\"pattern\":{\"fillmode\":\"overlay\",\"size\":10,\"solidity\":0.2}},\"type\":\"bar\"}],\"barpolar\":[{\"marker\":{\"line\":{\"color\":\"#E5ECF6\",\"width\":0.5},\"pattern\":{\"fillmode\":\"overlay\",\"size\":10,\"solidity\":0.2}},\"type\":\"barpolar\"}],\"carpet\":[{\"aaxis\":{\"endlinecolor\":\"#2a3f5f\",\"gridcolor\":\"white\",\"linecolor\":\"white\",\"minorgridcolor\":\"white\",\"startlinecolor\":\"#2a3f5f\"},\"baxis\":{\"endlinecolor\":\"#2a3f5f\",\"gridcolor\":\"white\",\"linecolor\":\"white\",\"minorgridcolor\":\"white\",\"startlinecolor\":\"#2a3f5f\"},\"type\":\"carpet\"}],\"choropleth\":[{\"colorbar\":{\"outlinewidth\":0,\"ticks\":\"\"},\"type\":\"choropleth\"}],\"contour\":[{\"colorbar\":{\"outlinewidth\":0,\"ticks\":\"\"},\"colorscale\":[[0.0,\"#0d0887\"],[0.1111111111111111,\"#46039f\"],[0.2222222222222222,\"#7201a8\"],[0.3333333333333333,\"#9c179e\"],[0.4444444444444444,\"#bd3786\"],[0.5555555555555556,\"#d8576b\"],[0.6666666666666666,\"#ed7953\"],[0.7777777777777778,\"#fb9f3a\"],[0.8888888888888888,\"#fdca26\"],[1.0,\"#f0f921\"]],\"type\":\"contour\"}],\"contourcarpet\":[{\"colorbar\":{\"outlinewidth\":0,\"ticks\":\"\"},\"type\":\"contourcarpet\"}],\"heatmap\":[{\"colorbar\":{\"outlinewidth\":0,\"ticks\":\"\"},\"colorscale\":[[0.0,\"#0d0887\"],[0.1111111111111111,\"#46039f\"],[0.2222222222222222,\"#7201a8\"],[0.3333333333333333,\"#9c179e\"],[0.4444444444444444,\"#bd3786\"],[0.5555555555555556,\"#d8576b\"],[0.6666666666666666,\"#ed7953\"],[0.7777777777777778,\"#fb9f3a\"],[0.8888888888888888,\"#fdca26\"],[1.0,\"#f0f921\"]],\"type\":\"heatmap\"}],\"heatmapgl\":[{\"colorbar\":{\"outlinewidth\":0,\"ticks\":\"\"},\"colorscale\":[[0.0,\"#0d0887\"],[0.1111111111111111,\"#46039f\"],[0.2222222222222222,\"#7201a8\"],[0.3333333333333333,\"#9c179e\"],[0.4444444444444444,\"#bd3786\"],[0.5555555555555556,\"#d8576b\"],[0.6666666666666666,\"#ed7953\"],[0.7777777777777778,\"#fb9f3a\"],[0.8888888888888888,\"#fdca26\"],[1.0,\"#f0f921\"]],\"type\":\"heatmapgl\"}],\"histogram\":[{\"marker\":{\"pattern\":{\"fillmode\":\"overlay\",\"size\":10,\"solidity\":0.2}},\"type\":\"histogram\"}],\"histogram2d\":[{\"colorbar\":{\"outlinewidth\":0,\"ticks\":\"\"},\"colorscale\":[[0.0,\"#0d0887\"],[0.1111111111111111,\"#46039f\"],[0.2222222222222222,\"#7201a8\"],[0.3333333333333333,\"#9c179e\"],[0.4444444444444444,\"#bd3786\"],[0.5555555555555556,\"#d8576b\"],[0.6666666666666666,\"#ed7953\"],[0.7777777777777778,\"#fb9f3a\"],[0.8888888888888888,\"#fdca26\"],[1.0,\"#f0f921\"]],\"type\":\"histogram2d\"}],\"histogram2dcontour\":[{\"colorbar\":{\"outlinewidth\":0,\"ticks\":\"\"},\"colorscale\":[[0.0,\"#0d0887\"],[0.1111111111111111,\"#46039f\"],[0.2222222222222222,\"#7201a8\"],[0.3333333333333333,\"#9c179e\"],[0.4444444444444444,\"#bd3786\"],[0.5555555555555556,\"#d8576b\"],[0.6666666666666666,\"#ed7953\"],[0.7777777777777778,\"#fb9f3a\"],[0.8888888888888888,\"#fdca26\"],[1.0,\"#f0f921\"]],\"type\":\"histogram2dcontour\"}],\"mesh3d\":[{\"colorbar\":{\"outlinewidth\":0,\"ticks\":\"\"},\"type\":\"mesh3d\"}],\"parcoords\":[{\"line\":{\"colorbar\":{\"outlinewidth\":0,\"ticks\":\"\"}},\"type\":\"parcoords\"}],\"pie\":[{\"automargin\":true,\"type\":\"pie\"}],\"scatter\":[{\"marker\":{\"colorbar\":{\"outlinewidth\":0,\"ticks\":\"\"}},\"type\":\"scatter\"}],\"scatter3d\":[{\"line\":{\"colorbar\":{\"outlinewidth\":0,\"ticks\":\"\"}},\"marker\":{\"colorbar\":{\"outlinewidth\":0,\"ticks\":\"\"}},\"type\":\"scatter3d\"}],\"scattercarpet\":[{\"marker\":{\"colorbar\":{\"outlinewidth\":0,\"ticks\":\"\"}},\"type\":\"scattercarpet\"}],\"scattergeo\":[{\"marker\":{\"colorbar\":{\"outlinewidth\":0,\"ticks\":\"\"}},\"type\":\"scattergeo\"}],\"scattergl\":[{\"marker\":{\"colorbar\":{\"outlinewidth\":0,\"ticks\":\"\"}},\"type\":\"scattergl\"}],\"scattermapbox\":[{\"marker\":{\"colorbar\":{\"outlinewidth\":0,\"ticks\":\"\"}},\"type\":\"scattermapbox\"}],\"scatterpolar\":[{\"marker\":{\"colorbar\":{\"outlinewidth\":0,\"ticks\":\"\"}},\"type\":\"scatterpolar\"}],\"scatterpolargl\":[{\"marker\":{\"colorbar\":{\"outlinewidth\":0,\"ticks\":\"\"}},\"type\":\"scatterpolargl\"}],\"scatterternary\":[{\"marker\":{\"colorbar\":{\"outlinewidth\":0,\"ticks\":\"\"}},\"type\":\"scatterternary\"}],\"surface\":[{\"colorbar\":{\"outlinewidth\":0,\"ticks\":\"\"},\"colorscale\":[[0.0,\"#0d0887\"],[0.1111111111111111,\"#46039f\"],[0.2222222222222222,\"#7201a8\"],[0.3333333333333333,\"#9c179e\"],[0.4444444444444444,\"#bd3786\"],[0.5555555555555556,\"#d8576b\"],[0.6666666666666666,\"#ed7953\"],[0.7777777777777778,\"#fb9f3a\"],[0.8888888888888888,\"#fdca26\"],[1.0,\"#f0f921\"]],\"type\":\"surface\"}],\"table\":[{\"cells\":{\"fill\":{\"color\":\"#EBF0F8\"},\"line\":{\"color\":\"white\"}},\"header\":{\"fill\":{\"color\":\"#C8D4E3\"},\"line\":{\"color\":\"white\"}},\"type\":\"table\"}]},\"layout\":{\"annotationdefaults\":{\"arrowcolor\":\"#2a3f5f\",\"arrowhead\":0,\"arrowwidth\":1},\"autotypenumbers\":\"strict\",\"coloraxis\":{\"colorbar\":{\"outlinewidth\":0,\"ticks\":\"\"}},\"colorscale\":{\"diverging\":[[0,\"#8e0152\"],[0.1,\"#c51b7d\"],[0.2,\"#de77ae\"],[0.3,\"#f1b6da\"],[0.4,\"#fde0ef\"],[0.5,\"#f7f7f7\"],[0.6,\"#e6f5d0\"],[0.7,\"#b8e186\"],[0.8,\"#7fbc41\"],[0.9,\"#4d9221\"],[1,\"#276419\"]],\"sequential\":[[0.0,\"#0d0887\"],[0.1111111111111111,\"#46039f\"],[0.2222222222222222,\"#7201a8\"],[0.3333333333333333,\"#9c179e\"],[0.4444444444444444,\"#bd3786\"],[0.5555555555555556,\"#d8576b\"],[0.6666666666666666,\"#ed7953\"],[0.7777777777777778,\"#fb9f3a\"],[0.8888888888888888,\"#fdca26\"],[1.0,\"#f0f921\"]],\"sequentialminus\":[[0.0,\"#0d0887\"],[0.1111111111111111,\"#46039f\"],[0.2222222222222222,\"#7201a8\"],[0.3333333333333333,\"#9c179e\"],[0.4444444444444444,\"#bd3786\"],[0.5555555555555556,\"#d8576b\"],[0.6666666666666666,\"#ed7953\"],[0.7777777777777778,\"#fb9f3a\"],[0.8888888888888888,\"#fdca26\"],[1.0,\"#f0f921\"]]},\"colorway\":[\"#636efa\",\"#EF553B\",\"#00cc96\",\"#ab63fa\",\"#FFA15A\",\"#19d3f3\",\"#FF6692\",\"#B6E880\",\"#FF97FF\",\"#FECB52\"],\"font\":{\"color\":\"#2a3f5f\"},\"geo\":{\"bgcolor\":\"white\",\"lakecolor\":\"white\",\"landcolor\":\"#E5ECF6\",\"showlakes\":true,\"showland\":true,\"subunitcolor\":\"white\"},\"hoverlabel\":{\"align\":\"left\"},\"hovermode\":\"closest\",\"mapbox\":{\"style\":\"light\"},\"paper_bgcolor\":\"white\",\"plot_bgcolor\":\"#E5ECF6\",\"polar\":{\"angularaxis\":{\"gridcolor\":\"white\",\"linecolor\":\"white\",\"ticks\":\"\"},\"bgcolor\":\"#E5ECF6\",\"radialaxis\":{\"gridcolor\":\"white\",\"linecolor\":\"white\",\"ticks\":\"\"}},\"scene\":{\"xaxis\":{\"backgroundcolor\":\"#E5ECF6\",\"gridcolor\":\"white\",\"gridwidth\":2,\"linecolor\":\"white\",\"showbackground\":true,\"ticks\":\"\",\"zerolinecolor\":\"white\"},\"yaxis\":{\"backgroundcolor\":\"#E5ECF6\",\"gridcolor\":\"white\",\"gridwidth\":2,\"linecolor\":\"white\",\"showbackground\":true,\"ticks\":\"\",\"zerolinecolor\":\"white\"},\"zaxis\":{\"backgroundcolor\":\"#E5ECF6\",\"gridcolor\":\"white\",\"gridwidth\":2,\"linecolor\":\"white\",\"showbackground\":true,\"ticks\":\"\",\"zerolinecolor\":\"white\"}},\"shapedefaults\":{\"line\":{\"color\":\"#2a3f5f\"}},\"ternary\":{\"aaxis\":{\"gridcolor\":\"white\",\"linecolor\":\"white\",\"ticks\":\"\"},\"baxis\":{\"gridcolor\":\"white\",\"linecolor\":\"white\",\"ticks\":\"\"},\"bgcolor\":\"#E5ECF6\",\"caxis\":{\"gridcolor\":\"white\",\"linecolor\":\"white\",\"ticks\":\"\"}},\"title\":{\"x\":0.05},\"xaxis\":{\"automargin\":true,\"gridcolor\":\"white\",\"linecolor\":\"white\",\"ticks\":\"\",\"title\":{\"standoff\":15},\"zerolinecolor\":\"white\",\"zerolinewidth\":2},\"yaxis\":{\"automargin\":true,\"gridcolor\":\"white\",\"linecolor\":\"white\",\"ticks\":\"\",\"title\":{\"standoff\":15},\"zerolinecolor\":\"white\",\"zerolinewidth\":2}}},\"xaxis\":{\"anchor\":\"y\",\"domain\":[0.0,1.0],\"title\":{\"text\":\"\"},\"categoryorder\":\"array\",\"categoryarray\":[\"OverTime_Yes\",\"MonthlyIncome\",\"Age\",\"TotalWorkingYears\",\"DistanceFromHome\",\"DailyRate\",\"MonthlyRate\",\"HourlyRate\",\"YearsAtCompany\",\"NumCompaniesWorked\",\"PercentSalaryHike\",\"YearsWithCurrManager\",\"EnvironmentSatisfaction\",\"JobSatisfaction\",\"JobLevel\",\"StockOptionLevel\",\"YearsInCurrentRole\",\"RelationshipSatisfaction\",\"YearsSinceLastPromotion\",\"TrainingTimesLastYear\"],\"showgrid\":true,\"gridcolor\":\"#f5f5f5\"},\"yaxis\":{\"anchor\":\"x\",\"domain\":[0.0,1.0],\"title\":{\"text\":\"Importance\"}},\"legend\":{\"title\":{\"text\":\"index\"},\"tracegroupgap\":0},\"margin\":{\"t\":60},\"barmode\":\"relative\",\"title\":{\"text\":\"Top 20 Most Important Predictors of Employee Attrition Based on Random Forest Model\"},\"coloraxis\":{\"showscale\":false},\"font\":{\"color\":\"#303030\"},\"showlegend\":false,\"height\":500,\"paper_bgcolor\":\"white\",\"plot_bgcolor\":\"white\"},                        {\"responsive\": true}                    ).then(function(){\n",
       "                            \n",
       "var gd = document.getElementById('4b52d5df-9582-4683-8924-625342077ed1');\n",
       "var x = new MutationObserver(function (mutations, observer) {{\n",
       "        var display = window.getComputedStyle(gd).display;\n",
       "        if (!display || display === 'none') {{\n",
       "            console.log([gd, 'removed!']);\n",
       "            Plotly.purge(gd);\n",
       "            observer.disconnect();\n",
       "        }}\n",
       "}});\n",
       "\n",
       "// Listen for the removal of the full notebook cells\n",
       "var notebookContainer = gd.closest('#notebook-container');\n",
       "if (notebookContainer) {{\n",
       "    x.observe(notebookContainer, {childList: true});\n",
       "}}\n",
       "\n",
       "// Listen for the clearing of the current output cell\n",
       "var outputEl = gd.closest('.output');\n",
       "if (outputEl) {{\n",
       "    x.observe(outputEl, {childList: true});\n",
       "}}\n",
       "\n",
       "                        })                };                });            </script>        </div>"
      ]
     },
     "metadata": {},
     "output_type": "display_data"
    }
   ],
   "source": [
    "# Determine Feature Importance Based on Random Forest Model\n",
    "col=sns.color_palette(\"mako\", 20).as_hex()[::-1]\n",
    "feat=pd.DataFrame({\"Importance\": rf_cv.best_estimator_.feature_importances_}, index=X_train_scaled.columns\n",
    "                 ).sort_values(by=\"Importance\")\n",
    "plot_df=feat.nlargest(20, columns='Importance').sort_values(by=\"Importance\", ascending=False)\n",
    "fig = px.bar(plot_df, x=plot_df.index, y='Importance', text='Importance', \n",
    "             color=plot_df.index, opacity=0.7, color_discrete_sequence=col)\n",
    "fig.update_traces(texttemplate='%{text:.2f}', textposition='outside',\n",
    "                  marker_line=dict(width=1, color='#3F3B3A'), \n",
    "                  hovertemplate='%{x}<br>Importance = %{y:.2f}')\n",
    "fig.update_layout(title_text='Top 20 Most Important Predictors of Employee Attrition Based on Random Forest Model', \n",
    "                  coloraxis_showscale=False, showlegend=False,font_color=\"#303030\", height = 500,\n",
    "                  paper_bgcolor='white', plot_bgcolor='white', yaxis_title=\"Importance\", \n",
    "                  xaxis = dict(title=\"\", showgrid=True, gridcolor=\"#f5f5f5\"))\n",
    "fig.show()"
   ]
  },
  {
   "cell_type": "markdown",
   "id": "30aa531b",
   "metadata": {},
   "source": [
    "**Feature Importance**\n",
    "\n",
    "The top 5 most dominant features or predictors of employee attrition in the random forest model were:\n",
    "1. OverTime_Yes\n",
    "2. MonthlyIncome\n",
    "3. Age\n",
    "4. TotalWorkingYears\n",
    "5. DistanceFromHome"
   ]
  },
  {
   "cell_type": "markdown",
   "id": "7f377c45",
   "metadata": {},
   "source": [
    "## XGBoost"
   ]
  },
  {
   "cell_type": "code",
   "execution_count": 58,
   "id": "27a6e67a",
   "metadata": {},
   "outputs": [
    {
     "data": {
      "text/html": [
       "<style>#sk-container-id-6 {color: black;background-color: white;}#sk-container-id-6 pre{padding: 0;}#sk-container-id-6 div.sk-toggleable {background-color: white;}#sk-container-id-6 label.sk-toggleable__label {cursor: pointer;display: block;width: 100%;margin-bottom: 0;padding: 0.3em;box-sizing: border-box;text-align: center;}#sk-container-id-6 label.sk-toggleable__label-arrow:before {content: \"▸\";float: left;margin-right: 0.25em;color: #696969;}#sk-container-id-6 label.sk-toggleable__label-arrow:hover:before {color: black;}#sk-container-id-6 div.sk-estimator:hover label.sk-toggleable__label-arrow:before {color: black;}#sk-container-id-6 div.sk-toggleable__content {max-height: 0;max-width: 0;overflow: hidden;text-align: left;background-color: #f0f8ff;}#sk-container-id-6 div.sk-toggleable__content pre {margin: 0.2em;color: black;border-radius: 0.25em;background-color: #f0f8ff;}#sk-container-id-6 input.sk-toggleable__control:checked~div.sk-toggleable__content {max-height: 200px;max-width: 100%;overflow: auto;}#sk-container-id-6 input.sk-toggleable__control:checked~label.sk-toggleable__label-arrow:before {content: \"▾\";}#sk-container-id-6 div.sk-estimator input.sk-toggleable__control:checked~label.sk-toggleable__label {background-color: #d4ebff;}#sk-container-id-6 div.sk-label input.sk-toggleable__control:checked~label.sk-toggleable__label {background-color: #d4ebff;}#sk-container-id-6 input.sk-hidden--visually {border: 0;clip: rect(1px 1px 1px 1px);clip: rect(1px, 1px, 1px, 1px);height: 1px;margin: -1px;overflow: hidden;padding: 0;position: absolute;width: 1px;}#sk-container-id-6 div.sk-estimator {font-family: monospace;background-color: #f0f8ff;border: 1px dotted black;border-radius: 0.25em;box-sizing: border-box;margin-bottom: 0.5em;}#sk-container-id-6 div.sk-estimator:hover {background-color: #d4ebff;}#sk-container-id-6 div.sk-parallel-item::after {content: \"\";width: 100%;border-bottom: 1px solid gray;flex-grow: 1;}#sk-container-id-6 div.sk-label:hover label.sk-toggleable__label {background-color: #d4ebff;}#sk-container-id-6 div.sk-serial::before {content: \"\";position: absolute;border-left: 1px solid gray;box-sizing: border-box;top: 0;bottom: 0;left: 50%;z-index: 0;}#sk-container-id-6 div.sk-serial {display: flex;flex-direction: column;align-items: center;background-color: white;padding-right: 0.2em;padding-left: 0.2em;position: relative;}#sk-container-id-6 div.sk-item {position: relative;z-index: 1;}#sk-container-id-6 div.sk-parallel {display: flex;align-items: stretch;justify-content: center;background-color: white;position: relative;}#sk-container-id-6 div.sk-item::before, #sk-container-id-6 div.sk-parallel-item::before {content: \"\";position: absolute;border-left: 1px solid gray;box-sizing: border-box;top: 0;bottom: 0;left: 50%;z-index: -1;}#sk-container-id-6 div.sk-parallel-item {display: flex;flex-direction: column;z-index: 1;position: relative;background-color: white;}#sk-container-id-6 div.sk-parallel-item:first-child::after {align-self: flex-end;width: 50%;}#sk-container-id-6 div.sk-parallel-item:last-child::after {align-self: flex-start;width: 50%;}#sk-container-id-6 div.sk-parallel-item:only-child::after {width: 0;}#sk-container-id-6 div.sk-dashed-wrapped {border: 1px dashed gray;margin: 0 0.4em 0.5em 0.4em;box-sizing: border-box;padding-bottom: 0.4em;background-color: white;}#sk-container-id-6 div.sk-label label {font-family: monospace;font-weight: bold;display: inline-block;line-height: 1.2em;}#sk-container-id-6 div.sk-label-container {text-align: center;}#sk-container-id-6 div.sk-container {/* jupyter's `normalize.less` sets `[hidden] { display: none; }` but bootstrap.min.css set `[hidden] { display: none !important; }` so we also need the `!important` here to be able to override the default hidden behavior on the sphinx rendered scikit-learn.org. See: https://github.com/scikit-learn/scikit-learn/issues/21755 */display: inline-block !important;position: relative;}#sk-container-id-6 div.sk-text-repr-fallback {display: none;}</style><div id=\"sk-container-id-6\" class=\"sk-top-container\"><div class=\"sk-text-repr-fallback\"><pre>XGBClassifier(base_score=None, booster=None, callbacks=None,\n",
       "              colsample_bylevel=None, colsample_bynode=None,\n",
       "              colsample_bytree=None, early_stopping_rounds=None,\n",
       "              enable_categorical=False, eval_metric=None, feature_types=None,\n",
       "              gamma=None, gpu_id=None, grow_policy=None, importance_type=None,\n",
       "              interaction_constraints=None, learning_rate=None, max_bin=None,\n",
       "              max_cat_threshold=None, max_cat_to_onehot=None,\n",
       "              max_delta_step=None, max_depth=None, max_leaves=None,\n",
       "              min_child_weight=None, missing=nan, monotone_constraints=None,\n",
       "              n_estimators=100, n_jobs=None, num_parallel_tree=None,\n",
       "              predictor=None, random_state=30, ...)</pre><b>In a Jupyter environment, please rerun this cell to show the HTML representation or trust the notebook. <br />On GitHub, the HTML representation is unable to render, please try loading this page with nbviewer.org.</b></div><div class=\"sk-container\" hidden><div class=\"sk-item\"><div class=\"sk-estimator sk-toggleable\"><input class=\"sk-toggleable__control sk-hidden--visually\" id=\"sk-estimator-id-6\" type=\"checkbox\" checked><label for=\"sk-estimator-id-6\" class=\"sk-toggleable__label sk-toggleable__label-arrow\">XGBClassifier</label><div class=\"sk-toggleable__content\"><pre>XGBClassifier(base_score=None, booster=None, callbacks=None,\n",
       "              colsample_bylevel=None, colsample_bynode=None,\n",
       "              colsample_bytree=None, early_stopping_rounds=None,\n",
       "              enable_categorical=False, eval_metric=None, feature_types=None,\n",
       "              gamma=None, gpu_id=None, grow_policy=None, importance_type=None,\n",
       "              interaction_constraints=None, learning_rate=None, max_bin=None,\n",
       "              max_cat_threshold=None, max_cat_to_onehot=None,\n",
       "              max_delta_step=None, max_depth=None, max_leaves=None,\n",
       "              min_child_weight=None, missing=nan, monotone_constraints=None,\n",
       "              n_estimators=100, n_jobs=None, num_parallel_tree=None,\n",
       "              predictor=None, random_state=30, ...)</pre></div></div></div></div></div>"
      ],
      "text/plain": [
       "XGBClassifier(base_score=None, booster=None, callbacks=None,\n",
       "              colsample_bylevel=None, colsample_bynode=None,\n",
       "              colsample_bytree=None, early_stopping_rounds=None,\n",
       "              enable_categorical=False, eval_metric=None, feature_types=None,\n",
       "              gamma=None, gpu_id=None, grow_policy=None, importance_type=None,\n",
       "              interaction_constraints=None, learning_rate=None, max_bin=None,\n",
       "              max_cat_threshold=None, max_cat_to_onehot=None,\n",
       "              max_delta_step=None, max_depth=None, max_leaves=None,\n",
       "              min_child_weight=None, missing=nan, monotone_constraints=None,\n",
       "              n_estimators=100, n_jobs=None, num_parallel_tree=None,\n",
       "              predictor=None, random_state=30, ...)"
      ]
     },
     "execution_count": 58,
     "metadata": {},
     "output_type": "execute_result"
    }
   ],
   "source": [
    "# Create a XGBoost Classifier Object\n",
    "xgb_clf1 = XGBClassifier(random_state=30)\n",
    "\n",
    "# Fit XGBoost Classifier to training data\n",
    "xgb_clf1.fit(X_train_scaled, y_train)"
   ]
  },
  {
   "cell_type": "code",
   "execution_count": 59,
   "id": "3816ccbf",
   "metadata": {},
   "outputs": [],
   "source": [
    "# Make preditions on the test set\n",
    "y_pred3 = xgb_clf1.predict(X_test_scaled)"
   ]
  },
  {
   "cell_type": "code",
   "execution_count": 60,
   "id": "094d3b08",
   "metadata": {},
   "outputs": [
    {
     "name": "stdout",
     "output_type": "stream",
     "text": [
      "Training Result:\n",
      "================================================\n",
      "Accuracy Score: 100.00%\n",
      "_______________________________________________\n",
      "CLASSIFICATION REPORT:\n",
      "              precision    recall  f1-score   support\n",
      "\n",
      "           0       1.00      1.00      1.00       863\n",
      "           1       1.00      1.00      1.00       166\n",
      "\n",
      "    accuracy                           1.00      1029\n",
      "   macro avg       1.00      1.00      1.00      1029\n",
      "weighted avg       1.00      1.00      1.00      1029\n",
      "\n",
      "_______________________________________________\n",
      "Confusion Matrix: \n",
      " [[863   0]\n",
      " [  0 166]]\n",
      "\n",
      "Testing Result:\n",
      "================================================\n",
      "Accuracy Score: 85.49%\n",
      "_______________________________________________\n",
      "CLASSIFICATION REPORT:\n",
      "              precision    recall  f1-score   support\n",
      "\n",
      "           0       0.88      0.96      0.92       370\n",
      "           1       0.60      0.30      0.40        71\n",
      "\n",
      "    accuracy                           0.85       441\n",
      "   macro avg       0.74      0.63      0.66       441\n",
      "weighted avg       0.83      0.85      0.83       441\n",
      "\n",
      "_______________________________________________\n",
      "Confusion Matrix: \n",
      " [[356  14]\n",
      " [ 50  21]]\n",
      "\n"
     ]
    }
   ],
   "source": [
    "# Review performance metrics\n",
    "print_score(xgb_clf1, X_train_scaled, y_train, X_test_scaled, y_test, train=True)\n",
    "print_score(xgb_clf1, X_train_scaled, y_train, X_test_scaled, y_test, train=False)"
   ]
  },
  {
   "cell_type": "code",
   "execution_count": 61,
   "id": "0681643a",
   "metadata": {},
   "outputs": [
    {
     "name": "stdout",
     "output_type": "stream",
     "text": [
      "ROC AUC Score: 0.8257708412637991\n"
     ]
    }
   ],
   "source": [
    "# Review ROC AUC score\n",
    "xgb_roc = roc_auc_score(y_test, xgb_clf1.predict_proba(X_test_scaled)[:,1], average='weighted')\n",
    "print(\"ROC AUC Score:\", xgb_roc)"
   ]
  },
  {
   "cell_type": "markdown",
   "id": "803b62a4",
   "metadata": {},
   "source": [
    "The first iteration of the XGBoost classifier model resulted in a training accuracy of 100% and a testing accuracy of 85.49%. This accuracy scores of this first iteration is exactly the same as the first iteration of the random forest model. Similarly, the 100% training accuracy and the 14.5% gap between training and testing accuracy scores suggests that the model is overfitting the data. \n",
    "\n",
    "The F1-score is relatively high at 40% compared to the logistic regression and random forest models. The precision score is a respectable 60% and the recall score is good at 30%. \n",
    "\n",
    "Tthe weighted-average of the scores are good at precision=83%, recall=85%, and F1-score=83%. \n",
    "\n",
    "The ROC AUC score is 82.58% is also pretty good for the first iteration."
   ]
  },
  {
   "cell_type": "markdown",
   "id": "ae6c96b7",
   "metadata": {},
   "source": [
    "### XGBoost Hyperparameter Tuning"
   ]
  },
  {
   "cell_type": "code",
   "execution_count": 67,
   "id": "6027645a",
   "metadata": {},
   "outputs": [],
   "source": [
    "# Define the XGBoost hyperparameter grid\n",
    "n_estimators = [100, 200, 500, 750]\n",
    "learning_rate = [0.01, 0.02, 0.05, 0.1, 0.25]\n",
    "min_child_weight = [1, 5, 7, 10]\n",
    "gamma = [0.1, 0.5, 1, 1.5, 5]\n",
    "subsample = [0.6, 0.8, 1.0]\n",
    "colsample_bytree = [0.6, 0.8, 1.0]\n",
    "max_depth = [3, 4, 5, 10, 12]\n",
    "\n",
    "params_grid_xgb = {\n",
    "        'n_estimators' : n_estimators,\n",
    "        'learning_rate' : learning_rate,\n",
    "        'min_child_weight': min_child_weight,\n",
    "        'gamma': gamma,\n",
    "        'subsample': subsample,\n",
    "        'colsample_bytree': colsample_bytree,\n",
    "        'max_depth': max_depth\n",
    "}"
   ]
  },
  {
   "cell_type": "code",
   "execution_count": 68,
   "id": "0c66ec57",
   "metadata": {},
   "outputs": [
    {
     "name": "stdout",
     "output_type": "stream",
     "text": [
      "Fitting 5 folds for each of 400 candidates, totalling 2000 fits\n",
      "Best paramters: {'subsample': 0.6, 'n_estimators': 750, 'min_child_weight': 10, 'max_depth': 12, 'learning_rate': 0.02, 'gamma': 5, 'colsample_bytree': 0.6}\n"
     ]
    },
    {
     "data": {
      "text/html": [
       "<style>#sk-container-id-7 {color: black;background-color: white;}#sk-container-id-7 pre{padding: 0;}#sk-container-id-7 div.sk-toggleable {background-color: white;}#sk-container-id-7 label.sk-toggleable__label {cursor: pointer;display: block;width: 100%;margin-bottom: 0;padding: 0.3em;box-sizing: border-box;text-align: center;}#sk-container-id-7 label.sk-toggleable__label-arrow:before {content: \"▸\";float: left;margin-right: 0.25em;color: #696969;}#sk-container-id-7 label.sk-toggleable__label-arrow:hover:before {color: black;}#sk-container-id-7 div.sk-estimator:hover label.sk-toggleable__label-arrow:before {color: black;}#sk-container-id-7 div.sk-toggleable__content {max-height: 0;max-width: 0;overflow: hidden;text-align: left;background-color: #f0f8ff;}#sk-container-id-7 div.sk-toggleable__content pre {margin: 0.2em;color: black;border-radius: 0.25em;background-color: #f0f8ff;}#sk-container-id-7 input.sk-toggleable__control:checked~div.sk-toggleable__content {max-height: 200px;max-width: 100%;overflow: auto;}#sk-container-id-7 input.sk-toggleable__control:checked~label.sk-toggleable__label-arrow:before {content: \"▾\";}#sk-container-id-7 div.sk-estimator input.sk-toggleable__control:checked~label.sk-toggleable__label {background-color: #d4ebff;}#sk-container-id-7 div.sk-label input.sk-toggleable__control:checked~label.sk-toggleable__label {background-color: #d4ebff;}#sk-container-id-7 input.sk-hidden--visually {border: 0;clip: rect(1px 1px 1px 1px);clip: rect(1px, 1px, 1px, 1px);height: 1px;margin: -1px;overflow: hidden;padding: 0;position: absolute;width: 1px;}#sk-container-id-7 div.sk-estimator {font-family: monospace;background-color: #f0f8ff;border: 1px dotted black;border-radius: 0.25em;box-sizing: border-box;margin-bottom: 0.5em;}#sk-container-id-7 div.sk-estimator:hover {background-color: #d4ebff;}#sk-container-id-7 div.sk-parallel-item::after {content: \"\";width: 100%;border-bottom: 1px solid gray;flex-grow: 1;}#sk-container-id-7 div.sk-label:hover label.sk-toggleable__label {background-color: #d4ebff;}#sk-container-id-7 div.sk-serial::before {content: \"\";position: absolute;border-left: 1px solid gray;box-sizing: border-box;top: 0;bottom: 0;left: 50%;z-index: 0;}#sk-container-id-7 div.sk-serial {display: flex;flex-direction: column;align-items: center;background-color: white;padding-right: 0.2em;padding-left: 0.2em;position: relative;}#sk-container-id-7 div.sk-item {position: relative;z-index: 1;}#sk-container-id-7 div.sk-parallel {display: flex;align-items: stretch;justify-content: center;background-color: white;position: relative;}#sk-container-id-7 div.sk-item::before, #sk-container-id-7 div.sk-parallel-item::before {content: \"\";position: absolute;border-left: 1px solid gray;box-sizing: border-box;top: 0;bottom: 0;left: 50%;z-index: -1;}#sk-container-id-7 div.sk-parallel-item {display: flex;flex-direction: column;z-index: 1;position: relative;background-color: white;}#sk-container-id-7 div.sk-parallel-item:first-child::after {align-self: flex-end;width: 50%;}#sk-container-id-7 div.sk-parallel-item:last-child::after {align-self: flex-start;width: 50%;}#sk-container-id-7 div.sk-parallel-item:only-child::after {width: 0;}#sk-container-id-7 div.sk-dashed-wrapped {border: 1px dashed gray;margin: 0 0.4em 0.5em 0.4em;box-sizing: border-box;padding-bottom: 0.4em;background-color: white;}#sk-container-id-7 div.sk-label label {font-family: monospace;font-weight: bold;display: inline-block;line-height: 1.2em;}#sk-container-id-7 div.sk-label-container {text-align: center;}#sk-container-id-7 div.sk-container {/* jupyter's `normalize.less` sets `[hidden] { display: none; }` but bootstrap.min.css set `[hidden] { display: none !important; }` so we also need the `!important` here to be able to override the default hidden behavior on the sphinx rendered scikit-learn.org. See: https://github.com/scikit-learn/scikit-learn/issues/21755 */display: inline-block !important;position: relative;}#sk-container-id-7 div.sk-text-repr-fallback {display: none;}</style><div id=\"sk-container-id-7\" class=\"sk-top-container\"><div class=\"sk-text-repr-fallback\"><pre>XGBClassifier(base_score=None, booster=None, callbacks=None,\n",
       "              colsample_bylevel=None, colsample_bynode=None,\n",
       "              colsample_bytree=0.6, early_stopping_rounds=None,\n",
       "              enable_categorical=False, eval_metric=None, feature_types=None,\n",
       "              gamma=5, gpu_id=None, grow_policy=None, importance_type=None,\n",
       "              interaction_constraints=None, learning_rate=0.02, max_bin=None,\n",
       "              max_cat_threshold=None, max_cat_to_onehot=None,\n",
       "              max_delta_step=None, max_depth=12, max_leaves=None,\n",
       "              min_child_weight=10, missing=nan, monotone_constraints=None,\n",
       "              n_estimators=750, n_jobs=None, num_parallel_tree=None,\n",
       "              predictor=None, random_state=None, ...)</pre><b>In a Jupyter environment, please rerun this cell to show the HTML representation or trust the notebook. <br />On GitHub, the HTML representation is unable to render, please try loading this page with nbviewer.org.</b></div><div class=\"sk-container\" hidden><div class=\"sk-item\"><div class=\"sk-estimator sk-toggleable\"><input class=\"sk-toggleable__control sk-hidden--visually\" id=\"sk-estimator-id-7\" type=\"checkbox\" checked><label for=\"sk-estimator-id-7\" class=\"sk-toggleable__label sk-toggleable__label-arrow\">XGBClassifier</label><div class=\"sk-toggleable__content\"><pre>XGBClassifier(base_score=None, booster=None, callbacks=None,\n",
       "              colsample_bylevel=None, colsample_bynode=None,\n",
       "              colsample_bytree=0.6, early_stopping_rounds=None,\n",
       "              enable_categorical=False, eval_metric=None, feature_types=None,\n",
       "              gamma=5, gpu_id=None, grow_policy=None, importance_type=None,\n",
       "              interaction_constraints=None, learning_rate=0.02, max_bin=None,\n",
       "              max_cat_threshold=None, max_cat_to_onehot=None,\n",
       "              max_delta_step=None, max_depth=12, max_leaves=None,\n",
       "              min_child_weight=10, missing=nan, monotone_constraints=None,\n",
       "              n_estimators=750, n_jobs=None, num_parallel_tree=None,\n",
       "              predictor=None, random_state=None, ...)</pre></div></div></div></div></div>"
      ],
      "text/plain": [
       "XGBClassifier(base_score=None, booster=None, callbacks=None,\n",
       "              colsample_bylevel=None, colsample_bynode=None,\n",
       "              colsample_bytree=0.6, early_stopping_rounds=None,\n",
       "              enable_categorical=False, eval_metric=None, feature_types=None,\n",
       "              gamma=5, gpu_id=None, grow_policy=None, importance_type=None,\n",
       "              interaction_constraints=None, learning_rate=0.02, max_bin=None,\n",
       "              max_cat_threshold=None, max_cat_to_onehot=None,\n",
       "              max_delta_step=None, max_depth=12, max_leaves=None,\n",
       "              min_child_weight=10, missing=nan, monotone_constraints=None,\n",
       "              n_estimators=750, n_jobs=None, num_parallel_tree=None,\n",
       "              predictor=None, random_state=None, ...)"
      ]
     },
     "execution_count": 68,
     "metadata": {},
     "output_type": "execute_result"
    }
   ],
   "source": [
    "# Create a XGBoost Classifier Object\n",
    "xgb_clf2 = XGBClassifier(random_state=30)\n",
    "\n",
    "# Use RandomizedSearchCV to perform a hyperparameter search\n",
    "xgb_cv = RandomizedSearchCV(\n",
    "    estimator=xgb_clf2, \n",
    "    scoring='roc_auc',\n",
    "    param_distributions=params_grid_xgb,\n",
    "    n_iter=400,\n",
    "    cv=5, \n",
    "    verbose=1, \n",
    "    random_state=30,\n",
    "    n_jobs=-1\n",
    ")\n",
    "\n",
    "xgb_cv.fit(X_train_scaled, y_train)\n",
    "\n",
    "# Get best parameters\n",
    "xgb_best_params = xgb_cv.best_params_\n",
    "print(f\"Best paramters: {xgb_best_params}\")\n",
    "\n",
    "# Train Random Foreset Classifier using best parameters and fit to model\n",
    "xgb_clf3 = XGBClassifier(**xgb_best_params)\n",
    "xgb_clf3.fit(X_train_scaled, y_train)"
   ]
  },
  {
   "cell_type": "code",
   "execution_count": 69,
   "id": "eda0c3ce",
   "metadata": {},
   "outputs": [
    {
     "name": "stdout",
     "output_type": "stream",
     "text": [
      "Training Result:\n",
      "================================================\n",
      "Accuracy Score: 89.31%\n",
      "_______________________________________________\n",
      "CLASSIFICATION REPORT:\n",
      "              precision    recall  f1-score   support\n",
      "\n",
      "           0       0.89      0.99      0.94       863\n",
      "           1       0.91      0.37      0.53       166\n",
      "\n",
      "    accuracy                           0.89      1029\n",
      "   macro avg       0.90      0.68      0.73      1029\n",
      "weighted avg       0.90      0.89      0.87      1029\n",
      "\n",
      "_______________________________________________\n",
      "Confusion Matrix: \n",
      " [[857   6]\n",
      " [104  62]]\n",
      "\n",
      "Testing Result:\n",
      "================================================\n",
      "Accuracy Score: 87.98%\n",
      "_______________________________________________\n",
      "CLASSIFICATION REPORT:\n",
      "              precision    recall  f1-score   support\n",
      "\n",
      "           0       0.88      0.99      0.93       370\n",
      "           1       0.88      0.30      0.44        71\n",
      "\n",
      "    accuracy                           0.88       441\n",
      "   macro avg       0.88      0.64      0.69       441\n",
      "weighted avg       0.88      0.88      0.85       441\n",
      "\n",
      "_______________________________________________\n",
      "Confusion Matrix: \n",
      " [[367   3]\n",
      " [ 50  21]]\n",
      "\n"
     ]
    }
   ],
   "source": [
    "# Review performance metrics\n",
    "print_score(xgb_clf3, X_train_scaled, y_train, X_test_scaled, y_test, train=True)\n",
    "print_score(xgb_clf3, X_train_scaled, y_train, X_test_scaled, y_test, train=False)"
   ]
  },
  {
   "cell_type": "code",
   "execution_count": 70,
   "id": "e4e84635",
   "metadata": {},
   "outputs": [
    {
     "name": "stdout",
     "output_type": "stream",
     "text": [
      "ROC AUC Score: 0.8403121431290445\n"
     ]
    }
   ],
   "source": [
    "# Review ROC AUC score\n",
    "xgb_roc_final = roc_auc_score(y_test, xgb_clf3.predict_proba(X_test_scaled)[:,1], average='weighted')\n",
    "print(\"ROC AUC Score:\", xgb_roc_final)"
   ]
  },
  {
   "cell_type": "code",
   "execution_count": 71,
   "id": "f7c3b773",
   "metadata": {},
   "outputs": [
    {
     "data": {
      "text/plain": [
       "Text(0.5, 427.9555555555555, 'Predicted Label')"
      ]
     },
     "execution_count": 71,
     "metadata": {},
     "output_type": "execute_result"
    },
    {
     "data": {
      "image/png": "[encoded data removed]",
      "text/plain": [
       "<Figure size 640x480 with 2 Axes>"
      ]
     },
     "metadata": {},
     "output_type": "display_data"
    }
   ],
   "source": [
    "# Confusion Matrix\n",
    "cnf_matrix = confusion_matrix(y_test, xgb_clf3.predict(X_test_scaled))\n",
    "class_names=[0,1] # name  of classes\n",
    "fig, ax = plt.subplots()\n",
    "tick_marks = np.arange(len(class_names))\n",
    "plt.xticks(tick_marks, class_names)\n",
    "plt.yticks(tick_marks, class_names)\n",
    "\n",
    "# create heatmap\n",
    "sns.heatmap(pd.DataFrame(cnf_matrix), annot=True, cmap=\"YlGnBu\" ,fmt='g')\n",
    "ax.xaxis.set_label_position(\"top\")\n",
    "plt.tight_layout()\n",
    "plt.title('XGBoost Model Confusion Matrix', y=1.1)\n",
    "plt.ylabel('Actual Label')\n",
    "plt.xlabel('Predicted Label')"
   ]
  },
  {
   "cell_type": "markdown",
   "id": "34e4afe3",
   "metadata": {},
   "source": [
    "After hyperparameter tuning the XGBoost classifier model, the best hyperparameters were: \n",
    "{'subsample': 0.6, 'n_estimators': 750, 'min_child_weight': 10, 'max_depth': 12, 'learning_rate': 0.02, 'gamma': 5, 'colsample_bytree': 0.6}\n",
    "\n",
    "- After fine-tuning the model, the testing accuracy increased by 2.49%.This resulted in 89.31% training accuracy and 87.98% testing accuracy.  \n",
    "- The precision score significantly increased by 28% (from 60% to 88%), F1-score increased by 4% (from 40% to 44%), and the recall score remained stable at 30%. \n",
    "- The ROC AUC score also considerably improved by 1.45% (from 85.58% to 84.03%). \n",
    "- When looking at the confusion matrix for the fine-tuned XGBoost classifer model, we can see that when we predict employee attrition, about 13% (3 of 24) of the time we are predicting a false positive, while the false negatives (predicting an employee will attrition, when in fact they are staying) is about 12% (50 of 417). "
   ]
  },
  {
   "cell_type": "code",
   "execution_count": 73,
   "id": "a683b983",
   "metadata": {},
   "outputs": [
    {
     "data": {
      "application/vnd.plotly.v1+json": {
       "config": {
        "plotlyServerURL": "https://plot.ly"
       },
       "data": [
        {
         "alignmentgroup": "True",
         "hovertemplate": "%{x}<br>Importance = %{y:.2f}",
         "legendgroup": "OverTime_Yes",
         "marker": {
          "color": "#c6ebd1",
          "line": {
           "color": "#3F3B3A",
           "width": 1
          },
          "opacity": 0.7,
          "pattern": {
           "shape": ""
          }
         },
         "name": "OverTime_Yes",
         "offsetgroup": "OverTime_Yes",
         "orientation": "v",
         "showlegend": true,
         "text": [
          0.048553742468357086
         ],
         "textposition": "outside",
         "texttemplate": "%{text:.2f}",
         "type": "bar",
         "x": [
          "OverTime_Yes"
         ],
         "xaxis": "x",
         "y": [
          0.048553742468357086
         ],
         "yaxis": "y"
        },
        {
         "alignmentgroup": "True",
         "hovertemplate": "%{x}<br>Importance = %{y:.2f}",
         "legendgroup": "TotalWorkingYears",
         "marker": {
          "color": "#abe2be",
          "line": {
           "color": "#3F3B3A",
           "width": 1
          },
          "opacity": 0.7,
          "pattern": {
           "shape": ""
          }
         },
         "name": "TotalWorkingYears",
         "offsetgroup": "TotalWorkingYears",
         "orientation": "v",
         "showlegend": true,
         "text": [
          0.042465005069971085
         ],
         "textposition": "outside",
         "texttemplate": "%{text:.2f}",
         "type": "bar",
         "x": [
          "TotalWorkingYears"
         ],
         "xaxis": "x",
         "y": [
          0.042465005069971085
         ],
         "yaxis": "y"
        },
        {
         "alignmentgroup": "True",
         "hovertemplate": "%{x}<br>Importance = %{y:.2f}",
         "legendgroup": "MonthlyIncome",
         "marker": {
          "color": "#8bdab2",
          "line": {
           "color": "#3F3B3A",
           "width": 1
          },
          "opacity": 0.7,
          "pattern": {
           "shape": ""
          }
         },
         "name": "MonthlyIncome",
         "offsetgroup": "MonthlyIncome",
         "orientation": "v",
         "showlegend": true,
         "text": [
          0.04084626957774162
         ],
         "textposition": "outside",
         "texttemplate": "%{text:.2f}",
         "type": "bar",
         "x": [
          "MonthlyIncome"
         ],
         "xaxis": "x",
         "y": [
          0.04084626957774162
         ],
         "yaxis": "y"
        },
        {
         "alignmentgroup": "True",
         "hovertemplate": "%{x}<br>Importance = %{y:.2f}",
         "legendgroup": "JobLevel",
         "marker": {
          "color": "#68d1ad",
          "line": {
           "color": "#3F3B3A",
           "width": 1
          },
          "opacity": 0.7,
          "pattern": {
           "shape": ""
          }
         },
         "name": "JobLevel",
         "offsetgroup": "JobLevel",
         "orientation": "v",
         "showlegend": true,
         "text": [
          0.039194799959659576
         ],
         "textposition": "outside",
         "texttemplate": "%{text:.2f}",
         "type": "bar",
         "x": [
          "JobLevel"
         ],
         "xaxis": "x",
         "y": [
          0.039194799959659576
         ],
         "yaxis": "y"
        },
        {
         "alignmentgroup": "True",
         "hovertemplate": "%{x}<br>Importance = %{y:.2f}",
         "legendgroup": "JobRole_Sales Executive",
         "marker": {
          "color": "#4fc5ad",
          "line": {
           "color": "#3F3B3A",
           "width": 1
          },
          "opacity": 0.7,
          "pattern": {
           "shape": ""
          }
         },
         "name": "JobRole_Sales Executive",
         "offsetgroup": "JobRole_Sales Executive",
         "orientation": "v",
         "showlegend": true,
         "text": [
          0.03748634457588196
         ],
         "textposition": "outside",
         "texttemplate": "%{text:.2f}",
         "type": "bar",
         "x": [
          "JobRole_Sales Executive"
         ],
         "xaxis": "x",
         "y": [
          0.03748634457588196
         ],
         "yaxis": "y"
        },
        {
         "alignmentgroup": "True",
         "hovertemplate": "%{x}<br>Importance = %{y:.2f}",
         "legendgroup": "YearsWithCurrManager",
         "marker": {
          "color": "#40b7ad",
          "line": {
           "color": "#3F3B3A",
           "width": 1
          },
          "opacity": 0.7,
          "pattern": {
           "shape": ""
          }
         },
         "name": "YearsWithCurrManager",
         "offsetgroup": "YearsWithCurrManager",
         "orientation": "v",
         "showlegend": true,
         "text": [
          0.03574011102318764
         ],
         "textposition": "outside",
         "texttemplate": "%{text:.2f}",
         "type": "bar",
         "x": [
          "YearsWithCurrManager"
         ],
         "xaxis": "x",
         "y": [
          0.03574011102318764
         ],
         "yaxis": "y"
        },
        {
         "alignmentgroup": "True",
         "hovertemplate": "%{x}<br>Importance = %{y:.2f}",
         "legendgroup": "StockOptionLevel",
         "marker": {
          "color": "#38aaac",
          "line": {
           "color": "#3F3B3A",
           "width": 1
          },
          "opacity": 0.7,
          "pattern": {
           "shape": ""
          }
         },
         "name": "StockOptionLevel",
         "offsetgroup": "StockOptionLevel",
         "orientation": "v",
         "showlegend": true,
         "text": [
          0.03541611507534981
         ],
         "textposition": "outside",
         "texttemplate": "%{text:.2f}",
         "type": "bar",
         "x": [
          "StockOptionLevel"
         ],
         "xaxis": "x",
         "y": [
          0.03541611507534981
         ],
         "yaxis": "y"
        },
        {
         "alignmentgroup": "True",
         "hovertemplate": "%{x}<br>Importance = %{y:.2f}",
         "legendgroup": "Age",
         "marker": {
          "color": "#359caa",
          "line": {
           "color": "#3F3B3A",
           "width": 1
          },
          "opacity": 0.7,
          "pattern": {
           "shape": ""
          }
         },
         "name": "Age",
         "offsetgroup": "Age",
         "orientation": "v",
         "showlegend": true,
         "text": [
          0.03391772136092186
         ],
         "textposition": "outside",
         "texttemplate": "%{text:.2f}",
         "type": "bar",
         "x": [
          "Age"
         ],
         "xaxis": "x",
         "y": [
          0.03391772136092186
         ],
         "yaxis": "y"
        },
        {
         "alignmentgroup": "True",
         "hovertemplate": "%{x}<br>Importance = %{y:.2f}",
         "legendgroup": "MaritalStatus_Single",
         "marker": {
          "color": "#348fa7",
          "line": {
           "color": "#3F3B3A",
           "width": 1
          },
          "opacity": 0.7,
          "pattern": {
           "shape": ""
          }
         },
         "name": "MaritalStatus_Single",
         "offsetgroup": "MaritalStatus_Single",
         "orientation": "v",
         "showlegend": true,
         "text": [
          0.033359527587890625
         ],
         "textposition": "outside",
         "texttemplate": "%{text:.2f}",
         "type": "bar",
         "x": [
          "MaritalStatus_Single"
         ],
         "xaxis": "x",
         "y": [
          0.033359527587890625
         ],
         "yaxis": "y"
        },
        {
         "alignmentgroup": "True",
         "hovertemplate": "%{x}<br>Importance = %{y:.2f}",
         "legendgroup": "YearsAtCompany",
         "marker": {
          "color": "#3482a4",
          "line": {
           "color": "#3F3B3A",
           "width": 1
          },
          "opacity": 0.7,
          "pattern": {
           "shape": ""
          }
         },
         "name": "YearsAtCompany",
         "offsetgroup": "YearsAtCompany",
         "orientation": "v",
         "showlegend": true,
         "text": [
          0.032278455793857574
         ],
         "textposition": "outside",
         "texttemplate": "%{text:.2f}",
         "type": "bar",
         "x": [
          "YearsAtCompany"
         ],
         "xaxis": "x",
         "y": [
          0.032278455793857574
         ],
         "yaxis": "y"
        },
        {
         "alignmentgroup": "True",
         "hovertemplate": "%{x}<br>Importance = %{y:.2f}",
         "legendgroup": "YearsInCurrentRole",
         "marker": {
          "color": "#3573a1",
          "line": {
           "color": "#3F3B3A",
           "width": 1
          },
          "opacity": 0.7,
          "pattern": {
           "shape": ""
          }
         },
         "name": "YearsInCurrentRole",
         "offsetgroup": "YearsInCurrentRole",
         "orientation": "v",
         "showlegend": true,
         "text": [
          0.03218033164739609
         ],
         "textposition": "outside",
         "texttemplate": "%{text:.2f}",
         "type": "bar",
         "x": [
          "YearsInCurrentRole"
         ],
         "xaxis": "x",
         "y": [
          0.03218033164739609
         ],
         "yaxis": "y"
        },
        {
         "alignmentgroup": "True",
         "hovertemplate": "%{x}<br>Importance = %{y:.2f}",
         "legendgroup": "EnvironmentSatisfaction",
         "marker": {
          "color": "#37659e",
          "line": {
           "color": "#3F3B3A",
           "width": 1
          },
          "opacity": 0.7,
          "pattern": {
           "shape": ""
          }
         },
         "name": "EnvironmentSatisfaction",
         "offsetgroup": "EnvironmentSatisfaction",
         "orientation": "v",
         "showlegend": true,
         "text": [
          0.0316941998898983
         ],
         "textposition": "outside",
         "texttemplate": "%{text:.2f}",
         "type": "bar",
         "x": [
          "EnvironmentSatisfaction"
         ],
         "xaxis": "x",
         "y": [
          0.0316941998898983
         ],
         "yaxis": "y"
        },
        {
         "alignmentgroup": "True",
         "hovertemplate": "%{x}<br>Importance = %{y:.2f}",
         "legendgroup": "BusinessTravel_Travel_Frequently",
         "marker": {
          "color": "#3b5799",
          "line": {
           "color": "#3F3B3A",
           "width": 1
          },
          "opacity": 0.7,
          "pattern": {
           "shape": ""
          }
         },
         "name": "BusinessTravel_Travel_Frequently",
         "offsetgroup": "BusinessTravel_Travel_Frequently",
         "orientation": "v",
         "showlegend": true,
         "text": [
          0.0306717362254858
         ],
         "textposition": "outside",
         "texttemplate": "%{text:.2f}",
         "type": "bar",
         "x": [
          "BusinessTravel_Travel_Frequently"
         ],
         "xaxis": "x",
         "y": [
          0.0306717362254858
         ],
         "yaxis": "y"
        },
        {
         "alignmentgroup": "True",
         "hovertemplate": "%{x}<br>Importance = %{y:.2f}",
         "legendgroup": "DistanceFromHome",
         "marker": {
          "color": "#40498e",
          "line": {
           "color": "#3F3B3A",
           "width": 1
          },
          "opacity": 0.7,
          "pattern": {
           "shape": ""
          }
         },
         "name": "DistanceFromHome",
         "offsetgroup": "DistanceFromHome",
         "orientation": "v",
         "showlegend": true,
         "text": [
          0.02960904873907566
         ],
         "textposition": "outside",
         "texttemplate": "%{text:.2f}",
         "type": "bar",
         "x": [
          "DistanceFromHome"
         ],
         "xaxis": "x",
         "y": [
          0.02960904873907566
         ],
         "yaxis": "y"
        },
        {
         "alignmentgroup": "True",
         "hovertemplate": "%{x}<br>Importance = %{y:.2f}",
         "legendgroup": "RelationshipSatisfaction",
         "marker": {
          "color": "#413d7b",
          "line": {
           "color": "#3F3B3A",
           "width": 1
          },
          "opacity": 0.7,
          "pattern": {
           "shape": ""
          }
         },
         "name": "RelationshipSatisfaction",
         "offsetgroup": "RelationshipSatisfaction",
         "orientation": "v",
         "showlegend": true,
         "text": [
          0.028995594009757042
         ],
         "textposition": "outside",
         "texttemplate": "%{text:.2f}",
         "type": "bar",
         "x": [
          "RelationshipSatisfaction"
         ],
         "xaxis": "x",
         "y": [
          0.028995594009757042
         ],
         "yaxis": "y"
        },
        {
         "alignmentgroup": "True",
         "hovertemplate": "%{x}<br>Importance = %{y:.2f}",
         "legendgroup": "Department_Sales",
         "marker": {
          "color": "#3d3164",
          "line": {
           "color": "#3F3B3A",
           "width": 1
          },
          "opacity": 0.7,
          "pattern": {
           "shape": ""
          }
         },
         "name": "Department_Sales",
         "offsetgroup": "Department_Sales",
         "orientation": "v",
         "showlegend": true,
         "text": [
          0.02871192991733551
         ],
         "textposition": "outside",
         "texttemplate": "%{text:.2f}",
         "type": "bar",
         "x": [
          "Department_Sales"
         ],
         "xaxis": "x",
         "y": [
          0.02871192991733551
         ],
         "yaxis": "y"
        },
        {
         "alignmentgroup": "True",
         "hovertemplate": "%{x}<br>Importance = %{y:.2f}",
         "legendgroup": "Department_Research & Development",
         "marker": {
          "color": "#37284f",
          "line": {
           "color": "#3F3B3A",
           "width": 1
          },
          "opacity": 0.7,
          "pattern": {
           "shape": ""
          }
         },
         "name": "Department_Research & Development",
         "offsetgroup": "Department_Research & Development",
         "orientation": "v",
         "showlegend": true,
         "text": [
          0.028572041541337967
         ],
         "textposition": "outside",
         "texttemplate": "%{text:.2f}",
         "type": "bar",
         "x": [
          "Department_Research & Development"
         ],
         "xaxis": "x",
         "y": [
          0.028572041541337967
         ],
         "yaxis": "y"
        },
        {
         "alignmentgroup": "True",
         "hovertemplate": "%{x}<br>Importance = %{y:.2f}",
         "legendgroup": "JobInvolvement",
         "marker": {
          "color": "#2e1e3b",
          "line": {
           "color": "#3F3B3A",
           "width": 1
          },
          "opacity": 0.7,
          "pattern": {
           "shape": ""
          }
         },
         "name": "JobInvolvement",
         "offsetgroup": "JobInvolvement",
         "orientation": "v",
         "showlegend": true,
         "text": [
          0.028149623423814774
         ],
         "textposition": "outside",
         "texttemplate": "%{text:.2f}",
         "type": "bar",
         "x": [
          "JobInvolvement"
         ],
         "xaxis": "x",
         "y": [
          0.028149623423814774
         ],
         "yaxis": "y"
        },
        {
         "alignmentgroup": "True",
         "hovertemplate": "%{x}<br>Importance = %{y:.2f}",
         "legendgroup": "NumCompaniesWorked",
         "marker": {
          "color": "#241628",
          "line": {
           "color": "#3F3B3A",
           "width": 1
          },
          "opacity": 0.7,
          "pattern": {
           "shape": ""
          }
         },
         "name": "NumCompaniesWorked",
         "offsetgroup": "NumCompaniesWorked",
         "orientation": "v",
         "showlegend": true,
         "text": [
          0.028103454038500786
         ],
         "textposition": "outside",
         "texttemplate": "%{text:.2f}",
         "type": "bar",
         "x": [
          "NumCompaniesWorked"
         ],
         "xaxis": "x",
         "y": [
          0.028103454038500786
         ],
         "yaxis": "y"
        },
        {
         "alignmentgroup": "True",
         "hovertemplate": "%{x}<br>Importance = %{y:.2f}",
         "legendgroup": "JobSatisfaction",
         "marker": {
          "color": "#180d16",
          "line": {
           "color": "#3F3B3A",
           "width": 1
          },
          "opacity": 0.7,
          "pattern": {
           "shape": ""
          }
         },
         "name": "JobSatisfaction",
         "offsetgroup": "JobSatisfaction",
         "orientation": "v",
         "showlegend": true,
         "text": [
          0.027381660416722298
         ],
         "textposition": "outside",
         "texttemplate": "%{text:.2f}",
         "type": "bar",
         "x": [
          "JobSatisfaction"
         ],
         "xaxis": "x",
         "y": [
          0.027381660416722298
         ],
         "yaxis": "y"
        }
       ],
       "layout": {
        "barmode": "relative",
        "coloraxis": {
         "showscale": false
        },
        "font": {
         "color": "#303030"
        },
        "height": 500,
        "legend": {
         "title": {
          "text": "index"
         },
         "tracegroupgap": 0
        },
        "margin": {
         "t": 60
        },
        "paper_bgcolor": "white",
        "plot_bgcolor": "white",
        "showlegend": false,
        "template": {
         "data": {
          "bar": [
           {
            "error_x": {
             "color": "#2a3f5f"
            },
            "error_y": {
             "color": "#2a3f5f"
            },
            "marker": {
             "line": {
              "color": "#E5ECF6",
              "width": 0.5
             },
             "pattern": {
              "fillmode": "overlay",
              "size": 10,
              "solidity": 0.2
             }
            },
            "type": "bar"
           }
          ],
          "barpolar": [
           {
            "marker": {
             "line": {
              "color": "#E5ECF6",
              "width": 0.5
             },
             "pattern": {
              "fillmode": "overlay",
              "size": 10,
              "solidity": 0.2
             }
            },
            "type": "barpolar"
           }
          ],
          "carpet": [
           {
            "aaxis": {
             "endlinecolor": "#2a3f5f",
             "gridcolor": "white",
             "linecolor": "white",
             "minorgridcolor": "white",
             "startlinecolor": "#2a3f5f"
            },
            "baxis": {
             "endlinecolor": "#2a3f5f",
             "gridcolor": "white",
             "linecolor": "white",
             "minorgridcolor": "white",
             "startlinecolor": "#2a3f5f"
            },
            "type": "carpet"
           }
          ],
          "choropleth": [
           {
            "colorbar": {
             "outlinewidth": 0,
             "ticks": ""
            },
            "type": "choropleth"
           }
          ],
          "contour": [
           {
            "colorbar": {
             "outlinewidth": 0,
             "ticks": ""
            },
            "colorscale": [
             [
              0,
              "#0d0887"
             ],
             [
              0.1111111111111111,
              "#46039f"
             ],
             [
              0.2222222222222222,
              "#7201a8"
             ],
             [
              0.3333333333333333,
              "#9c179e"
             ],
             [
              0.4444444444444444,
              "#bd3786"
             ],
             [
              0.5555555555555556,
              "#d8576b"
             ],
             [
              0.6666666666666666,
              "#ed7953"
             ],
             [
              0.7777777777777778,
              "#fb9f3a"
             ],
             [
              0.8888888888888888,
              "#fdca26"
             ],
             [
              1,
              "#f0f921"
             ]
            ],
            "type": "contour"
           }
          ],
          "contourcarpet": [
           {
            "colorbar": {
             "outlinewidth": 0,
             "ticks": ""
            },
            "type": "contourcarpet"
           }
          ],
          "heatmap": [
           {
            "colorbar": {
             "outlinewidth": 0,
             "ticks": ""
            },
            "colorscale": [
             [
              0,
              "#0d0887"
             ],
             [
              0.1111111111111111,
              "#46039f"
             ],
             [
              0.2222222222222222,
              "#7201a8"
             ],
             [
              0.3333333333333333,
              "#9c179e"
             ],
             [
              0.4444444444444444,
              "#bd3786"
             ],
             [
              0.5555555555555556,
              "#d8576b"
             ],
             [
              0.6666666666666666,
              "#ed7953"
             ],
             [
              0.7777777777777778,
              "#fb9f3a"
             ],
             [
              0.8888888888888888,
              "#fdca26"
             ],
             [
              1,
              "#f0f921"
             ]
            ],
            "type": "heatmap"
           }
          ],
          "heatmapgl": [
           {
            "colorbar": {
             "outlinewidth": 0,
             "ticks": ""
            },
            "colorscale": [
             [
              0,
              "#0d0887"
             ],
             [
              0.1111111111111111,
              "#46039f"
             ],
             [
              0.2222222222222222,
              "#7201a8"
             ],
             [
              0.3333333333333333,
              "#9c179e"
             ],
             [
              0.4444444444444444,
              "#bd3786"
             ],
             [
              0.5555555555555556,
              "#d8576b"
             ],
             [
              0.6666666666666666,
              "#ed7953"
             ],
             [
              0.7777777777777778,
              "#fb9f3a"
             ],
             [
              0.8888888888888888,
              "#fdca26"
             ],
             [
              1,
              "#f0f921"
             ]
            ],
            "type": "heatmapgl"
           }
          ],
          "histogram": [
           {
            "marker": {
             "pattern": {
              "fillmode": "overlay",
              "size": 10,
              "solidity": 0.2
             }
            },
            "type": "histogram"
           }
          ],
          "histogram2d": [
           {
            "colorbar": {
             "outlinewidth": 0,
             "ticks": ""
            },
            "colorscale": [
             [
              0,
              "#0d0887"
             ],
             [
              0.1111111111111111,
              "#46039f"
             ],
             [
              0.2222222222222222,
              "#7201a8"
             ],
             [
              0.3333333333333333,
              "#9c179e"
             ],
             [
              0.4444444444444444,
              "#bd3786"
             ],
             [
              0.5555555555555556,
              "#d8576b"
             ],
             [
              0.6666666666666666,
              "#ed7953"
             ],
             [
              0.7777777777777778,
              "#fb9f3a"
             ],
             [
              0.8888888888888888,
              "#fdca26"
             ],
             [
              1,
              "#f0f921"
             ]
            ],
            "type": "histogram2d"
           }
          ],
          "histogram2dcontour": [
           {
            "colorbar": {
             "outlinewidth": 0,
             "ticks": ""
            },
            "colorscale": [
             [
              0,
              "#0d0887"
             ],
             [
              0.1111111111111111,
              "#46039f"
             ],
             [
              0.2222222222222222,
              "#7201a8"
             ],
             [
              0.3333333333333333,
              "#9c179e"
             ],
             [
              0.4444444444444444,
              "#bd3786"
             ],
             [
              0.5555555555555556,
              "#d8576b"
             ],
             [
              0.6666666666666666,
              "#ed7953"
             ],
             [
              0.7777777777777778,
              "#fb9f3a"
             ],
             [
              0.8888888888888888,
              "#fdca26"
             ],
             [
              1,
              "#f0f921"
             ]
            ],
            "type": "histogram2dcontour"
           }
          ],
          "mesh3d": [
           {
            "colorbar": {
             "outlinewidth": 0,
             "ticks": ""
            },
            "type": "mesh3d"
           }
          ],
          "parcoords": [
           {
            "line": {
             "colorbar": {
              "outlinewidth": 0,
              "ticks": ""
             }
            },
            "type": "parcoords"
           }
          ],
          "pie": [
           {
            "automargin": true,
            "type": "pie"
           }
          ],
          "scatter": [
           {
            "marker": {
             "colorbar": {
              "outlinewidth": 0,
              "ticks": ""
             }
            },
            "type": "scatter"
           }
          ],
          "scatter3d": [
           {
            "line": {
             "colorbar": {
              "outlinewidth": 0,
              "ticks": ""
             }
            },
            "marker": {
             "colorbar": {
              "outlinewidth": 0,
              "ticks": ""
             }
            },
            "type": "scatter3d"
           }
          ],
          "scattercarpet": [
           {
            "marker": {
             "colorbar": {
              "outlinewidth": 0,
              "ticks": ""
             }
            },
            "type": "scattercarpet"
           }
          ],
          "scattergeo": [
           {
            "marker": {
             "colorbar": {
              "outlinewidth": 0,
              "ticks": ""
             }
            },
            "type": "scattergeo"
           }
          ],
          "scattergl": [
           {
            "marker": {
             "colorbar": {
              "outlinewidth": 0,
              "ticks": ""
             }
            },
            "type": "scattergl"
           }
          ],
          "scattermapbox": [
           {
            "marker": {
             "colorbar": {
              "outlinewidth": 0,
              "ticks": ""
             }
            },
            "type": "scattermapbox"
           }
          ],
          "scatterpolar": [
           {
            "marker": {
             "colorbar": {
              "outlinewidth": 0,
              "ticks": ""
             }
            },
            "type": "scatterpolar"
           }
          ],
          "scatterpolargl": [
           {
            "marker": {
             "colorbar": {
              "outlinewidth": 0,
              "ticks": ""
             }
            },
            "type": "scatterpolargl"
           }
          ],
          "scatterternary": [
           {
            "marker": {
             "colorbar": {
              "outlinewidth": 0,
              "ticks": ""
             }
            },
            "type": "scatterternary"
           }
          ],
          "surface": [
           {
            "colorbar": {
             "outlinewidth": 0,
             "ticks": ""
            },
            "colorscale": [
             [
              0,
              "#0d0887"
             ],
             [
              0.1111111111111111,
              "#46039f"
             ],
             [
              0.2222222222222222,
              "#7201a8"
             ],
             [
              0.3333333333333333,
              "#9c179e"
             ],
             [
              0.4444444444444444,
              "#bd3786"
             ],
             [
              0.5555555555555556,
              "#d8576b"
             ],
             [
              0.6666666666666666,
              "#ed7953"
             ],
             [
              0.7777777777777778,
              "#fb9f3a"
             ],
             [
              0.8888888888888888,
              "#fdca26"
             ],
             [
              1,
              "#f0f921"
             ]
            ],
            "type": "surface"
           }
          ],
          "table": [
           {
            "cells": {
             "fill": {
              "color": "#EBF0F8"
             },
             "line": {
              "color": "white"
             }
            },
            "header": {
             "fill": {
              "color": "#C8D4E3"
             },
             "line": {
              "color": "white"
             }
            },
            "type": "table"
           }
          ]
         },
         "layout": {
          "annotationdefaults": {
           "arrowcolor": "#2a3f5f",
           "arrowhead": 0,
           "arrowwidth": 1
          },
          "autotypenumbers": "strict",
          "coloraxis": {
           "colorbar": {
            "outlinewidth": 0,
            "ticks": ""
           }
          },
          "colorscale": {
           "diverging": [
            [
             0,
             "#8e0152"
            ],
            [
             0.1,
             "#c51b7d"
            ],
            [
             0.2,
             "#de77ae"
            ],
            [
             0.3,
             "#f1b6da"
            ],
            [
             0.4,
             "#fde0ef"
            ],
            [
             0.5,
             "#f7f7f7"
            ],
            [
             0.6,
             "#e6f5d0"
            ],
            [
             0.7,
             "#b8e186"
            ],
            [
             0.8,
             "#7fbc41"
            ],
            [
             0.9,
             "#4d9221"
            ],
            [
             1,
             "#276419"
            ]
           ],
           "sequential": [
            [
             0,
             "#0d0887"
            ],
            [
             0.1111111111111111,
             "#46039f"
            ],
            [
             0.2222222222222222,
             "#7201a8"
            ],
            [
             0.3333333333333333,
             "#9c179e"
            ],
            [
             0.4444444444444444,
             "#bd3786"
            ],
            [
             0.5555555555555556,
             "#d8576b"
            ],
            [
             0.6666666666666666,
             "#ed7953"
            ],
            [
             0.7777777777777778,
             "#fb9f3a"
            ],
            [
             0.8888888888888888,
             "#fdca26"
            ],
            [
             1,
             "#f0f921"
            ]
           ],
           "sequentialminus": [
            [
             0,
             "#0d0887"
            ],
            [
             0.1111111111111111,
             "#46039f"
            ],
            [
             0.2222222222222222,
             "#7201a8"
            ],
            [
             0.3333333333333333,
             "#9c179e"
            ],
            [
             0.4444444444444444,
             "#bd3786"
            ],
            [
             0.5555555555555556,
             "#d8576b"
            ],
            [
             0.6666666666666666,
             "#ed7953"
            ],
            [
             0.7777777777777778,
             "#fb9f3a"
            ],
            [
             0.8888888888888888,
             "#fdca26"
            ],
            [
             1,
             "#f0f921"
            ]
           ]
          },
          "colorway": [
           "#636efa",
           "#EF553B",
           "#00cc96",
           "#ab63fa",
           "#FFA15A",
           "#19d3f3",
           "#FF6692",
           "#B6E880",
           "#FF97FF",
           "#FECB52"
          ],
          "font": {
           "color": "#2a3f5f"
          },
          "geo": {
           "bgcolor": "white",
           "lakecolor": "white",
           "landcolor": "#E5ECF6",
           "showlakes": true,
           "showland": true,
           "subunitcolor": "white"
          },
          "hoverlabel": {
           "align": "left"
          },
          "hovermode": "closest",
          "mapbox": {
           "style": "light"
          },
          "paper_bgcolor": "white",
          "plot_bgcolor": "#E5ECF6",
          "polar": {
           "angularaxis": {
            "gridcolor": "white",
            "linecolor": "white",
            "ticks": ""
           },
           "bgcolor": "#E5ECF6",
           "radialaxis": {
            "gridcolor": "white",
            "linecolor": "white",
            "ticks": ""
           }
          },
          "scene": {
           "xaxis": {
            "backgroundcolor": "#E5ECF6",
            "gridcolor": "white",
            "gridwidth": 2,
            "linecolor": "white",
            "showbackground": true,
            "ticks": "",
            "zerolinecolor": "white"
           },
           "yaxis": {
            "backgroundcolor": "#E5ECF6",
            "gridcolor": "white",
            "gridwidth": 2,
            "linecolor": "white",
            "showbackground": true,
            "ticks": "",
            "zerolinecolor": "white"
           },
           "zaxis": {
            "backgroundcolor": "#E5ECF6",
            "gridcolor": "white",
            "gridwidth": 2,
            "linecolor": "white",
            "showbackground": true,
            "ticks": "",
            "zerolinecolor": "white"
           }
          },
          "shapedefaults": {
           "line": {
            "color": "#2a3f5f"
           }
          },
          "ternary": {
           "aaxis": {
            "gridcolor": "white",
            "linecolor": "white",
            "ticks": ""
           },
           "baxis": {
            "gridcolor": "white",
            "linecolor": "white",
            "ticks": ""
           },
           "bgcolor": "#E5ECF6",
           "caxis": {
            "gridcolor": "white",
            "linecolor": "white",
            "ticks": ""
           }
          },
          "title": {
           "x": 0.05
          },
          "xaxis": {
           "automargin": true,
           "gridcolor": "white",
           "linecolor": "white",
           "ticks": "",
           "title": {
            "standoff": 15
           },
           "zerolinecolor": "white",
           "zerolinewidth": 2
          },
          "yaxis": {
           "automargin": true,
           "gridcolor": "white",
           "linecolor": "white",
           "ticks": "",
           "title": {
            "standoff": 15
           },
           "zerolinecolor": "white",
           "zerolinewidth": 2
          }
         }
        },
        "title": {
         "text": "Top 20 Most Important Predictors of Employee Attrition Based on XGBoost Model"
        },
        "xaxis": {
         "anchor": "y",
         "categoryarray": [
          "OverTime_Yes",
          "TotalWorkingYears",
          "MonthlyIncome",
          "JobLevel",
          "JobRole_Sales Executive",
          "YearsWithCurrManager",
          "StockOptionLevel",
          "Age",
          "MaritalStatus_Single",
          "YearsAtCompany",
          "YearsInCurrentRole",
          "EnvironmentSatisfaction",
          "BusinessTravel_Travel_Frequently",
          "DistanceFromHome",
          "RelationshipSatisfaction",
          "Department_Sales",
          "Department_Research & Development",
          "JobInvolvement",
          "NumCompaniesWorked",
          "JobSatisfaction"
         ],
         "categoryorder": "array",
         "domain": [
          0,
          1
         ],
         "gridcolor": "#f5f5f5",
         "showgrid": true,
         "title": {
          "text": ""
         }
        },
        "yaxis": {
         "anchor": "x",
         "domain": [
          0,
          1
         ],
         "title": {
          "text": "Importance"
         }
        }
       }
      },
      "text/html": [
       "<div>                            <div id=\"192ebac5-15d0-4371-9823-638be045c188\" class=\"plotly-graph-div\" style=\"height:500px; width:100%;\"></div>            <script type=\"text/javascript\">                require([\"plotly\"], function(Plotly) {                    window.PLOTLYENV=window.PLOTLYENV || {};                                    if (document.getElementById(\"192ebac5-15d0-4371-9823-638be045c188\")) {                    Plotly.newPlot(                        \"192ebac5-15d0-4371-9823-638be045c188\",                        [{\"alignmentgroup\":\"True\",\"hovertemplate\":\"%{x}<br>Importance = %{y:.2f}\",\"legendgroup\":\"OverTime_Yes\",\"marker\":{\"color\":\"#c6ebd1\",\"opacity\":0.7,\"pattern\":{\"shape\":\"\"},\"line\":{\"color\":\"#3F3B3A\",\"width\":1}},\"name\":\"OverTime_Yes\",\"offsetgroup\":\"OverTime_Yes\",\"orientation\":\"v\",\"showlegend\":true,\"text\":[0.048553742468357086],\"textposition\":\"outside\",\"x\":[\"OverTime_Yes\"],\"xaxis\":\"x\",\"y\":[0.048553742468357086],\"yaxis\":\"y\",\"type\":\"bar\",\"texttemplate\":\"%{text:.2f}\"},{\"alignmentgroup\":\"True\",\"hovertemplate\":\"%{x}<br>Importance = %{y:.2f}\",\"legendgroup\":\"TotalWorkingYears\",\"marker\":{\"color\":\"#abe2be\",\"opacity\":0.7,\"pattern\":{\"shape\":\"\"},\"line\":{\"color\":\"#3F3B3A\",\"width\":1}},\"name\":\"TotalWorkingYears\",\"offsetgroup\":\"TotalWorkingYears\",\"orientation\":\"v\",\"showlegend\":true,\"text\":[0.042465005069971085],\"textposition\":\"outside\",\"x\":[\"TotalWorkingYears\"],\"xaxis\":\"x\",\"y\":[0.042465005069971085],\"yaxis\":\"y\",\"type\":\"bar\",\"texttemplate\":\"%{text:.2f}\"},{\"alignmentgroup\":\"True\",\"hovertemplate\":\"%{x}<br>Importance = %{y:.2f}\",\"legendgroup\":\"MonthlyIncome\",\"marker\":{\"color\":\"#8bdab2\",\"opacity\":0.7,\"pattern\":{\"shape\":\"\"},\"line\":{\"color\":\"#3F3B3A\",\"width\":1}},\"name\":\"MonthlyIncome\",\"offsetgroup\":\"MonthlyIncome\",\"orientation\":\"v\",\"showlegend\":true,\"text\":[0.04084626957774162],\"textposition\":\"outside\",\"x\":[\"MonthlyIncome\"],\"xaxis\":\"x\",\"y\":[0.04084626957774162],\"yaxis\":\"y\",\"type\":\"bar\",\"texttemplate\":\"%{text:.2f}\"},{\"alignmentgroup\":\"True\",\"hovertemplate\":\"%{x}<br>Importance = %{y:.2f}\",\"legendgroup\":\"JobLevel\",\"marker\":{\"color\":\"#68d1ad\",\"opacity\":0.7,\"pattern\":{\"shape\":\"\"},\"line\":{\"color\":\"#3F3B3A\",\"width\":1}},\"name\":\"JobLevel\",\"offsetgroup\":\"JobLevel\",\"orientation\":\"v\",\"showlegend\":true,\"text\":[0.039194799959659576],\"textposition\":\"outside\",\"x\":[\"JobLevel\"],\"xaxis\":\"x\",\"y\":[0.039194799959659576],\"yaxis\":\"y\",\"type\":\"bar\",\"texttemplate\":\"%{text:.2f}\"},{\"alignmentgroup\":\"True\",\"hovertemplate\":\"%{x}<br>Importance = %{y:.2f}\",\"legendgroup\":\"JobRole_Sales Executive\",\"marker\":{\"color\":\"#4fc5ad\",\"opacity\":0.7,\"pattern\":{\"shape\":\"\"},\"line\":{\"color\":\"#3F3B3A\",\"width\":1}},\"name\":\"JobRole_Sales Executive\",\"offsetgroup\":\"JobRole_Sales Executive\",\"orientation\":\"v\",\"showlegend\":true,\"text\":[0.03748634457588196],\"textposition\":\"outside\",\"x\":[\"JobRole_Sales Executive\"],\"xaxis\":\"x\",\"y\":[0.03748634457588196],\"yaxis\":\"y\",\"type\":\"bar\",\"texttemplate\":\"%{text:.2f}\"},{\"alignmentgroup\":\"True\",\"hovertemplate\":\"%{x}<br>Importance = %{y:.2f}\",\"legendgroup\":\"YearsWithCurrManager\",\"marker\":{\"color\":\"#40b7ad\",\"opacity\":0.7,\"pattern\":{\"shape\":\"\"},\"line\":{\"color\":\"#3F3B3A\",\"width\":1}},\"name\":\"YearsWithCurrManager\",\"offsetgroup\":\"YearsWithCurrManager\",\"orientation\":\"v\",\"showlegend\":true,\"text\":[0.03574011102318764],\"textposition\":\"outside\",\"x\":[\"YearsWithCurrManager\"],\"xaxis\":\"x\",\"y\":[0.03574011102318764],\"yaxis\":\"y\",\"type\":\"bar\",\"texttemplate\":\"%{text:.2f}\"},{\"alignmentgroup\":\"True\",\"hovertemplate\":\"%{x}<br>Importance = %{y:.2f}\",\"legendgroup\":\"StockOptionLevel\",\"marker\":{\"color\":\"#38aaac\",\"opacity\":0.7,\"pattern\":{\"shape\":\"\"},\"line\":{\"color\":\"#3F3B3A\",\"width\":1}},\"name\":\"StockOptionLevel\",\"offsetgroup\":\"StockOptionLevel\",\"orientation\":\"v\",\"showlegend\":true,\"text\":[0.03541611507534981],\"textposition\":\"outside\",\"x\":[\"StockOptionLevel\"],\"xaxis\":\"x\",\"y\":[0.03541611507534981],\"yaxis\":\"y\",\"type\":\"bar\",\"texttemplate\":\"%{text:.2f}\"},{\"alignmentgroup\":\"True\",\"hovertemplate\":\"%{x}<br>Importance = %{y:.2f}\",\"legendgroup\":\"Age\",\"marker\":{\"color\":\"#359caa\",\"opacity\":0.7,\"pattern\":{\"shape\":\"\"},\"line\":{\"color\":\"#3F3B3A\",\"width\":1}},\"name\":\"Age\",\"offsetgroup\":\"Age\",\"orientation\":\"v\",\"showlegend\":true,\"text\":[0.03391772136092186],\"textposition\":\"outside\",\"x\":[\"Age\"],\"xaxis\":\"x\",\"y\":[0.03391772136092186],\"yaxis\":\"y\",\"type\":\"bar\",\"texttemplate\":\"%{text:.2f}\"},{\"alignmentgroup\":\"True\",\"hovertemplate\":\"%{x}<br>Importance = %{y:.2f}\",\"legendgroup\":\"MaritalStatus_Single\",\"marker\":{\"color\":\"#348fa7\",\"opacity\":0.7,\"pattern\":{\"shape\":\"\"},\"line\":{\"color\":\"#3F3B3A\",\"width\":1}},\"name\":\"MaritalStatus_Single\",\"offsetgroup\":\"MaritalStatus_Single\",\"orientation\":\"v\",\"showlegend\":true,\"text\":[0.033359527587890625],\"textposition\":\"outside\",\"x\":[\"MaritalStatus_Single\"],\"xaxis\":\"x\",\"y\":[0.033359527587890625],\"yaxis\":\"y\",\"type\":\"bar\",\"texttemplate\":\"%{text:.2f}\"},{\"alignmentgroup\":\"True\",\"hovertemplate\":\"%{x}<br>Importance = %{y:.2f}\",\"legendgroup\":\"YearsAtCompany\",\"marker\":{\"color\":\"#3482a4\",\"opacity\":0.7,\"pattern\":{\"shape\":\"\"},\"line\":{\"color\":\"#3F3B3A\",\"width\":1}},\"name\":\"YearsAtCompany\",\"offsetgroup\":\"YearsAtCompany\",\"orientation\":\"v\",\"showlegend\":true,\"text\":[0.032278455793857574],\"textposition\":\"outside\",\"x\":[\"YearsAtCompany\"],\"xaxis\":\"x\",\"y\":[0.032278455793857574],\"yaxis\":\"y\",\"type\":\"bar\",\"texttemplate\":\"%{text:.2f}\"},{\"alignmentgroup\":\"True\",\"hovertemplate\":\"%{x}<br>Importance = %{y:.2f}\",\"legendgroup\":\"YearsInCurrentRole\",\"marker\":{\"color\":\"#3573a1\",\"opacity\":0.7,\"pattern\":{\"shape\":\"\"},\"line\":{\"color\":\"#3F3B3A\",\"width\":1}},\"name\":\"YearsInCurrentRole\",\"offsetgroup\":\"YearsInCurrentRole\",\"orientation\":\"v\",\"showlegend\":true,\"text\":[0.03218033164739609],\"textposition\":\"outside\",\"x\":[\"YearsInCurrentRole\"],\"xaxis\":\"x\",\"y\":[0.03218033164739609],\"yaxis\":\"y\",\"type\":\"bar\",\"texttemplate\":\"%{text:.2f}\"},{\"alignmentgroup\":\"True\",\"hovertemplate\":\"%{x}<br>Importance = %{y:.2f}\",\"legendgroup\":\"EnvironmentSatisfaction\",\"marker\":{\"color\":\"#37659e\",\"opacity\":0.7,\"pattern\":{\"shape\":\"\"},\"line\":{\"color\":\"#3F3B3A\",\"width\":1}},\"name\":\"EnvironmentSatisfaction\",\"offsetgroup\":\"EnvironmentSatisfaction\",\"orientation\":\"v\",\"showlegend\":true,\"text\":[0.0316941998898983],\"textposition\":\"outside\",\"x\":[\"EnvironmentSatisfaction\"],\"xaxis\":\"x\",\"y\":[0.0316941998898983],\"yaxis\":\"y\",\"type\":\"bar\",\"texttemplate\":\"%{text:.2f}\"},{\"alignmentgroup\":\"True\",\"hovertemplate\":\"%{x}<br>Importance = %{y:.2f}\",\"legendgroup\":\"BusinessTravel_Travel_Frequently\",\"marker\":{\"color\":\"#3b5799\",\"opacity\":0.7,\"pattern\":{\"shape\":\"\"},\"line\":{\"color\":\"#3F3B3A\",\"width\":1}},\"name\":\"BusinessTravel_Travel_Frequently\",\"offsetgroup\":\"BusinessTravel_Travel_Frequently\",\"orientation\":\"v\",\"showlegend\":true,\"text\":[0.0306717362254858],\"textposition\":\"outside\",\"x\":[\"BusinessTravel_Travel_Frequently\"],\"xaxis\":\"x\",\"y\":[0.0306717362254858],\"yaxis\":\"y\",\"type\":\"bar\",\"texttemplate\":\"%{text:.2f}\"},{\"alignmentgroup\":\"True\",\"hovertemplate\":\"%{x}<br>Importance = %{y:.2f}\",\"legendgroup\":\"DistanceFromHome\",\"marker\":{\"color\":\"#40498e\",\"opacity\":0.7,\"pattern\":{\"shape\":\"\"},\"line\":{\"color\":\"#3F3B3A\",\"width\":1}},\"name\":\"DistanceFromHome\",\"offsetgroup\":\"DistanceFromHome\",\"orientation\":\"v\",\"showlegend\":true,\"text\":[0.02960904873907566],\"textposition\":\"outside\",\"x\":[\"DistanceFromHome\"],\"xaxis\":\"x\",\"y\":[0.02960904873907566],\"yaxis\":\"y\",\"type\":\"bar\",\"texttemplate\":\"%{text:.2f}\"},{\"alignmentgroup\":\"True\",\"hovertemplate\":\"%{x}<br>Importance = %{y:.2f}\",\"legendgroup\":\"RelationshipSatisfaction\",\"marker\":{\"color\":\"#413d7b\",\"opacity\":0.7,\"pattern\":{\"shape\":\"\"},\"line\":{\"color\":\"#3F3B3A\",\"width\":1}},\"name\":\"RelationshipSatisfaction\",\"offsetgroup\":\"RelationshipSatisfaction\",\"orientation\":\"v\",\"showlegend\":true,\"text\":[0.028995594009757042],\"textposition\":\"outside\",\"x\":[\"RelationshipSatisfaction\"],\"xaxis\":\"x\",\"y\":[0.028995594009757042],\"yaxis\":\"y\",\"type\":\"bar\",\"texttemplate\":\"%{text:.2f}\"},{\"alignmentgroup\":\"True\",\"hovertemplate\":\"%{x}<br>Importance = %{y:.2f}\",\"legendgroup\":\"Department_Sales\",\"marker\":{\"color\":\"#3d3164\",\"opacity\":0.7,\"pattern\":{\"shape\":\"\"},\"line\":{\"color\":\"#3F3B3A\",\"width\":1}},\"name\":\"Department_Sales\",\"offsetgroup\":\"Department_Sales\",\"orientation\":\"v\",\"showlegend\":true,\"text\":[0.02871192991733551],\"textposition\":\"outside\",\"x\":[\"Department_Sales\"],\"xaxis\":\"x\",\"y\":[0.02871192991733551],\"yaxis\":\"y\",\"type\":\"bar\",\"texttemplate\":\"%{text:.2f}\"},{\"alignmentgroup\":\"True\",\"hovertemplate\":\"%{x}<br>Importance = %{y:.2f}\",\"legendgroup\":\"Department_Research & Development\",\"marker\":{\"color\":\"#37284f\",\"opacity\":0.7,\"pattern\":{\"shape\":\"\"},\"line\":{\"color\":\"#3F3B3A\",\"width\":1}},\"name\":\"Department_Research & Development\",\"offsetgroup\":\"Department_Research & Development\",\"orientation\":\"v\",\"showlegend\":true,\"text\":[0.028572041541337967],\"textposition\":\"outside\",\"x\":[\"Department_Research & Development\"],\"xaxis\":\"x\",\"y\":[0.028572041541337967],\"yaxis\":\"y\",\"type\":\"bar\",\"texttemplate\":\"%{text:.2f}\"},{\"alignmentgroup\":\"True\",\"hovertemplate\":\"%{x}<br>Importance = %{y:.2f}\",\"legendgroup\":\"JobInvolvement\",\"marker\":{\"color\":\"#2e1e3b\",\"opacity\":0.7,\"pattern\":{\"shape\":\"\"},\"line\":{\"color\":\"#3F3B3A\",\"width\":1}},\"name\":\"JobInvolvement\",\"offsetgroup\":\"JobInvolvement\",\"orientation\":\"v\",\"showlegend\":true,\"text\":[0.028149623423814774],\"textposition\":\"outside\",\"x\":[\"JobInvolvement\"],\"xaxis\":\"x\",\"y\":[0.028149623423814774],\"yaxis\":\"y\",\"type\":\"bar\",\"texttemplate\":\"%{text:.2f}\"},{\"alignmentgroup\":\"True\",\"hovertemplate\":\"%{x}<br>Importance = %{y:.2f}\",\"legendgroup\":\"NumCompaniesWorked\",\"marker\":{\"color\":\"#241628\",\"opacity\":0.7,\"pattern\":{\"shape\":\"\"},\"line\":{\"color\":\"#3F3B3A\",\"width\":1}},\"name\":\"NumCompaniesWorked\",\"offsetgroup\":\"NumCompaniesWorked\",\"orientation\":\"v\",\"showlegend\":true,\"text\":[0.028103454038500786],\"textposition\":\"outside\",\"x\":[\"NumCompaniesWorked\"],\"xaxis\":\"x\",\"y\":[0.028103454038500786],\"yaxis\":\"y\",\"type\":\"bar\",\"texttemplate\":\"%{text:.2f}\"},{\"alignmentgroup\":\"True\",\"hovertemplate\":\"%{x}<br>Importance = %{y:.2f}\",\"legendgroup\":\"JobSatisfaction\",\"marker\":{\"color\":\"#180d16\",\"opacity\":0.7,\"pattern\":{\"shape\":\"\"},\"line\":{\"color\":\"#3F3B3A\",\"width\":1}},\"name\":\"JobSatisfaction\",\"offsetgroup\":\"JobSatisfaction\",\"orientation\":\"v\",\"showlegend\":true,\"text\":[0.027381660416722298],\"textposition\":\"outside\",\"x\":[\"JobSatisfaction\"],\"xaxis\":\"x\",\"y\":[0.027381660416722298],\"yaxis\":\"y\",\"type\":\"bar\",\"texttemplate\":\"%{text:.2f}\"}],                        {\"template\":{\"data\":{\"bar\":[{\"error_x\":{\"color\":\"#2a3f5f\"},\"error_y\":{\"color\":\"#2a3f5f\"},\"marker\":{\"line\":{\"color\":\"#E5ECF6\",\"width\":0.5},\"pattern\":{\"fillmode\":\"overlay\",\"size\":10,\"solidity\":0.2}},\"type\":\"bar\"}],\"barpolar\":[{\"marker\":{\"line\":{\"color\":\"#E5ECF6\",\"width\":0.5},\"pattern\":{\"fillmode\":\"overlay\",\"size\":10,\"solidity\":0.2}},\"type\":\"barpolar\"}],\"carpet\":[{\"aaxis\":{\"endlinecolor\":\"#2a3f5f\",\"gridcolor\":\"white\",\"linecolor\":\"white\",\"minorgridcolor\":\"white\",\"startlinecolor\":\"#2a3f5f\"},\"baxis\":{\"endlinecolor\":\"#2a3f5f\",\"gridcolor\":\"white\",\"linecolor\":\"white\",\"minorgridcolor\":\"white\",\"startlinecolor\":\"#2a3f5f\"},\"type\":\"carpet\"}],\"choropleth\":[{\"colorbar\":{\"outlinewidth\":0,\"ticks\":\"\"},\"type\":\"choropleth\"}],\"contour\":[{\"colorbar\":{\"outlinewidth\":0,\"ticks\":\"\"},\"colorscale\":[[0.0,\"#0d0887\"],[0.1111111111111111,\"#46039f\"],[0.2222222222222222,\"#7201a8\"],[0.3333333333333333,\"#9c179e\"],[0.4444444444444444,\"#bd3786\"],[0.5555555555555556,\"#d8576b\"],[0.6666666666666666,\"#ed7953\"],[0.7777777777777778,\"#fb9f3a\"],[0.8888888888888888,\"#fdca26\"],[1.0,\"#f0f921\"]],\"type\":\"contour\"}],\"contourcarpet\":[{\"colorbar\":{\"outlinewidth\":0,\"ticks\":\"\"},\"type\":\"contourcarpet\"}],\"heatmap\":[{\"colorbar\":{\"outlinewidth\":0,\"ticks\":\"\"},\"colorscale\":[[0.0,\"#0d0887\"],[0.1111111111111111,\"#46039f\"],[0.2222222222222222,\"#7201a8\"],[0.3333333333333333,\"#9c179e\"],[0.4444444444444444,\"#bd3786\"],[0.5555555555555556,\"#d8576b\"],[0.6666666666666666,\"#ed7953\"],[0.7777777777777778,\"#fb9f3a\"],[0.8888888888888888,\"#fdca26\"],[1.0,\"#f0f921\"]],\"type\":\"heatmap\"}],\"heatmapgl\":[{\"colorbar\":{\"outlinewidth\":0,\"ticks\":\"\"},\"colorscale\":[[0.0,\"#0d0887\"],[0.1111111111111111,\"#46039f\"],[0.2222222222222222,\"#7201a8\"],[0.3333333333333333,\"#9c179e\"],[0.4444444444444444,\"#bd3786\"],[0.5555555555555556,\"#d8576b\"],[0.6666666666666666,\"#ed7953\"],[0.7777777777777778,\"#fb9f3a\"],[0.8888888888888888,\"#fdca26\"],[1.0,\"#f0f921\"]],\"type\":\"heatmapgl\"}],\"histogram\":[{\"marker\":{\"pattern\":{\"fillmode\":\"overlay\",\"size\":10,\"solidity\":0.2}},\"type\":\"histogram\"}],\"histogram2d\":[{\"colorbar\":{\"outlinewidth\":0,\"ticks\":\"\"},\"colorscale\":[[0.0,\"#0d0887\"],[0.1111111111111111,\"#46039f\"],[0.2222222222222222,\"#7201a8\"],[0.3333333333333333,\"#9c179e\"],[0.4444444444444444,\"#bd3786\"],[0.5555555555555556,\"#d8576b\"],[0.6666666666666666,\"#ed7953\"],[0.7777777777777778,\"#fb9f3a\"],[0.8888888888888888,\"#fdca26\"],[1.0,\"#f0f921\"]],\"type\":\"histogram2d\"}],\"histogram2dcontour\":[{\"colorbar\":{\"outlinewidth\":0,\"ticks\":\"\"},\"colorscale\":[[0.0,\"#0d0887\"],[0.1111111111111111,\"#46039f\"],[0.2222222222222222,\"#7201a8\"],[0.3333333333333333,\"#9c179e\"],[0.4444444444444444,\"#bd3786\"],[0.5555555555555556,\"#d8576b\"],[0.6666666666666666,\"#ed7953\"],[0.7777777777777778,\"#fb9f3a\"],[0.8888888888888888,\"#fdca26\"],[1.0,\"#f0f921\"]],\"type\":\"histogram2dcontour\"}],\"mesh3d\":[{\"colorbar\":{\"outlinewidth\":0,\"ticks\":\"\"},\"type\":\"mesh3d\"}],\"parcoords\":[{\"line\":{\"colorbar\":{\"outlinewidth\":0,\"ticks\":\"\"}},\"type\":\"parcoords\"}],\"pie\":[{\"automargin\":true,\"type\":\"pie\"}],\"scatter\":[{\"marker\":{\"colorbar\":{\"outlinewidth\":0,\"ticks\":\"\"}},\"type\":\"scatter\"}],\"scatter3d\":[{\"line\":{\"colorbar\":{\"outlinewidth\":0,\"ticks\":\"\"}},\"marker\":{\"colorbar\":{\"outlinewidth\":0,\"ticks\":\"\"}},\"type\":\"scatter3d\"}],\"scattercarpet\":[{\"marker\":{\"colorbar\":{\"outlinewidth\":0,\"ticks\":\"\"}},\"type\":\"scattercarpet\"}],\"scattergeo\":[{\"marker\":{\"colorbar\":{\"outlinewidth\":0,\"ticks\":\"\"}},\"type\":\"scattergeo\"}],\"scattergl\":[{\"marker\":{\"colorbar\":{\"outlinewidth\":0,\"ticks\":\"\"}},\"type\":\"scattergl\"}],\"scattermapbox\":[{\"marker\":{\"colorbar\":{\"outlinewidth\":0,\"ticks\":\"\"}},\"type\":\"scattermapbox\"}],\"scatterpolar\":[{\"marker\":{\"colorbar\":{\"outlinewidth\":0,\"ticks\":\"\"}},\"type\":\"scatterpolar\"}],\"scatterpolargl\":[{\"marker\":{\"colorbar\":{\"outlinewidth\":0,\"ticks\":\"\"}},\"type\":\"scatterpolargl\"}],\"scatterternary\":[{\"marker\":{\"colorbar\":{\"outlinewidth\":0,\"ticks\":\"\"}},\"type\":\"scatterternary\"}],\"surface\":[{\"colorbar\":{\"outlinewidth\":0,\"ticks\":\"\"},\"colorscale\":[[0.0,\"#0d0887\"],[0.1111111111111111,\"#46039f\"],[0.2222222222222222,\"#7201a8\"],[0.3333333333333333,\"#9c179e\"],[0.4444444444444444,\"#bd3786\"],[0.5555555555555556,\"#d8576b\"],[0.6666666666666666,\"#ed7953\"],[0.7777777777777778,\"#fb9f3a\"],[0.8888888888888888,\"#fdca26\"],[1.0,\"#f0f921\"]],\"type\":\"surface\"}],\"table\":[{\"cells\":{\"fill\":{\"color\":\"#EBF0F8\"},\"line\":{\"color\":\"white\"}},\"header\":{\"fill\":{\"color\":\"#C8D4E3\"},\"line\":{\"color\":\"white\"}},\"type\":\"table\"}]},\"layout\":{\"annotationdefaults\":{\"arrowcolor\":\"#2a3f5f\",\"arrowhead\":0,\"arrowwidth\":1},\"autotypenumbers\":\"strict\",\"coloraxis\":{\"colorbar\":{\"outlinewidth\":0,\"ticks\":\"\"}},\"colorscale\":{\"diverging\":[[0,\"#8e0152\"],[0.1,\"#c51b7d\"],[0.2,\"#de77ae\"],[0.3,\"#f1b6da\"],[0.4,\"#fde0ef\"],[0.5,\"#f7f7f7\"],[0.6,\"#e6f5d0\"],[0.7,\"#b8e186\"],[0.8,\"#7fbc41\"],[0.9,\"#4d9221\"],[1,\"#276419\"]],\"sequential\":[[0.0,\"#0d0887\"],[0.1111111111111111,\"#46039f\"],[0.2222222222222222,\"#7201a8\"],[0.3333333333333333,\"#9c179e\"],[0.4444444444444444,\"#bd3786\"],[0.5555555555555556,\"#d8576b\"],[0.6666666666666666,\"#ed7953\"],[0.7777777777777778,\"#fb9f3a\"],[0.8888888888888888,\"#fdca26\"],[1.0,\"#f0f921\"]],\"sequentialminus\":[[0.0,\"#0d0887\"],[0.1111111111111111,\"#46039f\"],[0.2222222222222222,\"#7201a8\"],[0.3333333333333333,\"#9c179e\"],[0.4444444444444444,\"#bd3786\"],[0.5555555555555556,\"#d8576b\"],[0.6666666666666666,\"#ed7953\"],[0.7777777777777778,\"#fb9f3a\"],[0.8888888888888888,\"#fdca26\"],[1.0,\"#f0f921\"]]},\"colorway\":[\"#636efa\",\"#EF553B\",\"#00cc96\",\"#ab63fa\",\"#FFA15A\",\"#19d3f3\",\"#FF6692\",\"#B6E880\",\"#FF97FF\",\"#FECB52\"],\"font\":{\"color\":\"#2a3f5f\"},\"geo\":{\"bgcolor\":\"white\",\"lakecolor\":\"white\",\"landcolor\":\"#E5ECF6\",\"showlakes\":true,\"showland\":true,\"subunitcolor\":\"white\"},\"hoverlabel\":{\"align\":\"left\"},\"hovermode\":\"closest\",\"mapbox\":{\"style\":\"light\"},\"paper_bgcolor\":\"white\",\"plot_bgcolor\":\"#E5ECF6\",\"polar\":{\"angularaxis\":{\"gridcolor\":\"white\",\"linecolor\":\"white\",\"ticks\":\"\"},\"bgcolor\":\"#E5ECF6\",\"radialaxis\":{\"gridcolor\":\"white\",\"linecolor\":\"white\",\"ticks\":\"\"}},\"scene\":{\"xaxis\":{\"backgroundcolor\":\"#E5ECF6\",\"gridcolor\":\"white\",\"gridwidth\":2,\"linecolor\":\"white\",\"showbackground\":true,\"ticks\":\"\",\"zerolinecolor\":\"white\"},\"yaxis\":{\"backgroundcolor\":\"#E5ECF6\",\"gridcolor\":\"white\",\"gridwidth\":2,\"linecolor\":\"white\",\"showbackground\":true,\"ticks\":\"\",\"zerolinecolor\":\"white\"},\"zaxis\":{\"backgroundcolor\":\"#E5ECF6\",\"gridcolor\":\"white\",\"gridwidth\":2,\"linecolor\":\"white\",\"showbackground\":true,\"ticks\":\"\",\"zerolinecolor\":\"white\"}},\"shapedefaults\":{\"line\":{\"color\":\"#2a3f5f\"}},\"ternary\":{\"aaxis\":{\"gridcolor\":\"white\",\"linecolor\":\"white\",\"ticks\":\"\"},\"baxis\":{\"gridcolor\":\"white\",\"linecolor\":\"white\",\"ticks\":\"\"},\"bgcolor\":\"#E5ECF6\",\"caxis\":{\"gridcolor\":\"white\",\"linecolor\":\"white\",\"ticks\":\"\"}},\"title\":{\"x\":0.05},\"xaxis\":{\"automargin\":true,\"gridcolor\":\"white\",\"linecolor\":\"white\",\"ticks\":\"\",\"title\":{\"standoff\":15},\"zerolinecolor\":\"white\",\"zerolinewidth\":2},\"yaxis\":{\"automargin\":true,\"gridcolor\":\"white\",\"linecolor\":\"white\",\"ticks\":\"\",\"title\":{\"standoff\":15},\"zerolinecolor\":\"white\",\"zerolinewidth\":2}}},\"xaxis\":{\"anchor\":\"y\",\"domain\":[0.0,1.0],\"title\":{\"text\":\"\"},\"categoryorder\":\"array\",\"categoryarray\":[\"OverTime_Yes\",\"TotalWorkingYears\",\"MonthlyIncome\",\"JobLevel\",\"JobRole_Sales Executive\",\"YearsWithCurrManager\",\"StockOptionLevel\",\"Age\",\"MaritalStatus_Single\",\"YearsAtCompany\",\"YearsInCurrentRole\",\"EnvironmentSatisfaction\",\"BusinessTravel_Travel_Frequently\",\"DistanceFromHome\",\"RelationshipSatisfaction\",\"Department_Sales\",\"Department_Research & Development\",\"JobInvolvement\",\"NumCompaniesWorked\",\"JobSatisfaction\"],\"showgrid\":true,\"gridcolor\":\"#f5f5f5\"},\"yaxis\":{\"anchor\":\"x\",\"domain\":[0.0,1.0],\"title\":{\"text\":\"Importance\"}},\"legend\":{\"title\":{\"text\":\"index\"},\"tracegroupgap\":0},\"margin\":{\"t\":60},\"barmode\":\"relative\",\"title\":{\"text\":\"Top 20 Most Important Predictors of Employee Attrition Based on XGBoost Model\"},\"coloraxis\":{\"showscale\":false},\"font\":{\"color\":\"#303030\"},\"showlegend\":false,\"height\":500,\"paper_bgcolor\":\"white\",\"plot_bgcolor\":\"white\"},                        {\"responsive\": true}                    ).then(function(){\n",
       "                            \n",
       "var gd = document.getElementById('192ebac5-15d0-4371-9823-638be045c188');\n",
       "var x = new MutationObserver(function (mutations, observer) {{\n",
       "        var display = window.getComputedStyle(gd).display;\n",
       "        if (!display || display === 'none') {{\n",
       "            console.log([gd, 'removed!']);\n",
       "            Plotly.purge(gd);\n",
       "            observer.disconnect();\n",
       "        }}\n",
       "}});\n",
       "\n",
       "// Listen for the removal of the full notebook cells\n",
       "var notebookContainer = gd.closest('#notebook-container');\n",
       "if (notebookContainer) {{\n",
       "    x.observe(notebookContainer, {childList: true});\n",
       "}}\n",
       "\n",
       "// Listen for the clearing of the current output cell\n",
       "var outputEl = gd.closest('.output');\n",
       "if (outputEl) {{\n",
       "    x.observe(outputEl, {childList: true});\n",
       "}}\n",
       "\n",
       "                        })                };                });            </script>        </div>"
      ]
     },
     "metadata": {},
     "output_type": "display_data"
    }
   ],
   "source": [
    "# Determine Feature Importance Based on XGBoost Model\n",
    "col=sns.color_palette(\"mako\", 20).as_hex()[::-1]\n",
    "feat=pd.DataFrame({\"Importance\": xgb_cv.best_estimator_.feature_importances_}, index=X_train_scaled.columns\n",
    "                 ).sort_values(by=\"Importance\")\n",
    "plot_df=feat.nlargest(20, columns='Importance').sort_values(by=\"Importance\", ascending=False)\n",
    "fig = px.bar(plot_df, x=plot_df.index, y='Importance', text='Importance', \n",
    "             color=plot_df.index, opacity=0.7, color_discrete_sequence=col)\n",
    "fig.update_traces(texttemplate='%{text:.2f}', textposition='outside',\n",
    "                  marker_line=dict(width=1, color='#3F3B3A'), \n",
    "                  hovertemplate='%{x}<br>Importance = %{y:.2f}')\n",
    "fig.update_layout(title_text='Top 20 Most Important Predictors of Employee Attrition Based on XGBoost Model', \n",
    "                  coloraxis_showscale=False, showlegend=False,font_color=\"#303030\", height = 500,\n",
    "                  paper_bgcolor='white', plot_bgcolor='white', yaxis_title=\"Importance\", \n",
    "                  xaxis = dict(title=\"\", showgrid=True, gridcolor=\"#f5f5f5\"))\n",
    "fig.show()"
   ]
  },
  {
   "cell_type": "markdown",
   "id": "1a5b1e28",
   "metadata": {},
   "source": [
    "**Feature Importance**\n",
    "\n",
    "The top 5 most dominant features or predictors of employee attrition in the XGBoost model were:\n",
    "1. OverTime_Yes\n",
    "2. TotalWorkingYears\n",
    "3. MonthlyIncome\n",
    "4. JobLevel\n",
    "5. JobRole_Sales Executive"
   ]
  },
  {
   "cell_type": "markdown",
   "id": "67334019",
   "metadata": {},
   "source": [
    "## Final Model Selection"
   ]
  },
  {
   "cell_type": "markdown",
   "id": "3858ca8c",
   "metadata": {},
   "source": [
    "### Compare Models"
   ]
  },
  {
   "cell_type": "code",
   "execution_count": 75,
   "id": "0b914862",
   "metadata": {},
   "outputs": [
    {
     "data": {
      "image/png": "[encoded data removed]",
      "text/plain": [
       "<Figure size 1400x600 with 1 Axes>"
      ]
     },
     "metadata": {},
     "output_type": "display_data"
    }
   ],
   "source": [
    "# Create ROC Graph\n",
    "fpr, tpr, thresholds = roc_curve(y_test, log_reg3.predict_proba(X_test_scaled)[:,1])\n",
    "rf_fpr, rf_tpr, rf_thresholds = roc_curve(y_test, rf_clf3.predict_proba(X_test_scaled)[:,1])\n",
    "xgb_fpr, xgb_tpr, xgb_thresholds = roc_curve(y_test, xgb_clf3.predict_proba(X_test_scaled)[:,1])\n",
    "plt.figure(figsize=(14, 6))\n",
    "\n",
    "# Plot Logistic Regression ROC\n",
    "plt.plot(fpr, tpr, label='Logistic Regression (area = %0.2f)' % lr_roc_final)\n",
    "# Plot Random Forest ROC\n",
    "plt.plot(rf_fpr, rf_tpr, label='Random Forest (area = %0.2f)' % rf_roc_final)\n",
    "# Plot XGBoost ROC\n",
    "plt.plot(xgb_fpr, xgb_tpr, label='XGBoost (area = %0.2f)' % xgb_roc_final)\n",
    "# Plot Base Rate ROC\n",
    "plt.plot([0,1], [0,1],label='Base Rate k--')\n",
    "\n",
    "plt.xlim([0.0, 1.0])\n",
    "plt.ylim([0.0, 1.05])\n",
    "plt.xlabel('False Positive Rate')\n",
    "plt.ylabel('True Positive Rate')\n",
    "plt.title('ROC Graph')\n",
    "plt.legend(loc=\"lower right\")\n",
    "plt.show()"
   ]
  },
  {
   "cell_type": "code",
   "execution_count": 88,
   "id": "993ec34a",
   "metadata": {},
   "outputs": [
    {
     "name": "stdout",
     "output_type": "stream",
     "text": [
      "Logistic Regression Model:\n",
      "\n",
      "Testing Result:\n",
      "================================================\n",
      "Accuracy Score: 87.76%\n",
      "_______________________________________________\n",
      "CLASSIFICATION REPORT:\n",
      "              precision    recall  f1-score   support\n",
      "\n",
      "           0       0.90      0.96      0.93       370\n",
      "           1       0.70      0.42      0.53        71\n",
      "\n",
      "    accuracy                           0.88       441\n",
      "   macro avg       0.80      0.69      0.73       441\n",
      "weighted avg       0.86      0.88      0.86       441\n",
      "\n",
      "_______________________________________________\n",
      "Confusion Matrix: \n",
      " [[357  13]\n",
      " [ 41  30]]\n",
      "\n",
      "Logistic Regression AUC Score: 82.32%\n",
      "\n",
      "================================================\n",
      "Random Forest Model:\n",
      "\n",
      "Testing Result:\n",
      "================================================\n",
      "Accuracy Score: 85.71%\n",
      "_______________________________________________\n",
      "CLASSIFICATION REPORT:\n",
      "              precision    recall  f1-score   support\n",
      "\n",
      "           0       0.86      1.00      0.92       370\n",
      "           1       0.90      0.13      0.22        71\n",
      "\n",
      "    accuracy                           0.86       441\n",
      "   macro avg       0.88      0.56      0.57       441\n",
      "weighted avg       0.86      0.86      0.81       441\n",
      "\n",
      "_______________________________________________\n",
      "Confusion Matrix: \n",
      " [[369   1]\n",
      " [ 62   9]]\n",
      "\n",
      "Random Forest AUC Score: 82.16%\n",
      "\n",
      "================================================\n",
      "XGBoost Model:\n",
      "\n",
      "Testing Result:\n",
      "================================================\n",
      "Accuracy Score: 87.98%\n",
      "_______________________________________________\n",
      "CLASSIFICATION REPORT:\n",
      "              precision    recall  f1-score   support\n",
      "\n",
      "           0       0.88      0.99      0.93       370\n",
      "           1       0.88      0.30      0.44        71\n",
      "\n",
      "    accuracy                           0.88       441\n",
      "   macro avg       0.88      0.64      0.69       441\n",
      "weighted avg       0.88      0.88      0.85       441\n",
      "\n",
      "_______________________________________________\n",
      "Confusion Matrix: \n",
      " [[367   3]\n",
      " [ 50  21]]\n",
      "\n",
      "XGBoost AUC Score: 84.03%\n"
     ]
    }
   ],
   "source": [
    "# Print testing results of all models after hyperparameter turning\n",
    "print(\"Logistic Regression Model:\\n\")\n",
    "print_score(log_reg3, X_train_scaled, y_train, X_test_scaled, y_test, train=False)\n",
    "print(f\"Logistic Regression AUC Score: {lr_roc_final * 100:.2f}%\")\n",
    "print(\"\\n================================================\")\n",
    "\n",
    "print(\"Random Forest Model:\\n\")\n",
    "print_score(rf_clf3, X_train_scaled, y_train, X_test_scaled, y_test, train=False)\n",
    "print(f\"Random Forest AUC Score: {rf_roc_final * 100:.2f}%\")\n",
    "print(\"\\n================================================\")\n",
    "\n",
    "print(\"XGBoost Model:\\n\")\n",
    "print_score(xgb_clf3, X_train_scaled, y_train, X_test_scaled, y_test, train=False)\n",
    "print(f\"XGBoost AUC Score: {xgb_roc_final * 100:.2f}%\")"
   ]
  },
  {
   "cell_type": "markdown",
   "id": "a1f26d9e",
   "metadata": {},
   "source": [
    "Based on the accuracy and roc auc score, the model I would choose is the XGBoost Classifier.\n",
    "- The XGBoost Classifer resulted in the highest accuracy score at 87.98% and AUC score of 84.03%\n",
    "- The weighted average precision, recall, and F1 scores are good at 88%, 88%, and 85% respectively."
   ]
  },
  {
   "cell_type": "markdown",
   "id": "e787ffe3",
   "metadata": {},
   "source": [
    "## Summary"
   ]
  },
  {
   "cell_type": "markdown",
   "id": "eb17be33",
   "metadata": {},
   "source": [
    "In this notebook, we explored three different binary classifier models: **Logistic Regression, Random Forest, and XGBoost**.\n",
    "\n",
    "- To start of, the categorical variables were identified and then converted into dummy features. The target variable, Attrition, was also label encoded. \n",
    "- Then, the data was split into training and test data subsets with a 70/30 split. \n",
    "- In order to standardize the magntiude of all the numerical features, a standard scaler was first fitting based on the training data and then the scaler was applied to both the training and testing sets. \n",
    "- The first model that was implemented was the logistic regression model. The first iteration of the logistic regression model resulted in a training accuracy of 90.28% and testing accuracy of 86.62%. After hyperparameter tuning the model, the testing accuracy increased to 87.76%, but the ROC AUC score decreased from 82.57% to 82.32% which suggests the fine tuned logistic regression model may have overfitted the data.\n",
    "- The random forest classifier model was the second algorithm applied. The first iteration of the random forest classifier model resulted in a training accuracy of 100% and a testing accuracy of 85.49%. While the training accuracy is excellent, the 14.5% difference in training and testing accuracy suggests that the model overfitted the data. Simiarly to the logistic regression model, the finely tuned random forest classifier model had a higher testing accuracy score at 85.71%, but the ROC AUC score slightly declined from first iteration of 82.91% to 82.16%. Based on the random forest model, the top 5 most important features were: OverTime_Yes, MonthlyIncome, Age, TotalWorkingYears, and DistanceFromHome.\n",
    "- The third model implemented was the XGBoost classifier model. The first iteration of the XGBoost classifier model resulted in a training accuracy of 100% and a testing accuracy of 85.49%. After fine-tuning the model, the testing accuracy increased by 2.49%, which resulted in 89.31% training accuracy and 87.98% testing accuracy. The ROC AUC score also improved by 1.45% (from 85.58% to 84.03%). \n",
    "\n",
    "The final model that I think is the best model for this project is the **XGBoost Classifier model**. \n",
    "- This model resulted in the highest overall accuracy and AUC scores. \n",
    "-The weighted average precision, recall, and F1 scores are good at 88%, 88%, and 85% respectively.\n",
    "\n",
    "When looking at the confusion matrix for the fine-tuned XGBoost classifer model: \n",
    "- We can see that when we predict employee attrition, about 13% (3 of 24) of the time we are predicting a false positive.\n",
    "- While the false negatives (predicting an employee will attrition, when in fact they are staying) is about 12% (50 of 417)."
   ]
  },
  {
   "cell_type": "markdown",
   "id": "a9d228d0",
   "metadata": {},
   "source": [
    "## Employee Attrition Plan"
   ]
  },
  {
   "cell_type": "markdown",
   "id": "41112e00",
   "metadata": {},
   "source": [
    "Based on the final model, the top 5 most important predictors/features of employee attrition are:\n",
    "1. **OverTime_Yes**: employees who work overtime are most likely to leave the company.\n",
    "2. **TotalWorkingYears**: employees with more total working years or work experience are less likely to attrition. \n",
    "3. **MonthlyIncome**: employees with higher monthly income or high wages are less likely to leave the company. \n",
    "4. **JobLevel**: employees with a higher job level are less likely to attrition from the company.\n",
    "5. **JobRole_Sales Executive**: sales executive employees are most likely to attrition from company compared to employees with other job roles. \n",
    "\n",
    "With that said, we can develop a strategic retention plan based on these strong indicators of employees potentially leaving the company:\n",
    "- ***Address Overworking:*** Implement policies and procedures to reduce excessive overtime and promote a healthy work-life balance for employees. This could include setting clear limits on the number of hours employees are expected to work each week, providing paid time off and other incentives to encourage employees to take time off when needed, and promoting the use of flexible schedules to help employees manage their workloads.\n",
    "- ***Evaluate Compensation:*** Review the compensation packages offered to employees, with a particular focus on those in _sales executive roles_. Ensure that the compensation is competitive and provides a sufficient financial incentive for employees to remain with the company. Consider implementing a merit-based pay structure that rewards high-performing employees.\n",
    "- ***Foster Career Growth:*** Offer professional development opportunities, such as training and mentorship programs, to help employees progress in their careers, and increase their job level. Provide clear pathways for employees to advance within the company and communicate expectations for promotions. \n",
    "- ***Improve Job Satisfaction:*** Conduct regular surveys to understand employees' perceptions of the company, their job roles, and the work environment. Use this information to identify areas where improvements can be made and take steps to address any concerns.\n",
    "- ***Offer Employee Benefits:*** Evaluate the employee benefits offered by the company, including health insurance, retirement plans, and paid time off, and ensure that they are competitive with those offered by other companies in the industry.\n",
    "\n",
    "By addressing these key drivers of employee attrition, a company can improve employee satisfaction, increase retention, and reduce the cost and impact of high turnover rates."
   ]
  }
 ],
 "metadata": {
  "kernelspec": {
   "display_name": "Python 3 (ipykernel)",
   "language": "python",
   "name": "python3"
  },
  "language_info": {
   "codemirror_mode": {
    "name": "ipython",
    "version": 3
   },
   "file_extension": ".py",
   "mimetype": "text/x-python",
   "name": "python",
   "nbconvert_exporter": "python",
   "pygments_lexer": "ipython3",
   "version": "3.9.12"
  }
 },
 "nbformat": 4,
 "nbformat_minor": 5
}
